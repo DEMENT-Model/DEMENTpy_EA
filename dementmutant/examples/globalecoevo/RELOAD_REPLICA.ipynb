{
 "cells": [
  {
   "cell_type": "code",
   "execution_count": null,
   "id": "29068b95",
   "metadata": {},
   "outputs": [],
   "source": [
    "%config Completer.use_jedi=False\n",
    "\n",
    "import sys\n",
    "import os\n",
    "import glob\n",
    "import matplotlib.pyplot as plt\n",
    "import numpy as np\n",
    "from scipy.stats import rankdata\n",
    "import scipy.optimize\n",
    "sys.path.append('../../')\n",
    "\n",
    "def get_line_type(fname):\n",
    "    if (fname in ['microbes','monomers','substrates','degradation_enzymes']):\n",
    "        res = '-'\n",
    "    else:\n",
    "        res = '--'\n",
    "    return res\n",
    "from refsimu import reload_simulation\n",
    "from refsimu import microbe_pop_on"
   ]
  },
  {
   "cell_type": "code",
   "execution_count": null,
   "id": "a2605c6a",
   "metadata": {},
   "outputs": [],
   "source": [
    "def linreg_2d(x1,x2,y):\n",
    "    A = np.zeros((x1.shape[0],3))\n",
    "    A[:,0] = 1\n",
    "    A[:,1] = x1\n",
    "    A[:,2] = x2\n",
    "    res = scipy.optimize.nnls(A,y)\n",
    "    return res"
   ]
  },
  {
   "cell_type": "code",
   "execution_count": null,
   "id": "815a7d26",
   "metadata": {},
   "outputs": [],
   "source": [
    "N = 64\n",
    "x1 = np.random.rand(N)\n",
    "x2 = np.random.rand(N)\n",
    "y = 3 + 2.0*x1 + 5.0 * x2\n",
    "machin = linreg_2d(x1,x2,y)\n",
    "print(machin)"
   ]
  },
  {
   "cell_type": "code",
   "execution_count": null,
   "id": "1d82d581",
   "metadata": {},
   "outputs": [],
   "source": [
    "microbe_pop_on()"
   ]
  },
  {
   "cell_type": "code",
   "execution_count": null,
   "id": "ba077c9a",
   "metadata": {},
   "outputs": [],
   "source": [
    "# base_dir = './BIDULETESTMEM/' # CHANGE FOR YOUR OWN \n",
    "base_dir = './TRUC/'\n",
    "sdirs = [f for f in glob.glob(os.path.join(base_dir,'*')) if os.path.isdir(f)]\n",
    "dlists = {}\n",
    "for sdir in sdirs:\n",
    "#     print(sdir)\n",
    "    skey = '_'.join(os.path.basename(sdir).split('_')[1:3])\n",
    "#     print(skey)\n",
    "    dlist = glob.glob(os.path.join(sdir,'replica_*'))\n",
    "    dlist = [d for d in dlist if os.path.isdir(d)]\n",
    "    dlists[skey] = dlist\n",
    "\n",
    "# dictionnary dlists is keyed by names of the base_dir subdirectories ( CELLULOSE conditions), the values are lists\n",
    "# of the subdirectories containing the various replica\n",
    "for k,d in dlists.items():\n",
    "    print('*'*20,'\\n',k)\n",
    "    for i,r in enumerate(d):\n",
    "        print(i,r)"
   ]
  },
  {
   "cell_type": "code",
   "execution_count": null,
   "id": "d8a526cd",
   "metadata": {},
   "outputs": [],
   "source": [
    "rep_dir = dlists['GRASSLAND_NoMut'][0] # select condition and replica \n",
    "print('Reloading from {}'.format(rep_dir))\n",
    "eco = reload_simulation(rep_dir,-1)\n",
    "# print(eco.grid_shape)\n",
    "\n",
    "diagcollector = eco.get_diag_collector()\n",
    "tl_files = sorted(glob.glob('{}/timelines_dump_*.hdf5'.format(rep_dir)))\n",
    "# print(tl_files)\n",
    "dump_file = tl_files[0]\n",
    "diagcollector.load_from_dumpfile(dump_file)\n",
    "tla_comp_space = diagcollector.get_timeline_arrays('space_comp_sum', tag_filter_func= lambda t: 'pool' in t and 'input' not in t)\n",
    "tla_comp_space_external =  diagcollector.get_timeline_arrays('space_comp_sum', tag_filter_func= lambda t: 'pool' in t and 'input'  in t)\n",
    "tla_recycling = diagcollector.get_timeline_arrays('space_comp_sum',tag_filter_func=lambda t:'stoechio_balance_recycler' in t)\n",
    "tla_mortality = diagcollector.get_timeline_arrays('space_comp_sum',tag_filter_func=lambda t:'mortality_op' in t)\n",
    "tla_bytype = diagcollector.get_timeline_arrays('sum_by_type')\n",
    "tla_ncells = diagcollector.get_timeline_arrays('ncells')\n",
    "tla_sub = diagcollector.get_timeline_arrays('space_sum',tag_filter_func=lambda t:'substrates' in t)\n",
    "tla_enz = diagcollector.get_timeline_arrays('space_sum',tag_filter_func=lambda t:'degradation_enzymes' in t)\n",
    "tla_mon = diagcollector.get_timeline_arrays('space_sum',tag_filter_func=lambda t:'monomers' in t)\n",
    "tla_mic = diagcollector.get_timeline_arrays('space_sum',tag_filter_func=lambda t:'microbes' in t)\n",
    "tla_mic_ntax = diagcollector.get_timeline_arrays('ntaxpercell')\n",
    "tla_clim = diagcollector.get_timeline_arrays('Climate')\n",
    "tla_mic_nind = diagcollector.get_timeline_arrays('Quanta')\n",
    "tla_mic_indmass = diagcollector.get_timeline_arrays('LocalTaxIndividualMass')\n",
    "tla_micclasspop = diagcollector.get_timeline_arrays('TaxClassesPop')\n",
    "tla_subclassmass = diagcollector.get_timeline_arrays('SubClassesTMass')\n",
    "tla_enzclassmass = diagcollector.get_timeline_arrays('EnzClassesTMass')"
   ]
  },
  {
   "cell_type": "code",
   "execution_count": null,
   "id": "6580ff12",
   "metadata": {},
   "outputs": [],
   "source": [
    "tmin = 0\n",
    "tmax = -1\n",
    "# tmin = 365*20\n",
    "# tmax = tmin+(6) * 365"
   ]
  },
  {
   "cell_type": "code",
   "execution_count": null,
   "id": "8607829b",
   "metadata": {},
   "outputs": [],
   "source": [
    "tla_mem = diagcollector.get_timeline_arrays('Memory')\n",
    "print(tla_mem.keys())\n",
    "for k,d in tla_mem.items():\n",
    "    fig,ax = plt.subplots(1,1,figsize=(12,3))\n",
    "    ax.plot(d['times'],d['values'] / (2**20))\n",
    "    ax.grid()\n",
    "    ax.set_ylabel('Mo')\n",
    "    ax.set_title(k)\n",
    "# fig,ax = plt.subplots(1,1,figsize=(12,3))\n",
    "# ax.plot(tla_mem['ru_maxrss']['times'],tla_mem['ru_maxrss']['values'])\n",
    "# ax.grid()"
   ]
  },
  {
   "cell_type": "code",
   "execution_count": null,
   "id": "2978768a",
   "metadata": {},
   "outputs": [],
   "source": [
    "def get_yearly_averages(times_day,data):\n",
    "    period = 365\n",
    "    tyear_full = times_day.astype(int) // 365\n",
    "    tyear_comp = np.sort(np.unique(tyear_full))\n",
    "    data_comp_shap = tyear_comp.shape + data.shape[1:]\n",
    "    data_comp = np.zeros(data_comp_shap,dtype=data.dtype)\n",
    "    for iy,year in enumerate(tyear_comp):\n",
    "        filt = tyear_full == year\n",
    "        data_comp[iy,...] = np.mean(data[filt,...],axis=0)\n",
    "    return tyear_comp,data_comp"
   ]
  },
  {
   "cell_type": "code",
   "execution_count": null,
   "id": "011e584c",
   "metadata": {},
   "outputs": [],
   "source": [
    "fig,ax = plt.subplots(1,1, figsize=(12,5))\n",
    "for k,d in tla_micclasspop.items():\n",
    "    ax.plot(d['times'],d['values'],label=k)\n",
    "ax.set_xlabel('time (days)')\n",
    "ax.set_ylabel('Population')\n",
    "ymin,ymax = ax.get_ylim()\n",
    "ax.set_ylim(0,ymax)\n",
    "ax.legend();\n",
    "ax.grid();\n"
   ]
  },
  {
   "cell_type": "code",
   "execution_count": null,
   "id": "6ccc4bb4",
   "metadata": {},
   "outputs": [],
   "source": [
    "fig,ax = plt.subplots(1,1, figsize=(12,5))\n",
    "for k,d in tla_micclasspop.items():\n",
    "    tt,dd = get_yearly_averages(d['times'],d['values'])\n",
    "    ax.plot(tt,dd,'-o',label=k)\n",
    "ax.set_xlabel('time (years)')\n",
    "ax.set_ylabel('Population (yearly average)')\n",
    "ymin,ymax = ax.get_ylim()\n",
    "ax.set_ylim(0,ymax)\n",
    "ax.legend();\n",
    "ax.grid();"
   ]
  },
  {
   "cell_type": "code",
   "execution_count": null,
   "id": "ad0b6225",
   "metadata": {},
   "outputs": [],
   "source": [
    "fig,ax = plt.subplots(1,1, figsize=(12,5))\n",
    "tt = [d['times'] for d in tla_subclassmass.values()]\n",
    "vv = np.row_stack([d['values'][:,0] for d in tla_subclassmass.values()])\n",
    "kk = list(tla_subclassmass.keys())\n",
    "ax.stackplot(tt[0],vv,labels=kk)\n",
    "# for k,d in tla_subclassmass.items():\n",
    "#     ax.plot(d['times'],d['values'],label=k)\n",
    "ax.set_xlabel('time (days)')\n",
    "ax.set_ylabel('Total mass')\n",
    "ax.set_title('Litter Composition')\n",
    "ymin,ymax = ax.get_ylim()\n",
    "ax.set_ylim(0,ymax)\n",
    "ax.legend();\n",
    "ax.grid();"
   ]
  },
  {
   "cell_type": "code",
   "execution_count": null,
   "id": "d031ad14",
   "metadata": {},
   "outputs": [],
   "source": [
    "fig,ax = plt.subplots(1,1, figsize=(12,5))\n",
    "ttvv = [get_yearly_averages(d['times'],d['values'][:,0]) for d in tla_subclassmass.values()]\n",
    "vv = np.row_stack([d[1] for d in ttvv])\n",
    "kk = list(tla_subclassmass.keys())\n",
    "ax.stackplot(ttvv[0][0],vv,labels=kk)\n",
    "# for k,d in tla_subclassmass.items():\n",
    "#     ax.plot(d['times'],d['values'],label=k)\n",
    "ax.set_xlabel('time (year)')\n",
    "ax.set_ylabel('Total mass (yearly average)')\n",
    "ax.set_title('Litter Composition')\n",
    "ymin,ymax = ax.get_ylim()\n",
    "ax.set_ylim(0,ymax)\n",
    "ax.legend();\n",
    "ax.grid();"
   ]
  },
  {
   "cell_type": "code",
   "execution_count": null,
   "id": "2cabfb82",
   "metadata": {},
   "outputs": [],
   "source": [
    "fig,ax = plt.subplots(1,1, figsize=(12,5))\n",
    "for k,d in tla_subclassmass.items():\n",
    "    ax.plot(d['times'],d['values'],label=k)\n",
    "ax.set_xlabel('time (days)')\n",
    "ax.set_ylabel('Total mass')\n",
    "ymin,ymax = ax.get_ylim()\n",
    "ax.set_ylim(0,ymax)\n",
    "ax.legend();\n",
    "ax.grid();"
   ]
  },
  {
   "cell_type": "code",
   "execution_count": null,
   "id": "bc948798",
   "metadata": {},
   "outputs": [],
   "source": [
    "fig,ax = plt.subplots(1,1, figsize=(12,5))\n",
    "for k,d in tla_subclassmass.items():\n",
    "    tt,dd = get_yearly_averages(d['times'],d['values'])\n",
    "    ax.plot(tt,dd,label=k)\n",
    "ax.set_xlabel('time (year)')\n",
    "ax.set_ylabel('Total mass (yearly average)')\n",
    "ymin,ymax = ax.get_ylim()\n",
    "ax.set_ylim(0,ymax)\n",
    "ax.legend();\n",
    "ax.grid();"
   ]
  },
  {
   "cell_type": "code",
   "execution_count": null,
   "id": "3571deac",
   "metadata": {},
   "outputs": [],
   "source": [
    "def get_neg_logdecay(v):\n",
    "    pfilt = v > 0\n",
    "    lgv = np.zeros_like(v)\n",
    "    lgv[pfilt] = np.log(v[pfilt])\n",
    "    dlgv = np.gradient(lgv)\n",
    "    dlgv[dlgv > 0] = 0\n",
    "    return -dlgv\n",
    "\n",
    "fig,ax = plt.subplots(1,1, figsize=(12,5))\n",
    "for k,d in tla_subclassmass.items():\n",
    "    ax.plot(d['times'],get_neg_logdecay(d['values'][:,0]),label=k)\n",
    "ax.set_xlabel('time (days)')\n",
    "ax.set_ylabel('Total mass decay rate')\n",
    "ymin,ymax = ax.get_ylim()\n",
    "ax.set_ylim(0,ymax)\n",
    "ax.legend();\n",
    "ax.grid();"
   ]
  },
  {
   "cell_type": "markdown",
   "id": "9667686a",
   "metadata": {},
   "source": [
    "$$\n",
    "d_t S = -V_m \\frac{S}{K_m +S}\n",
    "$$\n",
    "$$\n",
    "d_t \\ln(S) = -\\frac{V_m}{{K_m +S}}\n",
    "$$\n",
    "\n",
    "$$\n",
    "d_t \\ln(S)(K_m + S) = -V_m\n",
    "$$\n",
    "$$\n",
    "S d_t \\ln(S) = -V_m(E(t))  - K_m d_t \\ln(S)\n",
    "$$\n",
    "\n",
    "$$\n",
    "\\frac{\n",
    "S d_t \\ln(S)\n",
    "}{E}= -\\frac{V_m(E(t))}{E}  - K_m \\frac{d_t \\ln(S)}{E}\n",
    "$$\n",
    "$$\n",
    "Y = \\frac{d_t \\ln(S)}{E}\n",
    "$$\n",
    "\n",
    "$$\n",
    "\\frac{V_m}{E} \\approx V_0\n",
    "$$\n",
    "$$\n",
    "S * Y = -V_0 - K_m Y\n",
    "$$"
   ]
  },
  {
   "cell_type": "code",
   "execution_count": null,
   "id": "bb1ab8b4",
   "metadata": {},
   "outputs": [],
   "source": [
    "fig,ax = plt.subplots(1,1, figsize=(12,5))\n",
    "for k,d in tla_subclassmass.items():\n",
    "    tt,dd = get_yearly_averages(d['times'],d['values'][:,0])\n",
    "    ax.plot(tt,get_neg_logdecay(dd),label=k)\n",
    "ax.set_xlabel('time (year)')\n",
    "ax.set_ylabel('Total mass decay rate')\n",
    "ymin,ymax = ax.get_ylim()\n",
    "ax.set_ylim(0,ymax)\n",
    "ax.legend();\n",
    "ax.grid();"
   ]
  },
  {
   "cell_type": "code",
   "execution_count": null,
   "id": "ad7b30a8",
   "metadata": {},
   "outputs": [],
   "source": [
    "fix,axes = plt.subplots(1,3,figsize=(14,4))\n",
    "for (k,d),ax in zip(tla_subclassmass.items(),axes):\n",
    "    S = d['values'][tmin:tmax,0]\n",
    "    mdolgS = get_neg_logdecay(S)\n",
    "    ax.scatter(mdolgS,mdolgS *S,c = d['times'][tmin:tmax],s=0.1)\n",
    "    ax.set_xlabel(r'$-d_t \\ln(S)$')\n",
    "    ax.set_ylabel(r'$-d_t \\ln(S)*S$')\n",
    "    ax.set_title(k)\n"
   ]
  },
  {
   "cell_type": "code",
   "execution_count": null,
   "id": "ea4be022",
   "metadata": {},
   "outputs": [],
   "source": [
    "fig,ax = plt.subplots(1,1, figsize=(12,5))\n",
    "for k,d in tla_enzclassmass.items():\n",
    "    ax.plot(d['times'],d['values'],label=k)\n",
    "ax.set_xlabel('time (days)')\n",
    "ax.set_ylabel('Enzyme Total mass')\n",
    "ymin,ymax = ax.get_ylim()\n",
    "ax.set_ylim(0,ymax)\n",
    "ax.legend();\n",
    "ax.grid();"
   ]
  },
  {
   "cell_type": "code",
   "execution_count": null,
   "id": "b2b47d11",
   "metadata": {},
   "outputs": [],
   "source": [
    "fix,axes = plt.subplots(1,3,figsize=(14,4))\n",
    "tmin = 2\n",
    "tmax =-1\n",
    "for (k,d),ax in zip(tla_subclassmass.items(),axes):\n",
    "    S = d['values'][tmin:tmax,0]\n",
    "    E = tla_enzclassmass[k]['values'][tmin:tmax,0]\n",
    "    Y = get_neg_logdecay(S) / E\n",
    "    ax.scatter(Y,Y*S,c = d['times'][tmin:tmax],s = 0.1)\n",
    "    ax.set_xlabel(r'$(-d_t \\ln(S)/E)$')\n",
    "    ax.set_ylabel(r'$(-d_t \\ln(S)/E)*S$')\n",
    "    ax.set_title(k)\n",
    "    ax.grid()"
   ]
  },
  {
   "cell_type": "code",
   "execution_count": null,
   "id": "6a008648",
   "metadata": {},
   "outputs": [],
   "source": [
    "f = eco.functions_module.taxon_selection_map\n",
    "tax_classes = {k : np.array([i for i in range(eco.microbes.n_taxa) if f(i)[0]== k])\n",
    "               for k in ['MICr','MICk']}\n",
    "tax_Cmass_by_class = {}\n",
    "for kclass, tax_sel in tax_classes.items():\n",
    "    tax_Cmass_by_class[kclass] = np.sum(tla_mic['microbes']['values'][:,:,0][:,tax_sel],axis=-1)\n",
    "tax_Cmass_by_class['MICr+MICk'] = tax_Cmass_by_class['MICr'] + tax_Cmass_by_class['MICk']"
   ]
  },
  {
   "cell_type": "code",
   "execution_count": null,
   "id": "d3faff3d",
   "metadata": {},
   "outputs": [],
   "source": [
    "ne = len(tla_enzclassmass)\n",
    "nt = len(tax_Cmass_by_class)\n",
    "itmin = 2000\n",
    "itmax = -1\n",
    "# print(ne,nt)\n",
    "fig, axes = plt.subplots(ne,nt,figsize=(4*nt,3*ne))\n",
    "for ie,(ke,de) in enumerate(tla_enzclassmass.items()):\n",
    "    for it,(kt,dt) in enumerate(tax_Cmass_by_class.items()):\n",
    "#         print(it,kt)\n",
    "#         print(dt['values'].shape)\n",
    "        axes[ie,it].scatter(dt[itmin:itmax],\n",
    "                            de['values'][itmin:itmax],\n",
    "                            c=de['times'][itmin:itmax],s=0.5)\n",
    "#         print(de['values'].shape)\n",
    "#         print(dt.shape)\n",
    "        \n",
    "        tmp_reg  = scipy.stats.linregress(dt[itmin:itmax],de['values'][itmin:itmax,0])\n",
    "#         print(tmp_reg)\n",
    "        prev = tmp_reg.intercept + tmp_reg.slope * dt[itmin:itmax]\n",
    "        axes[ie,it].plot(dt[itmin:itmax],prev,'--',label='slope {:e}'.format(tmp_reg.slope))\n",
    "        axes[ie,it].set_xlabel('Cmass {}'.format(kt))\n",
    "        axes[ie,it].set_ylabel('Enz {}'.format(ke))\n",
    "        axes[ie,it].grid()\n",
    "        axes[ie,it].legend()\n",
    "fig.tight_layout()\n",
    "plt.show()\n",
    "plt.close(fig)"
   ]
  },
  {
   "cell_type": "code",
   "execution_count": null,
   "id": "3dea425b",
   "metadata": {},
   "outputs": [],
   "source": [
    "regs_2d = {}\n",
    "for ie,(ke,de) in enumerate(tla_enzclassmass.items()):\n",
    "    print(ie,ke)\n",
    "    y = de['values'][:,0]\n",
    "    x1 = tax_Cmass_by_class['MICr'][:]\n",
    "    x2 = tax_Cmass_by_class['MICk'][:]\n",
    "    res = linreg_2d(x1,x2,y)\n",
    "    print(res)\n",
    "    coeffs = res[0]\n",
    "    pred = coeffs[0] + coeffs[1] * x1 + coeffs[2] * x2\n",
    "    regs_2d[ke] = pred"
   ]
  },
  {
   "cell_type": "code",
   "execution_count": null,
   "id": "e69882f3",
   "metadata": {},
   "outputs": [],
   "source": [
    "print(regs_2d.keys())"
   ]
  },
  {
   "cell_type": "code",
   "execution_count": null,
   "id": "ae0c4d1e",
   "metadata": {},
   "outputs": [],
   "source": [
    "fix,axes = plt.subplots(1,3,figsize=(14,4))\n",
    "tmin = 1000\n",
    "tmax =-1\n",
    "for (k,d),ax in zip(tla_subclassmass.items(),axes):\n",
    "    S = d['values'][tmin:tmax,0]\n",
    "#     E = tla_enzclassmass[k]['values'][tmin:tmax,0]\n",
    "    E = regs_2d[k][tmin:tmax]\n",
    "    Y = get_neg_logdecay(S) / E\n",
    "    ax.scatter(Y,Y*S,c = d['times'][tmin:tmax],s = 0.1)\n",
    "    tmp_reg  = scipy.stats.linregress(Y[tmin:tmax],(Y*S)[tmin:tmax])\n",
    "    ymin,ymax = ax.get_ylim()\n",
    "    xmin,xmax = ax.get_xlim()\n",
    "    reg_pred = tmp_reg.intercept  + tmp_reg.slope * Y[tmin:tmax]\n",
    "    ax.plot(Y[tmin:tmax],reg_pred,'--',lw=0.5)\n",
    "    ax.set_xlim(xmin,xmax)\n",
    "    ax.set_ylim(ymin,ymax)\n",
    "    ax.set_xlabel(r'$(-d_t \\ln(S)/E)$')\n",
    "    ax.set_ylabel(r'$(-d_t \\ln(S)/E)*S$')\n",
    "    ax.set_title(k)\n",
    "    ax.grid()"
   ]
  },
  {
   "cell_type": "code",
   "execution_count": null,
   "id": "50fe2422",
   "metadata": {},
   "outputs": [],
   "source": [
    "fig,ax = plt.subplots(1,1,figsize=(12,4))\n",
    "for itax in range(tla_mic_nind['microbes']['values'].shape[1]):\n",
    "    ax.plot(tla_mic_nind['microbes']['times'],tla_mic_nind['microbes']['values'][:,itax],label='Taxon {}'.format(itax)\n",
    "           )\n",
    "# ax.legend()\n",
    "ax.grid()"
   ]
  },
  {
   "cell_type": "code",
   "execution_count": null,
   "id": "49afcb21",
   "metadata": {},
   "outputs": [],
   "source": [
    "fig,ax = plt.subplots(1,1,figsize=(12,4))\n",
    "tt,dd = get_yearly_averages(tla_mic_nind['microbes']['times'], tla_mic_nind['microbes']['values'])\n",
    "for itax in range(tla_mic_nind['microbes']['values'].shape[1]):\n",
    "#     ax.plot(tla_mic_nind['microbes']['times'],tla_mic_nind['microbes']['values'][:,itax],label='Taxon {}'.format(itax)\n",
    "#            )\n",
    "    ax.plot(tt,dd[:,itax],label='Taxon {}'.format(itax)\n",
    "           )\n",
    "# ax.legend()\n",
    "ax.grid()"
   ]
  },
  {
   "cell_type": "code",
   "execution_count": null,
   "id": "3a0e1f45",
   "metadata": {},
   "outputs": [],
   "source": [
    "fig,ax = plt.subplots(1,1,figsize=(12,4))\n",
    "ax.plot(tla_mic_nind['microbes']['times'],np.sum(tla_mic_nind['microbes']['values'],axis=(-2,-1)))\n",
    "ax.set_xlabel('time')\n",
    "ax.set_title('Nb individuals')\n",
    "ax.grid();"
   ]
  },
  {
   "cell_type": "code",
   "execution_count": null,
   "id": "c752a4c4",
   "metadata": {},
   "outputs": [],
   "source": []
  },
  {
   "cell_type": "code",
   "execution_count": null,
   "id": "7fcf66b6",
   "metadata": {},
   "outputs": [],
   "source": [
    "fig, axes = plt.subplots(2,1, figsize=(12,4))\n",
    "for k, ax in zip(tla_clim.keys(),axes):\n",
    "    ax.plot(tla_clim[k]['times'],tla_clim[k]['values'])\n",
    "    ax.set_xlabel('time')\n",
    "    ax.set_ylabel(k)\n",
    "    ax.grid()"
   ]
  },
  {
   "cell_type": "code",
   "execution_count": null,
   "id": "496dfb6e",
   "metadata": {},
   "outputs": [],
   "source": [
    "fig, axes = plt.subplots(3,1, figsize=(16,18))\n",
    "scal = 1.0 / eco.microbes.grid_size\n",
    "for ia,ax in enumerate(axes):\n",
    "    tmp_sum = None\n",
    "    for k, d in tla_comp_space.items():\n",
    "        if (tmp_sum is None):\n",
    "            tmp_sum = np.zeros_like(d['values'][:,ia])\n",
    "            td = d['times']\n",
    "        ls = get_line_type(k)\n",
    "        ax.plot(d['times'],scal*d['values'][:,ia],ls, label=k)\n",
    "        tmp_sum += d['values'][:, ia]\n",
    "    for k, d in tla_comp_space_external.items():\n",
    "        if (tmp_sum is None):\n",
    "            tmp_sum = np.zeros_like(d['values'][:,ia])\n",
    "            td = d['times']\n",
    "        ls = get_line_type(k)\n",
    "        ax.plot(d['times'],scal*d['values'][:,ia],ls, label=k)\n",
    "        tmp_sum -= d['values'][:, ia]\n",
    "    ax.plot(td,scal*tmp_sum,'.',color='black',lw=0.2,alpha=0.1,label='sum internal - sum sources')\n",
    "    ax.grid()\n",
    "    ax.legend(fontsize=8, ncol=3,loc=1, framealpha=0.5)\n",
    "    ax.set_title('Biomass {}'.format(['C','N','P'][ia]))"
   ]
  },
  {
   "cell_type": "code",
   "execution_count": null,
   "id": "f2352156",
   "metadata": {},
   "outputs": [],
   "source": []
  },
  {
   "cell_type": "code",
   "execution_count": null,
   "id": "7de453ea",
   "metadata": {},
   "outputs": [],
   "source": [
    "fig, ax = plt.subplots(1,1, figsize=(12,4))\n",
    "scal = 1.0 / eco.microbes.grid_size\n",
    "d = tla_comp_space['Respiration_Growth_Induci_Maint']\n",
    "ax.plot(d['times'],d['values'][:,0]*scal)\n",
    "\n",
    "ax.grid()\n",
    "ax.set_title('Respiration Growth Induci Maint')"
   ]
  },
  {
   "cell_type": "code",
   "execution_count": null,
   "id": "8b853110",
   "metadata": {},
   "outputs": [],
   "source": [
    "fig, ax = plt.subplots(1,1)\n",
    "t, dat = tla_mic_ntax['microbes']['times'],tla_mic_ntax['microbes']['values']\n",
    "ax.plot(t,dat[:,0], label='mean')\n",
    "ax.fill_between(t,dat[:,0]-dat[:,1],dat[:,0]+dat[:,1], alpha=0.2)\n",
    "ax.plot(t,dat[:,2], label='min')\n",
    "ax.plot(t,dat[:,3], label='max')\n",
    "ax.grid()\n",
    "ax.set_xlabel('Time')\n",
    "ax.set_ylabel('Live Taxa per grid cell')\n",
    "ax.legend();\n",
    "plt.show()\n",
    "plt.close(fig)\n",
    "#"
   ]
  },
  {
   "cell_type": "code",
   "execution_count": null,
   "id": "ea23cccd",
   "metadata": {},
   "outputs": [],
   "source": [
    "fig, axes = plt.subplots(3,1, figsize=(16,18))\n",
    "scal = 1.0 / eco.microbes.grid_size\n",
    "for ia,ax in enumerate(axes):\n",
    "    for k,d in tla_sub.items():\n",
    "        for isub, subname in enumerate(eco.substrates.names):\n",
    "            if (isub < 2):\n",
    "                ls = '--'\n",
    "            else:\n",
    "                ls = '-'\n",
    "            ax.plot(d['times'][tmin:tmax],scal*d['values'][:,isub,ia][tmin:tmax],ls,label=subname)\n",
    "    ax.legend()\n",
    "    ax.grid()\n",
    "    ax.set_title('Substrate Biomass {}'.format(['C','N','P'][ia]))"
   ]
  },
  {
   "cell_type": "code",
   "execution_count": null,
   "id": "890800ef",
   "metadata": {},
   "outputs": [],
   "source": [
    "# tmin = 30280\n",
    "# tmax = tmin + 730\n",
    "# fig, ax = plt.subplots(1,1, figsize=(16,5))\n",
    "# for k,d in tla_sub.items():\n",
    "#     for isub, subname in enumerate(eco.substrates.names):\n",
    "#         if (isub < 2):\n",
    "#             ls = '--'\n",
    "#         else:\n",
    "#             ls = '-'\n",
    "#         ssub = np.sum(d['values'][:,isub,:],axis=-1)\n",
    "#         drate = np.gradient(np.log(ssub+1.0e-16))\n",
    "#         drate_neg = np.zeros_like(drate)\n",
    "#         drate_neg[drate < 0]= -drate[drate < 0]\n",
    "#         ax.plot(d['times'][tmin:tmax],drate_neg[tmin:tmax],ls,label=subname)\n",
    "# ax.legend()\n",
    "# ax.grid()\n",
    "# ax.set_title('Substrate Negative decay rate')"
   ]
  },
  {
   "cell_type": "code",
   "execution_count": null,
   "id": "122dddea",
   "metadata": {},
   "outputs": [],
   "source": [
    "fig, ax = plt.subplots(1,1, figsize=(12,5))\n",
    "scal = 1.0 / eco.microbes.grid_size\n",
    "for k,d in tla_sub.items():\n",
    "    ax.plot(d['times'][tmin:tmax],scal*np.sum(d['values'][tmin:tmax],axis=(-2,-1)))\n",
    "ax.grid()\n",
    "ax.set_title('Substrate total mass')"
   ]
  },
  {
   "cell_type": "code",
   "execution_count": null,
   "id": "639336e5",
   "metadata": {},
   "outputs": [],
   "source": [
    "# fig, axes = plt.subplots(3,1, figsize=(16,18))\n",
    "# scal = 1.0 / eco.microbes.grid_size\n",
    "# tmin = 0\n",
    "# tmax = -1\n",
    "# for ia,ax in enumerate(axes):\n",
    "#     for k,d in tla_sub.items():\n",
    "\n",
    "#         for isub, subname in enumerate(eco.substrates.names):\n",
    "#             if (subname not in ['DeadMic','DeadEnz']):\n",
    "#                 continue\n",
    "#             if (isub < 2):\n",
    "#                 ls = '--'\n",
    "#             else:\n",
    "#                 ls = '-'\n",
    "#             ax.plot(d['times'][tmin:tmax],scal*d['values'][:,isub,ia][tmin:tmax],ls,label=subname)\n",
    "#     ax.legend()\n",
    "#     ax.grid()\n",
    "#     ax.set_title('Substrate Biomass {}'.format(['C','N','P'][ia]))"
   ]
  },
  {
   "cell_type": "code",
   "execution_count": null,
   "id": "257a1dda",
   "metadata": {},
   "outputs": [],
   "source": [
    "fig, axes = plt.subplots(2,1, figsize=(16,12))\n",
    "scal = 1.0 / eco.microbes.grid_size\n",
    "for ia,ax in enumerate(axes):\n",
    "    for k,d in tla_enz.items():\n",
    "        for ienz, enzname in enumerate(eco.degradation_enzymes.names):\n",
    "            if (ienz < 2):\n",
    "                ls = '--'\n",
    "            else:\n",
    "                ls = '-'\n",
    "            ax.plot(d['times'][tmin:tmax],scal*d['values'][:,ienz,ia][tmin:tmax],ls,label=enzname)\n",
    "    ax.legend()\n",
    "    ax.grid()\n",
    "    ax.set_title('Enzyme Biomass {}'.format(['C','N','P'][ia]))\n",
    "    ax.set_ylim(0,0.25)"
   ]
  },
  {
   "cell_type": "code",
   "execution_count": null,
   "id": "e53b749c",
   "metadata": {},
   "outputs": [],
   "source": [
    "scal = 1.0 / eco.microbes.grid_size\n",
    "for k, d in tla_bytype.items():\n",
    "    mtypes = eco.microbes.get_taxa_types()\n",
    "    print(mtypes)\n",
    "    fig, axes = plt.subplots(3,1, figsize=(14,12))\n",
    "    for ia, ax in enumerate(axes):\n",
    "        ax.set_title('{} {}'.format(k, ['C','N','P'][ia]))\n",
    "        for itype, typ in enumerate(mtypes):\n",
    "            ax.plot(d['times'][tmin:tmax],scal*d['values'][:,itype,ia][tmin:tmax],label=typ)\n",
    "        ax.grid()\n",
    "        ax.legend(fontsize=9)"
   ]
  },
  {
   "cell_type": "code",
   "execution_count": null,
   "id": "42f012c8",
   "metadata": {},
   "outputs": [],
   "source": [
    "%matplotlib inline\n",
    "scal = 1.0 / eco.microbes.grid_size\n",
    "fig = plt.figure(figsize=(16,8))\n",
    "dat = np.sum(tla_mic['microbes']['values'][:,:,:],axis=-1)\n",
    "sdat = np.sum(dat,axis=1)\n",
    "dat = dat / sdat[:,np.newaxis]\n",
    "plt.imshow(dat.T, aspect='auto',origin='lower',interpolation='None', cmap='magma')\n",
    "plt.xlabel('time')\n",
    "plt.ylabel('taxon id')\n",
    "plt.title('Taxon Total mass Relative abundancy')\n",
    "plt.colorbar();"
   ]
  },
  {
   "cell_type": "code",
   "execution_count": null,
   "id": "7784535e",
   "metadata": {},
   "outputs": [],
   "source": [
    "%matplotlib inline\n",
    "scal = 1.0 / eco.microbes.grid_size\n",
    "fig = plt.figure(figsize=(16,8))\n",
    "ntax = tla_mic['microbes']['values'].shape[1]\n",
    "dat = np.sum(tla_mic['microbes']['values'][:,:,:],axis=-1)\n",
    "ranks = rankdata(-dat,method='max', axis=1)\n",
    "plt.imshow(-ranks.T, aspect='auto',origin='lower',interpolation='None', cmap='hot')\n",
    "plt.xlabel('time')\n",
    "plt.ylabel('taxon id')\n",
    "plt.title('Taxon Total mass rank')\n",
    "plt.colorbar();"
   ]
  },
  {
   "cell_type": "code",
   "execution_count": null,
   "id": "d5447d44",
   "metadata": {},
   "outputs": [],
   "source": [
    "%matplotlib inline\n",
    "scal = 1.0 / eco.microbes.grid_size\n",
    "fig = plt.figure(figsize=(16,8))\n",
    "dat = np.sum(tla_mic_nind['microbes']['values'][:,:,:],axis=-1)\n",
    "sdat = np.sum(dat,axis=1)\n",
    "dat = dat / sdat[:,np.newaxis]\n",
    "plt.imshow(dat.T, aspect='auto',origin='lower',interpolation='None', cmap='magma')\n",
    "plt.xlabel('time')\n",
    "plt.ylabel('taxon id')\n",
    "plt.title('Taxon Relative pop (individuals)')\n",
    "plt.colorbar();"
   ]
  },
  {
   "cell_type": "code",
   "execution_count": null,
   "id": "3452feef",
   "metadata": {},
   "outputs": [],
   "source": [
    "%matplotlib inline\n",
    "scal = 1.0 / eco.microbes.grid_size\n",
    "fig = plt.figure(figsize=(16,8))\n",
    "dat = np.sum(tla_mic_nind['microbes']['values'][:,:,:],axis=-1)\n",
    "plt.imshow(dat.T, aspect='auto',origin='lower',interpolation='None', cmap='magma')\n",
    "plt.xlabel('time')\n",
    "plt.ylabel('taxon id')\n",
    "plt.title('Taxon pop (individuals)')\n",
    "plt.colorbar();"
   ]
  },
  {
   "cell_type": "code",
   "execution_count": null,
   "id": "cd50a81b",
   "metadata": {},
   "outputs": [],
   "source": []
  }
 ],
 "metadata": {
  "kernelspec": {
   "display_name": "Python 3 (ipykernel)",
   "language": "python",
   "name": "python3"
  },
  "language_info": {
   "codemirror_mode": {
    "name": "ipython",
    "version": 3
   },
   "file_extension": ".py",
   "mimetype": "text/x-python",
   "name": "python",
   "nbconvert_exporter": "python",
   "pygments_lexer": "ipython3",
   "version": "3.9.13"
  }
 },
 "nbformat": 4,
 "nbformat_minor": 5
}
