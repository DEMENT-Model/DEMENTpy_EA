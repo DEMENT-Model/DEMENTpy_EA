{
 "cells": [
  {
   "cell_type": "code",
   "execution_count": null,
   "id": "2f4ad376",
   "metadata": {},
   "outputs": [],
   "source": [
    "%config Completer.use_jedi=False\n",
    "\n",
    "import sys\n",
    "import glob\n",
    "sys.path.append('../../')\n",
    "\n",
    "import numpy as np\n",
    "import pandas as pd\n",
    "import matplotlib.pyplot as plt\n",
    "from scipy.stats import rankdata\n",
    "\n",
    "from refsimu_singletrait import reload_simulation\n",
    "from refsimu_singletrait import microbe_pop_on\n",
    "\n",
    "\n",
    "def get_line_type(fname):\n",
    "    if (fname in ['microbes','monomers','substrates','degradation_enzymes']):\n",
    "        res = '-'\n",
    "    else:\n",
    "        res = '--'\n",
    "    return res"
   ]
  },
  {
   "cell_type": "code",
   "execution_count": null,
   "id": "7024fc4f",
   "metadata": {},
   "outputs": [],
   "source": [
    "microbe_pop_on()"
   ]
  },
  {
   "cell_type": "code",
   "execution_count": null,
   "id": "10f2ec1d",
   "metadata": {},
   "outputs": [],
   "source": [
    "# Is is assumed here that a simulation has been run and saved in the directory save_dir. \n",
    "\n",
    "save_dir = './simutest_batch' # \n",
    "# save_dir = './simutest_interactive_CELLULOSEX1/'\n",
    "eco = reload_simulation(save_dir, itime=-1)\n",
    "# with itime=-1 ecosystem parameters are load from json file, but biomassfields are set to zero, which allows\n",
    "# to avoid having biomassfields_dump hdf5 files present"
   ]
  },
  {
   "cell_type": "code",
   "execution_count": null,
   "id": "a28476b0",
   "metadata": {},
   "outputs": [],
   "source": [
    "print(eco.microbes.dispersal_op.forced_probas)\n",
    "eco.microbes.dispersal_op.get_dispersal_prob_distrib('bacteria')"
   ]
  },
  {
   "cell_type": "code",
   "execution_count": null,
   "id": "2ece0fe1",
   "metadata": {},
   "outputs": [],
   "source": [
    "diagcollector = eco.get_diag_collector()"
   ]
  },
  {
   "cell_type": "code",
   "execution_count": null,
   "id": "f0c71a29",
   "metadata": {},
   "outputs": [],
   "source": [
    "tl_files = sorted(glob.glob('{}/timelines_dump_*.hdf5'.format(save_dir)))\n",
    "print(tl_files)"
   ]
  },
  {
   "cell_type": "code",
   "execution_count": null,
   "id": "0a2bd070",
   "metadata": {},
   "outputs": [],
   "source": [
    "dump_file = tl_files[0]"
   ]
  },
  {
   "cell_type": "code",
   "execution_count": null,
   "id": "d542e712",
   "metadata": {},
   "outputs": [],
   "source": [
    "diagcollector.load_from_dumpfile(dump_file)"
   ]
  },
  {
   "cell_type": "code",
   "execution_count": null,
   "id": "aa49edea",
   "metadata": {},
   "outputs": [],
   "source": [
    "tla_comp_space = diagcollector.get_timeline_arrays('space_comp_sum', tag_filter_func= lambda t: 'pool' in t and 'input' not in t)\n",
    "tla_comp_space_external =  diagcollector.get_timeline_arrays('space_comp_sum', tag_filter_func= lambda t: 'pool' in t and 'input'  in t)\n",
    "tla_recycling = diagcollector.get_timeline_arrays('space_comp_sum',tag_filter_func=lambda t:'stoechio_balance_recycler' in t)\n",
    "tla_mortality = diagcollector.get_timeline_arrays('space_comp_sum',tag_filter_func=lambda t:'mortality_op' in t)\n",
    "tla_bytype = diagcollector.get_timeline_arrays('sum_by_type')\n",
    "tla_ncells = diagcollector.get_timeline_arrays('ncells')\n",
    "tla_sub = diagcollector.get_timeline_arrays('space_sum',tag_filter_func=lambda t:'substrates' in t)\n",
    "tla_enz = diagcollector.get_timeline_arrays('space_sum',tag_filter_func=lambda t:'degradation_enzymes' in t)\n",
    "tla_mon = diagcollector.get_timeline_arrays('space_sum',tag_filter_func=lambda t:'monomers' in t)\n",
    "tla_mic = diagcollector.get_timeline_arrays('space_sum',tag_filter_func=lambda t:'microbes' in t)\n",
    "tla_mic_ntax = diagcollector.get_timeline_arrays('ntaxpercell')"
   ]
  },
  {
   "cell_type": "code",
   "execution_count": null,
   "id": "89b68420",
   "metadata": {},
   "outputs": [],
   "source": [
    "tla_clim = diagcollector.get_timeline_arrays('Climate')\n",
    "fig, axes = plt.subplots(2,1, figsize=(12,4))\n",
    "for k, ax in zip(tla_clim.keys(),axes):\n",
    "    ax.plot(tla_clim[k]['times'],tla_clim[k]['values'])\n",
    "    ax.set_xlabel('time')\n",
    "    ax.set_ylabel(k)\n",
    "    ax.grid()"
   ]
  },
  {
   "cell_type": "code",
   "execution_count": null,
   "id": "b7f58d15",
   "metadata": {},
   "outputs": [],
   "source": [
    "def get_line_type(fname):\n",
    "    if (fname in ['microbes','monomers','substrates','degradation_enzymes']):\n",
    "        res = '-'\n",
    "    else:\n",
    "        res = '--'\n",
    "    return res\n",
    "\n",
    "fig, axes = plt.subplots(3,1, figsize=(16,18))\n",
    "scal = 1.0 / eco.microbes.grid_size\n",
    "for ia,ax in enumerate(axes):\n",
    "    tmp_sum = None\n",
    "    for k, d in tla_comp_space.items():\n",
    "        if (tmp_sum is None):\n",
    "            tmp_sum = np.zeros_like(d['values'][:,ia])\n",
    "            td = d['times']\n",
    "        ls = get_line_type(k)\n",
    "        ax.plot(d['times'],scal*d['values'][:,ia],ls, label=k)\n",
    "        tmp_sum += d['values'][:, ia]\n",
    "    for k, d in tla_comp_space_external.items():\n",
    "        if (tmp_sum is None):\n",
    "            tmp_sum = np.zeros_like(d['values'][:,ia])\n",
    "            td = d['times']\n",
    "        ls = get_line_type(k)\n",
    "        ax.plot(d['times'],scal*d['values'][:,ia],ls, label=k)\n",
    "        tmp_sum -= d['values'][:, ia]\n",
    "    ax.plot(td,scal*tmp_sum,'.',color='black',lw=0.2,alpha=0.1,label='sum internal - sum sources')\n",
    "    ax.grid()\n",
    "    ax.legend(fontsize=8, ncol=3,loc=1, framealpha=0.5)\n",
    "    ax.set_title('Biomass {}'.format(['C','N','P'][ia]))"
   ]
  },
  {
   "cell_type": "code",
   "execution_count": null,
   "id": "bb787699",
   "metadata": {},
   "outputs": [],
   "source": [
    "fig, ax = plt.subplots(1,1, figsize=(12,4))\n",
    "scal = 1.0 / eco.microbes.grid_size\n",
    "d = tla_comp_space['Respiration_Growth_Induci_Maint']\n",
    "ax.plot(d['times'],d['values'][:,0]*scal)\n",
    "ax.grid()\n",
    "ax.set_title('Respiration Growth Induci Maint')"
   ]
  },
  {
   "cell_type": "code",
   "execution_count": null,
   "id": "a013722c",
   "metadata": {},
   "outputs": [],
   "source": []
  },
  {
   "cell_type": "code",
   "execution_count": null,
   "id": "ca9d13ef",
   "metadata": {},
   "outputs": [],
   "source": []
  },
  {
   "cell_type": "code",
   "execution_count": null,
   "id": "cff281ec",
   "metadata": {},
   "outputs": [],
   "source": [
    "tla_enz_p = diagcollector.get_timeline_arrays('space_sum',tag_filter_func=lambda t:'Degradation_Enzymes' in t)"
   ]
  },
  {
   "cell_type": "code",
   "execution_count": null,
   "id": "b6889fd3",
   "metadata": {},
   "outputs": [],
   "source": [
    "fig, ax = plt.subplots(1,1, figsize=(12,4))\n",
    "scal = 1.0 / eco.microbes.grid_size\n",
    "for k,d in tla_enz_p.items():\n",
    "    ax.plot(d['times'],d['values'][:,0,0]*scal,label=k)\n",
    "ax.grid()\n",
    "ax.legend()"
   ]
  },
  {
   "cell_type": "code",
   "execution_count": null,
   "id": "b448b47b",
   "metadata": {},
   "outputs": [],
   "source": [
    "tla_osmo_p = diagcollector.get_timeline_arrays('space_sum',tag_filter_func=lambda t:'Osmolytes' in t)"
   ]
  },
  {
   "cell_type": "code",
   "execution_count": null,
   "id": "1c8b15ae",
   "metadata": {},
   "outputs": [],
   "source": [
    "fig, ax = plt.subplots(1,1, figsize=(12,4))\n",
    "scal = 1.0 / eco.microbes.grid_size\n",
    "for k,d in tla_osmo_p.items():\n",
    "    ax.plot(d['times'],d['values'][:,0,0]*scal,label=k)\n",
    "ax.grid()\n",
    "ax.legend()"
   ]
  },
  {
   "cell_type": "code",
   "execution_count": null,
   "id": "0155d897",
   "metadata": {},
   "outputs": [],
   "source": [
    "tla_upt_p = diagcollector.get_timeline_arrays('space_sum',tag_filter_func=lambda t:'Uptake_Transporters' in t)"
   ]
  },
  {
   "cell_type": "code",
   "execution_count": null,
   "id": "e4864022",
   "metadata": {},
   "outputs": [],
   "source": [
    "fig, ax = plt.subplots(1,1, figsize=(12,4))\n",
    "scal = 1.0 / eco.microbes.grid_size\n",
    "for k,d in tla_upt_p.items():\n",
    "    ax.plot(d['times'],d['values'][:,0,0]*scal,label=k)\n",
    "ax.grid()\n",
    "ax.legend()"
   ]
  },
  {
   "cell_type": "code",
   "execution_count": null,
   "id": "303200c9",
   "metadata": {},
   "outputs": [],
   "source": [
    "fig, ax = plt.subplots(1,1)\n",
    "t, dat = tla_mic_ntax['microbes']['times'],tla_mic_ntax['microbes']['values']\n",
    "ax.plot(t,dat[:,0], label='mean')\n",
    "ax.fill_between(t,dat[:,0]-dat[:,1],dat[:,0]+dat[:,1], alpha=0.2)\n",
    "ax.plot(t,dat[:,2], label='min')\n",
    "ax.plot(t,dat[:,3], label='max')\n",
    "ax.grid()\n",
    "ax.set_xlabel('Time')\n",
    "ax.set_ylabel('Live Taxa per grid cell')\n",
    "ax.legend();\n",
    "plt.show()\n",
    "plt.close(fig)\n",
    "#"
   ]
  },
  {
   "cell_type": "code",
   "execution_count": null,
   "id": "33084573",
   "metadata": {},
   "outputs": [],
   "source": [
    "fig, axes = plt.subplots(3,1, figsize=(16,18))\n",
    "scal = 1.0 / eco.microbes.grid_size\n",
    "for ia,ax in enumerate(axes):\n",
    "    for k,d in tla_sub.items():\n",
    "        for isub, subname in enumerate(eco.substrates.names):\n",
    "            if (isub < 2):\n",
    "                ls = '--'\n",
    "            else:\n",
    "                ls = '-'\n",
    "            ax.plot(d['times'],scal*d['values'][:,isub,ia],ls,label=subname)\n",
    "    ax.legend()\n",
    "    ax.grid()\n",
    "    ax.set_title('Substrate Biomass {}'.format(['C','N','P'][ia]))"
   ]
  },
  {
   "cell_type": "code",
   "execution_count": null,
   "id": "5f288b48",
   "metadata": {},
   "outputs": [],
   "source": [
    "fig, ax = plt.subplots(1,1, figsize=(14,6))\n",
    "scal = 1.0 / eco.microbes.grid_size\n",
    "for k,d in tla_sub.items():\n",
    "    dat = np.sum(d['values'], axis=-1)\n",
    "    loctot = np.sum(dat, axis=-1)\n",
    "    dat = dat / loctot[:,np.newaxis]\n",
    "    for isub, subname in enumerate(eco.substrates.names):\n",
    "        if (isub < 2):\n",
    "            ls = '--'\n",
    "        else:\n",
    "            ls = '-'\n",
    "        ax.plot(d['times'],dat[:,isub],ls,label=subname)\n",
    "ax.legend(loc=1 ,ncol=6, )\n",
    "ax.grid()\n",
    "ax.set_title('Substrate Relative abundancy');\n"
   ]
  },
  {
   "cell_type": "code",
   "execution_count": null,
   "id": "92f7f34c",
   "metadata": {},
   "outputs": [],
   "source": [
    "fig, axes = plt.subplots(3,1, figsize=(16,18))\n",
    "scal = 1.0 / eco.microbes.grid_size\n",
    "for ia,ax in enumerate(axes):\n",
    "    for k,d in tla_enz.items():\n",
    "        for ienz, enzname in enumerate(eco.degradation_enzymes.names):\n",
    "            if (ienz < 2):\n",
    "                ls = '--'\n",
    "            else:\n",
    "                ls = '-'\n",
    "            ax.plot(d['times'],scal*d['values'][:,ienz,ia],ls,label=enzname)\n",
    "    ax.legend(ncol=6, fontsize=6)\n",
    "    ax.grid()\n",
    "    ax.set_title('Enzymes Biomass {}'.format(['C','N','P'][ia]))"
   ]
  },
  {
   "cell_type": "code",
   "execution_count": null,
   "id": "ba680715",
   "metadata": {},
   "outputs": [],
   "source": [
    "fig, axes = plt.subplots(3,1, figsize=(16,18))\n",
    "scal = 1.0 / eco.microbes.grid_size\n",
    "for ia,ax in enumerate(axes):\n",
    "    for k,d in tla_mon.items():\n",
    "        for imon, monname in enumerate(eco.monomers.names):\n",
    "            if (imon < 4):\n",
    "                ls = '--'\n",
    "            else:\n",
    "                ls = '-'\n",
    "            ax.plot(d['times'],scal*d['values'][:,imon,ia],ls,label=monname)\n",
    "    ax.legend()\n",
    "    ax.grid()\n",
    "    ax.set_title('Monomers Biomass {}'.format(['C','N','P'][ia]))"
   ]
  },
  {
   "cell_type": "code",
   "execution_count": null,
   "id": "5e3f7556",
   "metadata": {},
   "outputs": [],
   "source": [
    "fig, axes = plt.subplots(3,1, figsize=(16,18))\n",
    "scal = 1.0 / eco.microbes.grid_size\n",
    "for ia,ax in enumerate(axes):\n",
    "    for k,d in tla_mon.items():\n",
    "        for imon, monname in enumerate(eco.monomers.names):\n",
    "            if (monname not in (['DeadMic','DeadEnz'])):\n",
    "                continue\n",
    "            if (imon < 4):\n",
    "                ls = '--'\n",
    "            else:\n",
    "                ls = '-'\n",
    "            ax.plot(d['times'],scal*d['values'][:,imon,ia],ls,label=monname)\n",
    "    ax.legend()\n",
    "    ax.grid()\n",
    "    ax.set_title('Monomers Biomass {}'.format(['C','N','P'][ia]))"
   ]
  },
  {
   "cell_type": "code",
   "execution_count": null,
   "id": "80935827",
   "metadata": {},
   "outputs": [],
   "source": [
    "scal = 1.0 / eco.microbes.grid_size\n",
    "for k,d in tla_recycling.items():\n",
    "    fig, ax = plt.subplots(1,1, figsize=(12,6))\n",
    "    for ia in range(3):\n",
    "        ax.plot(d['times'],scal*d['values'][:,ia], label=['C','N','P'][ia])\n",
    "    ax.legend()\n",
    "    ax.set_title(k)\n",
    "    ax.grid()"
   ]
  },
  {
   "cell_type": "code",
   "execution_count": null,
   "id": "3daecea9",
   "metadata": {},
   "outputs": [],
   "source": [
    "scal = 1.0 / eco.microbes.grid_size\n",
    "for k,d in tla_mortality.items():\n",
    "    fig, ax = plt.subplots(1,1, figsize=(12,6))\n",
    "    for ia in range(3):\n",
    "        ax.plot(d['times'],scal*d['values'][:,ia], label=['C','N','P'][ia])\n",
    "    ax.legend()\n",
    "    ax.set_title(k)\n",
    "    ax.grid()"
   ]
  },
  {
   "cell_type": "code",
   "execution_count": null,
   "id": "21e8d8f1",
   "metadata": {},
   "outputs": [],
   "source": [
    "scal = 1.0 / eco.microbes.grid_size\n",
    "for k, d in tla_bytype.items():\n",
    "    mtypes = eco.microbes.get_taxa_types()\n",
    "    print(mtypes)\n",
    "    fig, axes = plt.subplots(3,1, figsize=(14,12))\n",
    "    for ia, ax in enumerate(axes):\n",
    "        ax.set_title('{} {}'.format(k, ['C','N','P'][ia]))\n",
    "        for itype, typ in enumerate(mtypes):\n",
    "            ax.plot(d['times'],scal*d['values'][:,itype,ia],label=typ)\n",
    "        ax.grid()\n",
    "        ax.legend(fontsize=9)"
   ]
  },
  {
   "cell_type": "code",
   "execution_count": null,
   "id": "8dbc99f4",
   "metadata": {},
   "outputs": [],
   "source": [
    "%matplotlib inline\n",
    "scal = 1.0 / eco.microbes.grid_size\n",
    "fig = plt.figure(figsize=(16,8))\n",
    "# plt.imshow(tla_ncells['microbes'][1].T,aspect='auto', origin='lower',interpolation='None')\n",
    "plt.pcolormesh(tla_ncells['microbes']['values'].T *scal, shading='flat', cmap='magma')\n",
    "plt.xlabel('time')\n",
    "plt.ylabel('taxon id')\n",
    "plt.title('Taxon grid occupation fraction ')\n",
    "plt.colorbar();"
   ]
  },
  {
   "cell_type": "code",
   "execution_count": null,
   "id": "e4fde14f",
   "metadata": {},
   "outputs": [],
   "source": [
    "%matplotlib inline\n",
    "scal = 1.0 / eco.microbes.grid_size\n",
    "fig = plt.figure(figsize=(16,8))\n",
    "# plt.imshow(tla_ncells['microbes'][1].T,aspect='auto', origin='lower',interpolation='None')\n",
    "dat = np.sum(tla_mic['microbes']['values'][:,:,:],axis=-1)\n",
    "sdat = np.sum(dat,axis=1)\n",
    "dat = dat / sdat[:,np.newaxis]\n",
    "plt.pcolormesh(dat.T, shading='flat', cmap='magma')\n",
    "plt.xlabel('time')\n",
    "plt.ylabel('taxon id')\n",
    "plt.title('Taxon Total mass Relative abundancy')\n",
    "plt.colorbar();"
   ]
  },
  {
   "cell_type": "code",
   "execution_count": null,
   "id": "46cd87b5",
   "metadata": {},
   "outputs": [],
   "source": [
    "%matplotlib inline\n",
    "scal = 1.0 / eco.microbes.grid_size\n",
    "fig = plt.figure(figsize=(16,8))\n",
    "# plt.imshow(tla_ncells['microbes'][1].T,aspect='auto', origin='lower',interpolation='None')\n",
    "dat = np.sum(tla_mic['microbes']['values'][:,:,:],axis=-1)\n",
    "sdat = np.sum(dat,axis=1)\n",
    "dat = dat / sdat[:,np.newaxis]\n",
    "plt.pcolormesh(np.log10(dat.T), shading='flat', cmap='magma')\n",
    "plt.xlabel('time')\n",
    "plt.ylabel('taxon id')\n",
    "plt.title('Taxon Total mass Relative abundancy (log)')\n",
    "plt.colorbar();"
   ]
  },
  {
   "cell_type": "code",
   "execution_count": null,
   "id": "ec4ba7ef",
   "metadata": {},
   "outputs": [],
   "source": [
    "%matplotlib inline\n",
    "scal = 1.0 / eco.microbes.grid_size\n",
    "fig = plt.figure(figsize=(16,8))\n",
    "dat = np.sum(tla_mic['microbes']['values'][:,:,:],axis=-1)\n",
    "ranks = rankdata(-dat,method='max', axis=1)\n",
    "plt.imshow(-ranks.T, aspect='auto',origin='lower',interpolation='None', cmap='hot')\n",
    "plt.xlabel('time')\n",
    "plt.ylabel('taxon id')\n",
    "plt.title('Taxon Total mass rank')\n",
    "plt.colorbar();"
   ]
  },
  {
   "cell_type": "code",
   "execution_count": null,
   "id": "17c41805",
   "metadata": {},
   "outputs": [],
   "source": [
    "%matplotlib inline\n",
    "scal = 1.0 / eco.microbes.grid_size\n",
    "fig = plt.figure(figsize=(16,8))\n",
    "# plt.imshow(tla_ncells['microbes'][1].T,aspect='auto', origin='lower',interpolation='None')\n",
    "plt.pcolormesh((tla_ncells['microbes']['values'].T > 0).astype(float), shading='flat', cmap='gray', vmin=0,vmax=1)\n",
    "plt.xlabel('time')\n",
    "plt.ylabel('taxon id')\n",
    "plt.title('Taxon grid survival ')\n",
    "plt.colorbar();"
   ]
  },
  {
   "cell_type": "code",
   "execution_count": null,
   "id": "4223b52b",
   "metadata": {},
   "outputs": [],
   "source": [
    "fig, axes = plt.subplots(3,1, figsize=(16,18))\n",
    "scal = 1.0 / eco.microbes.grid_size\n",
    "for ia,ax in enumerate(axes):\n",
    "    for k,d in tla_mic.items():\n",
    "        for itax, micname in enumerate(eco.microbes.names):\n",
    "            if (itax%2 ==0):\n",
    "                ls = '--'\n",
    "            else:\n",
    "                ls = '-'\n",
    "            ax.plot(d['times'],scal*d['values'][:,itax,ia],ls,label=micname)\n",
    "    ax.legend(ncol=8, fontsize=6)\n",
    "    ax.grid()\n",
    "    ax.set_title('Taxa Biomass {}'.format(['C','N','P'][ia]))"
   ]
  },
  {
   "cell_type": "code",
   "execution_count": null,
   "id": "0e751749",
   "metadata": {},
   "outputs": [],
   "source": [
    "fig = plt.figure(figsize=(14,8))\n",
    "for itax in range(tla_ncells['microbes']['values'].shape[1]):\n",
    "    if (np.max(tla_ncells['microbes']['values'][:,itax]) > 0):\n",
    "        plt.plot(tla_ncells['microbes']['times'],tla_ncells['microbes']['values'][:,itax], label='{}'.format(itax))\n",
    "plt.legend(fontsize=6, ncol=6)\n",
    "plt.title('Taxa ncell > 50')\n",
    "plt.xlabel('Time')\n",
    "plt.ylabel('Number of occupied cells')\n",
    "plt.grid()\n"
   ]
  },
  {
   "cell_type": "code",
   "execution_count": null,
   "id": "c5e99195",
   "metadata": {},
   "outputs": [],
   "source": []
  },
  {
   "cell_type": "code",
   "execution_count": null,
   "id": "60071231",
   "metadata": {},
   "outputs": [],
   "source": []
  },
  {
   "cell_type": "code",
   "execution_count": null,
   "id": "36c0f74a",
   "metadata": {},
   "outputs": [],
   "source": []
  }
 ],
 "metadata": {
  "kernelspec": {
   "display_name": "Python 3",
   "language": "python",
   "name": "python3"
  },
  "language_info": {
   "codemirror_mode": {
    "name": "ipython",
    "version": 3
   },
   "file_extension": ".py",
   "mimetype": "text/x-python",
   "name": "python",
   "nbconvert_exporter": "python",
   "pygments_lexer": "ipython3",
   "version": "3.9.13"
  }
 },
 "nbformat": 4,
 "nbformat_minor": 5
}
