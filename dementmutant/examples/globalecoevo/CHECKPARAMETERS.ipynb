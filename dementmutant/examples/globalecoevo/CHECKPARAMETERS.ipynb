{
 "cells": [
  {
   "cell_type": "code",
   "execution_count": null,
   "id": "f6fa60ae",
   "metadata": {
    "hideCode": false,
    "hidePrompt": false
   },
   "outputs": [],
   "source": [
    "%config Completer.use_jedi=False\n",
    "\n",
    "import sys\n",
    "sys.path.append('../../')\n",
    "\n",
    "import numpy as np\n",
    "import pandas as pd\n",
    "import matplotlib.pyplot as plt\n",
    "import dementmutant\n",
    "\n",
    "from refsimu import prepare_simu_from_seeds\n",
    "\n",
    "\n",
    "def display_metabolite_params(eco, metname):\n",
    "    print('{}\\n Metabolic coefficients for {}\\n{}'.format(\"*\"*50,metname,\"*\"*50))\n",
    "    met = eco.microbes.metabolites[metname]\n",
    "    display(met.get_map_float_df())\n",
    "    for k in ['Consti','Induci']:\n",
    "        print('{}\\n{}\\n{}'.format('*'*50,k,'*'*50))\n",
    "        print('Weights {}'.format(metname))\n",
    "        display(met.get_weight_map_df(k))\n",
    "        display(met.get_weight_map_df(k).sum(axis=1).mean())\n",
    "        #\n",
    "        print('Per taxon global factor {} {}'.format(k,metname))\n",
    "        display(met.get_ref_cos_v_df(k))\n",
    "        print(\"C based effective costs {} {}\".format(k,metname))\n",
    "        display(met.get_ref_cost_df(k))\n",
    "        tt = met.get_ref_cost_df(k)\n",
    "        print('Ref cost per taxon sum {} {}'.format(k,metname))\n",
    "        ss = pd.DataFrame(tt.sum(axis=1))\n",
    "        display(ss)\n",
    "        print('Ref cost per taxon sum stats')\n",
    "        display(ss.describe())\n",
    "        print(\"Metabolite production stoechiometry multiplicators -{} {}\".format(k,metname))\n",
    "        display(met.rel_cost[k])\n",
    "\n",
    "        \n",
    "def get_upt_efficiency_cellulose(eco):\n",
    "    env = eco.functions_module.env_func_constant(0)\n",
    "    csts_induci = (\n",
    "            eco.microbes.get_metabolic_processes_operands('Induci',env)\n",
    "            )\n",
    "    csts_induci_C = (1.0-csts_induci[1][0,:,0])*(1-csts_induci[1][1,:,0])\n",
    "\n",
    "    h0 = csts_induci_C[0]\n",
    "    h1 = csts_induci_C[-1]\n",
    "    xc = 0.5\n",
    "    gc = 1.0\n",
    "    hc = h0 + xc*(h1-h0)\n",
    "    g0 = gc * (1.0+xc*(h1-h0) / hc)\n",
    "    g1 = g0 - gc *(h1-h0) / hc\n",
    "    return g0,g1,h0,h1\n",
    "\n",
    "def get_ops(eco,process='Consti'):\n",
    "    env = eco.functions_module.env_func_constant(0)\n",
    "    csts = (\n",
    "            eco.microbes.get_metabolic_processes_operands(process,env)\n",
    "            )\n",
    "    return csts\n",
    "\n",
    "def compute_maxCuptake_permon_full(eco,imon, mon_sat_C = 10000.0,itime=0, with_induci=False):\n",
    "    eco.monomers.mass[()] = 0\n",
    "    eco.monomers.mass[:,:,imon,:] = mon_sat_C\n",
    "    eco.monomers.update_biomass_fields()\n",
    "#     eco.microbes.mass[:,:,:,0] = 1.0\n",
    "    eco.microbes.mass[:,:,:,:] = 1.0\n",
    "    eco.microbes.update_biomass_fields()\n",
    "    eco.apply_monomer_uptake_only(itime)\n",
    "#     print('imon = {}'.format(imon))\n",
    "#     print(eco.microbes.delta_mass[0,0,:,0])\n",
    "    if (with_induci):\n",
    "        eco.apply_inducible_only(itime)\n",
    "    else:\n",
    "#         print(eco.microbes.mass[0,0,:,0])\n",
    "        eco.apply_maxuptake_to_microbes(itime)\n",
    "#         print(eco.microbes.mass[0,0,:,0])\n",
    "    return eco\n",
    "    \n",
    "\n",
    "def compute_maxCuptake_allmons_full(eco,mon_sat_C=10000.0,itime=0, with_induci=False):\n",
    "    tmp_l = []\n",
    "    for imon in range(eco.monomers.n_components):\n",
    "        eco = compute_maxCuptake_permon_full(eco,imon,mon_sat_C,itime,with_induci)\n",
    "        tmp_l.append(eco.microbes.mass[0,0,:,0].copy()-1.0)\n",
    "    res = np.column_stack(tmp_l)\n",
    "    df = pd.DataFrame(data=res, index = eco.microbes.names, columns=eco.monomers.names,copy=True)\n",
    "    return res,df\n",
    "\n",
    "\n",
    "def compute_constitutive_rate_full(eco,itime=0):\n",
    "    eco.microbes.mass[()]  = 0.0\n",
    "    eco.microbes.mass[:,:,:,0]  = 1.0\n",
    "    eco.microbes.mass[:,:,:,1]  = 1.0\n",
    "    eco.microbes.update_biomass_fields()\n",
    "    eco.microbes.delta_mass[()] = 0.0\n",
    "    eco.apply_metabolic_processes('Consti',itime)\n",
    "    res = 1.0-eco.microbes.mass[0,0,:,0].copy()\n",
    "    df = pd.DataFrame(data=res,index=eco.microbes.names,columns=['C'],copy=True)\n",
    "    return res,df\n",
    "\n",
    "\n",
    "def get_meta_cost(eco,process='Consti'):\n",
    "    env = eco.get_environment(0)\n",
    "    t = eco.microbes.get_metabolic_processes_operands(process,env)\n",
    "    return t"
   ]
  },
  {
   "cell_type": "code",
   "execution_count": null,
   "id": "4c6d888d",
   "metadata": {
    "hideCode": false,
    "hidePrompt": false
   },
   "outputs": [],
   "source": [
    "grid_shape = (1,1)\n",
    "n_degrad_enzymes = 12\n",
    "n_taxa = 100\n",
    "n_osmolytes = 1\n",
    "\n",
    "case_parameters = {\n",
    "               'substrate_inputs' :  {'name':'TESTINPPUT','steps':[('DementDefault','inf')]},\n",
    "               'initial_diversity':'uniform',\n",
    "               'mutation_rate':None,\n",
    "               'disp_proba0': 0.8,\n",
    "               }"
   ]
  },
  {
   "cell_type": "code",
   "execution_count": null,
   "id": "52375b47",
   "metadata": {
    "hideCode": false,
    "hidePrompt": false
   },
   "outputs": [],
   "source": [
    "eco = prepare_simu_from_seeds(grid_shape,\n",
    "                              n_degrad_enzymes,\n",
    "                              n_taxa,\n",
    "                              n_osmolytes,\n",
    "                              case_parameters=case_parameters\n",
    "                             )"
   ]
  },
  {
   "cell_type": "code",
   "execution_count": null,
   "id": "3a0d88a8",
   "metadata": {},
   "outputs": [],
   "source": [
    "csts_induci = get_ops(eco,'Induci')"
   ]
  },
  {
   "cell_type": "code",
   "execution_count": null,
   "id": "52c1104e",
   "metadata": {},
   "outputs": [],
   "source": []
  },
  {
   "cell_type": "code",
   "execution_count": null,
   "id": "f6123ba2",
   "metadata": {
    "hideCode": false,
    "hidePrompt": false
   },
   "outputs": [],
   "source": [
    "# dvals = [1.0e-3,1.5e-3,1.75e-3,2.0e-3]\n",
    "# dvals = np.linspace(1.743e-3,1.7445e-3,10)\n",
    "# # dvals = np.linspace(0.001,0.01,100)\n",
    "# dvals = np.linspace(1e-4,1e-3,64)\n",
    "# eff_upt_vals = []\n",
    "# consti_df_vals = []\n",
    "# for i,delta_eff in enumerate(dvals):\n",
    "#     eco = prepare_simu_from_seeds(grid_shape,\n",
    "#                               n_degrad_enzymes,\n",
    "#                               n_taxa,\n",
    "#                               n_osmolytes,\n",
    "#                               delta_eff=delta_eff\n",
    "#                              )\n",
    "#     eff_upt, eff_upt_df = compute_maxCuprake_allmons_full(eco,with_induci=True)\n",
    "#     eff_upt_vals.append(eff_upt_df)\n",
    "#     consti_r, consti_df = compute_constitutive_rate_full(eco)\n",
    "#     consti_df_vals.append(consti_df)\n",
    "# fix, ax = plt.subplots(1,1,figsize=(8,8))\n",
    "# xplt = np.array(range(eco.microbes.n_taxa))\n",
    "# for delta_eff,eff_df,cons_df in zip(dvals, eff_upt_vals,consti_df_vals):\n",
    "#     ax.plot(xplt,eff_df['Cellulose'],label='{}'.format(delta_eff))\n",
    "# # ax.legend() ;\n",
    "\n",
    "\n",
    "# fix, ax = plt.subplots(1,1,figsize=(8,8))\n",
    "# xplt = np.array(range(eco.microbes.n_taxa))\n",
    "# for delta_eff,eff_df,cons_df in zip(dvals, eff_upt_vals,consti_df_vals):\n",
    "#     ax.plot(xplt,cons_df['C'],label='{}'.format(delta_eff))\n",
    "# # ax.legend() ;\n",
    "\n",
    "# fix, ax = plt.subplots(1,1,figsize=(8,8))\n",
    "# xplt = np.array(range(eco.microbes.n_taxa))\n",
    "# for delta_eff,eff_df,cons_df in zip(dvals, eff_upt_vals,consti_df_vals):\n",
    "#     ax.plot(xplt,cons_df['C'] /eff_df['Cellulose'],label='{}'.format(delta_eff))\n",
    "# # ax.legend() ;"
   ]
  },
  {
   "cell_type": "code",
   "execution_count": null,
   "id": "86a2b162",
   "metadata": {},
   "outputs": [],
   "source": [
    "# eco.uptake_transporters.get_base_kinetic_parameter_df('Vmax')"
   ]
  },
  {
   "cell_type": "code",
   "execution_count": null,
   "id": "fddbb89d",
   "metadata": {},
   "outputs": [],
   "source": [
    "met = eco.microbes.metabolites['Degradation_Enzymes']"
   ]
  },
  {
   "cell_type": "code",
   "execution_count": null,
   "id": "57ed3175",
   "metadata": {},
   "outputs": [],
   "source": [
    "met.get_metabolite_index('DegEnz3')"
   ]
  },
  {
   "cell_type": "code",
   "execution_count": null,
   "id": "bef9c704",
   "metadata": {},
   "outputs": [],
   "source": [
    "met.ref_cost['Induci']"
   ]
  },
  {
   "cell_type": "code",
   "execution_count": null,
   "id": "06438f2f",
   "metadata": {
    "hideCode": false,
    "hidePrompt": false
   },
   "outputs": [],
   "source": [
    "eco.monomer_uptake_op.get_taxa_relative_efficiency_df()"
   ]
  },
  {
   "cell_type": "code",
   "execution_count": null,
   "id": "6138935b",
   "metadata": {
    "hideCode": false,
    "hidePrompt": false
   },
   "outputs": [],
   "source": [
    "eco.degradation_enzymes.get_map_bool_df()"
   ]
  },
  {
   "cell_type": "code",
   "execution_count": null,
   "id": "a871d6fb",
   "metadata": {
    "hideCode": false,
    "hidePrompt": false
   },
   "outputs": [],
   "source": [
    "print(eco.microbes.metabolites.keys())"
   ]
  },
  {
   "cell_type": "markdown",
   "id": "c827e0b4",
   "metadata": {
    "hideCode": false,
    "hidePrompt": false
   },
   "source": [
    "### Degradation enzymes production efficiency"
   ]
  },
  {
   "cell_type": "code",
   "execution_count": null,
   "id": "2de66446",
   "metadata": {
    "hideCode": false,
    "hidePrompt": false
   },
   "outputs": [],
   "source": [
    "display_metabolite_params(eco,'Degradation_Enzymes')"
   ]
  },
  {
   "cell_type": "markdown",
   "id": "2015e523",
   "metadata": {
    "hideCode": false,
    "hidePrompt": false
   },
   "source": [
    "### Uptake transporters production costs"
   ]
  },
  {
   "cell_type": "code",
   "execution_count": null,
   "id": "d2427ab9",
   "metadata": {
    "hideCode": false,
    "hidePrompt": false
   },
   "outputs": [],
   "source": [
    "display_metabolite_params(eco,'Uptake_Transporters')"
   ]
  },
  {
   "cell_type": "code",
   "execution_count": null,
   "id": "f25553af",
   "metadata": {
    "hideCode": false,
    "hidePrompt": false
   },
   "outputs": [],
   "source": [
    "#display_metabolite_params(eco,'Respiration_Growth')"
   ]
  },
  {
   "cell_type": "code",
   "execution_count": null,
   "id": "c0628fa7",
   "metadata": {
    "hideCode": false,
    "hidePrompt": false
   },
   "outputs": [],
   "source": [
    "#display_metabolite_params(eco,'Osmolytes')"
   ]
  },
  {
   "cell_type": "code",
   "execution_count": null,
   "id": "ede01fe8",
   "metadata": {
    "hideCode": false,
    "hidePrompt": false
   },
   "outputs": [],
   "source": [
    "# %matplotlib inline\n",
    "# for itax,tax in enumerate(eco.microbes.names):\n",
    "#     dat = eco.microbes.tmass[:,:,itax,0]\n",
    "#     fig,ax = plt.subplots(1,1)\n",
    "#     im_mass = ax.imshow(dat,cmap='hot')\n",
    "#     ax.set_title('total mass {}'.format(tax))\n",
    "#     plt.colorbar(im_mass,ax=ax)\n",
    "    "
   ]
  },
  {
   "cell_type": "code",
   "execution_count": null,
   "id": "95475709",
   "metadata": {},
   "outputs": [],
   "source": []
  },
  {
   "cell_type": "code",
   "execution_count": null,
   "id": "c1e6fb50",
   "metadata": {
    "hideCode": false,
    "hidePrompt": false
   },
   "outputs": [],
   "source": [
    "max_upt, max_upt_df = compute_maxCuptake_allmons_full(eco)"
   ]
  },
  {
   "cell_type": "code",
   "execution_count": null,
   "id": "e2922df3",
   "metadata": {
    "hideCode": false,
    "hidePrompt": false
   },
   "outputs": [],
   "source": [
    "max_upt_df"
   ]
  },
  {
   "cell_type": "code",
   "execution_count": null,
   "id": "f8e25009",
   "metadata": {},
   "outputs": [],
   "source": [
    "k2 = (max_upt_df['Cellulose'][-1]-max_upt_df['Cellulose'][0]) / (1.8)\n",
    "k1 = max_upt_df['Cellulose'][-1]-k2 * 2\n",
    "k1b = max_upt_df['Cellulose'][0]- k2 * 0.2\n",
    "print(k2)\n",
    "print(k1)\n",
    "print(k1b)"
   ]
  },
  {
   "cell_type": "code",
   "execution_count": null,
   "id": "3ef491f3",
   "metadata": {
    "hideCode": false,
    "hidePrompt": false
   },
   "outputs": [],
   "source": [
    "eff_upt, eff_upt_df = compute_maxCuptake_allmons_full(eco,with_induci=True)"
   ]
  },
  {
   "cell_type": "code",
   "execution_count": null,
   "id": "e9cec447",
   "metadata": {
    "hideCode": false,
    "hidePrompt": false
   },
   "outputs": [],
   "source": []
  },
  {
   "cell_type": "code",
   "execution_count": null,
   "id": "127dd429",
   "metadata": {
    "hideCode": false,
    "hidePrompt": false
   },
   "outputs": [],
   "source": [
    "eff_upt_df"
   ]
  },
  {
   "cell_type": "code",
   "execution_count": null,
   "id": "116bcdbd",
   "metadata": {},
   "outputs": [],
   "source": [
    "truc = eff_upt_df / max_upt_df\n",
    "display(truc)"
   ]
  },
  {
   "cell_type": "code",
   "execution_count": null,
   "id": "f950805d",
   "metadata": {
    "hideCode": false,
    "hidePrompt": false
   },
   "outputs": [],
   "source": [
    "fig, ax = plt.subplots(1,1,figsize=(8,4))\n",
    "xplt = np.array(range(eco.microbes.n_taxa))\n",
    "ax.plot(xplt,eff_upt_df['Cellulose'])\n",
    "# ax.plot(xplt,max_upt_df['Cellulose'])\n",
    "ax.grid();"
   ]
  },
  {
   "cell_type": "code",
   "execution_count": null,
   "id": "2b2d823b",
   "metadata": {
    "hideCode": false,
    "hidePrompt": false
   },
   "outputs": [],
   "source": [
    "fig, ax = plt.subplots(1,1,figsize=(8,4))\n",
    "xplt = np.array(range(eco.microbes.n_taxa))\n",
    "ax.plot(xplt,max_upt_df['Cellulose'])\n",
    "ax.grid();"
   ]
  },
  {
   "cell_type": "code",
   "execution_count": null,
   "id": "75f0f59d",
   "metadata": {
    "hideCode": false,
    "hidePrompt": false
   },
   "outputs": [],
   "source": [
    "fig, ax = plt.subplots(1,1,figsize=(8,4))\n",
    "xplt = np.array(range(eco.microbes.n_taxa))\n",
    "ax.plot(xplt,eff_upt_df['Cellulose']/max_upt_df['Cellulose'])\n",
    "# ax.plot(xplt,max_upt_df['Cellulose'])\n",
    "ax.grid();"
   ]
  },
  {
   "cell_type": "code",
   "execution_count": null,
   "id": "bff4402c",
   "metadata": {},
   "outputs": [],
   "source": [
    "fig, axes = plt.subplots(1,2,figsize=(14,4))\n",
    "xplt = np.array(range(eco.microbes.n_taxa))\n",
    "for cc in eff_upt_df.columns:\n",
    "#     ax.plot(xplt,eff_upt_df[cc],label=cc)\n",
    "    axes[0].plot(xplt,max_upt_df[cc],label=cc)\n",
    "    if (cc == 'Cellulose'):\n",
    "        continue\n",
    "    axes[1].plot(xplt,max_upt_df[cc],label=cc)\n",
    "for ax in axes:        \n",
    "    ax.grid();\n",
    "    ax.set_xlabel(\"taxa\")\n",
    "    ax.legend();\n",
    "    ax.set_title('Max uptake ')"
   ]
  },
  {
   "cell_type": "code",
   "execution_count": null,
   "id": "08d9f3c3",
   "metadata": {},
   "outputs": [],
   "source": [
    "fig, axes = plt.subplots(1,2,figsize=(14,4))\n",
    "xplt = np.array(range(eco.microbes.n_taxa))\n",
    "for cc in eff_upt_df.columns:\n",
    "    axes[0].plot(xplt,eff_upt_df[cc],label=cc)\n",
    "    if (cc == 'Cellulose'):\n",
    "        continue\n",
    "    axes[1].plot(xplt,eff_upt_df[cc],label=cc)\n",
    "for ax in axes:        \n",
    "    ax.grid();\n",
    "    ax.set_xlabel(\"taxa\")\n",
    "    ax.legend();\n",
    "    ax.set_title('Effective max uptake (with induci)')"
   ]
  },
  {
   "cell_type": "code",
   "execution_count": null,
   "id": "09ba726c",
   "metadata": {
    "hideCode": false,
    "hidePrompt": false
   },
   "outputs": [],
   "source": [
    "consti,consti_df = compute_constitutive_rate_full(eco)"
   ]
  },
  {
   "cell_type": "code",
   "execution_count": null,
   "id": "c16601e2",
   "metadata": {
    "hideCode": false,
    "hidePrompt": false
   },
   "outputs": [],
   "source": [
    "consti_df"
   ]
  },
  {
   "cell_type": "code",
   "execution_count": null,
   "id": "6c5e9871",
   "metadata": {},
   "outputs": [],
   "source": [
    "s, g0,g1 = case_parameters['uptake_c_scale'],case_parameters['uptake_cellulose_c0'],case_parameters['uptake_cellulose_c1']\n",
    "\n",
    "# total constitutive loss rate as a function of trait and parameters\n",
    "truc1 = 0.007203 + s*(0.13 + 0.01 * (g0 +(g1-g0)* np.linspace(0,1,n_taxa)))\n",
    "print(truc1)\n",
    "\n",
    "# max uptake for non cellulose\n",
    "truc2 = 2.680123 * s\n",
    "print(truc2)\n",
    "# truc2 = 0.268012\n",
    "# max uptake for cellulose\n",
    "# truc3 = 0.053602 + (0.536025-0.053602) * np.linspace(0,1,n_taxa)\n",
    "# print(truc3)\n",
    "k2 = 2.6801234381934838\n",
    "k1 = 0\n",
    "truc3 = s*(k1 + k2 * (g0 +(g1-g0)* np.linspace(0,1,n_taxa)))\n",
    "print(truc3)\n"
   ]
  },
  {
   "cell_type": "code",
   "execution_count": null,
   "id": "be39e367",
   "metadata": {
    "hideCode": false,
    "hidePrompt": false
   },
   "outputs": [],
   "source": [
    "fig, ax = plt.subplots(1,1,figsize=(8,4))\n",
    "xplt = np.array(range(eco.microbes.n_taxa))\n",
    "ax.plot(xplt,consti_df['C']/eff_upt_df['Cellulose'])\n",
    "ax.plot(xplt,np.ones_like(xplt))\n",
    "# ax.plot(xplt,max_upt_df['Cellulose'])\n",
    "ax.grid();"
   ]
  },
  {
   "cell_type": "code",
   "execution_count": null,
   "id": "52547503",
   "metadata": {},
   "outputs": [],
   "source": [
    "fig, axes = plt.subplots(1,2,figsize=(14,4))\n",
    "xplt = np.array(range(eco.microbes.n_taxa))\n",
    "for cc in eff_upt_df.columns:\n",
    "    axes[0].plot(xplt,consti_df['C']/eff_upt_df[cc],label=cc)\n",
    "    if (cc == 'Cellulose'):\n",
    "        continue\n",
    "    axes[1].plot(xplt,consti_df['C']/eff_upt_df[cc],label=cc)\n",
    "for ax in axes:\n",
    "    ax.grid();\n",
    "    ax.legend();\n",
    "    ax.set_title(r'$\\rho_{critical}$')"
   ]
  },
  {
   "cell_type": "code",
   "execution_count": null,
   "id": "6f1a0ce7",
   "metadata": {},
   "outputs": [],
   "source": [
    "# #\n",
    "# source_key = list(eco.source_operators.keys())[0]\n",
    "# print(source_key)\n",
    "# source_op = eco.source_operators[source_key]\n",
    "# sub_source = source_op.source_func(eco.substrates,0)[0,0,:,:]\n",
    "# print(sub_source.shape)\n",
    "# sub_source_df = pd.DataFrame(data=sub_source,index=eco.substrates.names,columns=['C','N','P'])\n",
    "# # display(sub_source_df)\n",
    "# sub_source_df['T'] = sub_source_df.sum(axis=1)\n",
    "# display(sub_source_df)\n",
    "# display(pd.DataFrame(sub_source_df.sum(axis=0)))\n",
    "\n",
    "# sub_source_rel_df = sub_source_df.divide(sub_source_df.sum(axis=0))\n",
    "# display(sub_source_rel_df)\n",
    "# # display(sub_source_rel_df.sum(axis=0))\n",
    "# # sub_source_tmass1 = np.sum(sub_source,axis=0)\n",
    "# # source_stoech = sub_source_tmass1 / np.sum(sub_source_tmass1)\n",
    "# # print(sub_source)\n",
    "# # print(sub_source_tmass1)\n",
    "# # print(source_stoech)\n",
    "# # print(np.sum(source_stoech))\n",
    "# # sub_source_tmass1_mod = sub_source_tmass1 * np.array([0.4,1,1])\n",
    "# # source_stoech_mod = sub_source_tmass1_mod / np.sum(sub_source_tmass1_mod)\n",
    "# # print(sub_source_tmass1_mod)\n",
    "# # print(source_stoech_mod)\n",
    "\n",
    "# #\n",
    "# sub_source_tmass2 = np.sum(sub_source,axis=1,)\n",
    "# print(sub_source_tmass2)\n",
    "# sub_source_relw_tmass = sub_source_tmass2 / np.sum(sub_source_tmass2)\n",
    "# print(sub_source_relw_tmass)"
   ]
  },
  {
   "cell_type": "code",
   "execution_count": null,
   "id": "abcd8f8b",
   "metadata": {},
   "outputs": [],
   "source": [
    "# eco.microbes.stoechio_balance_recycler.stoechiometry_quotas"
   ]
  },
  {
   "cell_type": "code",
   "execution_count": null,
   "id": "057aed2a",
   "metadata": {},
   "outputs": [],
   "source": [
    "def get_sample_uptake(eff_df,rho_cell,rho_ncell):\n",
    "    subs = eff_upt_df.columns\n",
    "    nsubs = eff_df.columns.size\n",
    "    rho_vals = pd.Series(index=eff_upt_df.columns,data = rho_ncell * np.ones((nsubs,)))\n",
    "    rho_vals['Cellulose'] = rho_cell\n",
    "    eff_upt = eff_df @ rho_vals\n",
    "#     display(eff_upt)\n",
    "    return eff_upt\n",
    "\n",
    "\n",
    "def scan_sample_uptake(eff_df, const_df):\n",
    "    N1 = 32\n",
    "    N2 = 16\n",
    "    rho_cell_vals = np.linspace(0,1,N1)\n",
    "    rho_ncell_vals = np.linspace(0,1,N2)\n",
    "    RC,RNC = np.meshgrid(rho_cell_vals,rho_ncell_vals, indexing='ij')\n",
    "    ntax = eff_df.index.size\n",
    "#     res = {k: np.zeros_like(RC) for k in range(ntax)}\n",
    "    res = np.zeros((ntax,RC.shape[0],RC.shape[1]))\n",
    "    I1,I2 = np.indices(RC.shape)\n",
    "    for i1,i2 in zip(I1.ravel(),I2.ravel()):\n",
    "        tmp_r = get_sample_uptake(eff_df,RC[i1,i2],RNC[i1,i2])\n",
    "        for k in range(ntax):\n",
    "            res[k,i1,i2] = tmp_r[k]-const_df[k]\n",
    "    return res,RC,RNC\n",
    "    \n",
    "    "
   ]
  },
  {
   "cell_type": "code",
   "execution_count": null,
   "id": "388f49b9",
   "metadata": {},
   "outputs": [],
   "source": [
    "samp_up,RC,RNC = scan_sample_uptake(eff_upt_df,consti_df['C'])"
   ]
  },
  {
   "cell_type": "code",
   "execution_count": null,
   "id": "4e37a608",
   "metadata": {},
   "outputs": [],
   "source": [
    "itax = 5\n",
    "fig,ax = plt.subplots(1,1,figsize=(3,3))\n",
    "tmp_im = ax.contourf(RC,RNC,samp_up[itax,:,:],levels=50,cmap='hot')\n",
    "plt.colorbar(tmp_im,ax=ax)\n",
    "#     ax.axis('off')\n",
    "ax.set_title('Tax {}'.format(itax))\n",
    "ax.set_xlabel(r'$\\rho_{cellullose}$')\n",
    "ax.set_ylabel(r'$\\rho_{other}$');"
   ]
  },
  {
   "cell_type": "code",
   "execution_count": null,
   "id": "2ae9a2ae",
   "metadata": {},
   "outputs": [],
   "source": [
    "for incell in [0,1,2,8,12]:\n",
    "    fig,ax = plt.subplots(1,1,figsize=(12,6))\n",
    "    rho_ncell = RNC[0,incell]\n",
    "    xr = np.array(range(samp_up.shape[0]))\n",
    "    for icell,rho_cell in enumerate(RC[:,incell]): \n",
    "        ax.plot(xr,samp_up[:,icell,incell],label='{:.2f}'.format(rho_cell))\n",
    "    ax.grid()\n",
    "    ax.legend(fontsize=6,ncol=4)\n",
    "    ax.set_title('rho ncell {:.2f}'.format(rho_ncell))\n",
    "    ax.set_xlabel('Taxa');\n",
    "    ax.set_ylabel('Growth rate estimation');\n",
    "    plt.show()\n",
    "    plt.close(fig)"
   ]
  },
  {
   "cell_type": "code",
   "execution_count": null,
   "id": "d881e904",
   "metadata": {},
   "outputs": [],
   "source": []
  },
  {
   "cell_type": "code",
   "execution_count": null,
   "id": "7f68290a",
   "metadata": {},
   "outputs": [],
   "source": []
  },
  {
   "cell_type": "code",
   "execution_count": null,
   "id": "ab6cd279",
   "metadata": {},
   "outputs": [],
   "source": []
  },
  {
   "cell_type": "code",
   "execution_count": null,
   "id": "719be552",
   "metadata": {},
   "outputs": [],
   "source": []
  },
  {
   "cell_type": "code",
   "execution_count": null,
   "id": "7aec5eef",
   "metadata": {},
   "outputs": [],
   "source": []
  },
  {
   "cell_type": "code",
   "execution_count": null,
   "id": "989daee1",
   "metadata": {},
   "outputs": [],
   "source": []
  }
 ],
 "metadata": {
  "celltoolbar": "Hide code",
  "hide_code_all_hidden": false,
  "kernelspec": {
   "display_name": "Python 3 (ipykernel)",
   "language": "python",
   "name": "python3"
  },
  "language_info": {
   "codemirror_mode": {
    "name": "ipython",
    "version": 3
   },
   "file_extension": ".py",
   "mimetype": "text/x-python",
   "name": "python",
   "nbconvert_exporter": "python",
   "pygments_lexer": "ipython3",
   "version": "3.9.13"
  }
 },
 "nbformat": 4,
 "nbformat_minor": 5
}
