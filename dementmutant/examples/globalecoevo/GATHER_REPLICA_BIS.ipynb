{
 "cells": [
  {
   "cell_type": "code",
   "execution_count": null,
   "id": "6723f88a",
   "metadata": {},
   "outputs": [],
   "source": [
    "%config Completer.use_jedi=False\n",
    "\n",
    "import sys\n",
    "import os\n",
    "import glob\n",
    "import matplotlib.pyplot as plt\n",
    "import numpy as np\n",
    "\n",
    "from refsimu_singletrait import reload_simulation\n",
    "from refsimu_singletrait import microbe_pop_on"
   ]
  },
  {
   "cell_type": "code",
   "execution_count": null,
   "id": "37b7956e",
   "metadata": {},
   "outputs": [],
   "source": [
    "microbe_pop_on()"
   ]
  },
  {
   "cell_type": "code",
   "execution_count": null,
   "id": "298c322e",
   "metadata": {},
   "outputs": [],
   "source": [
    "def get_diag_collector(rep_dir):\n",
    "    eco = reload_simulation(rep_dir,-1)\n",
    "    print(eco.substrates.names)\n",
    "    diagcollector = eco.get_diag_collector()\n",
    "    tl_files = sorted(glob.glob('{}/timelines_dump_*.hdf5'.format(rep_dir)))\n",
    "    dump_file = tl_files[0]\n",
    "    diagcollector.load_from_dumpfile(dump_file)\n",
    "    for k,d in diagcollector.timelines.items():\n",
    "        print(k)\n",
    "        print([kk for kk in d.keys()])\n",
    "    return diagcollector\n",
    "\n"
   ]
  },
  {
   "cell_type": "code",
   "execution_count": null,
   "id": "83ec04b0",
   "metadata": {},
   "outputs": [],
   "source": [
    "def collect_diag_stats(dc_dict, dc_key, dc_comp, filter_func):\n",
    "    da = np.array([filter_func(dc.timelines[dc_key][dc_comp]['values']) for k, dc in dc_dict.items()])\n",
    "    times = np.array([dc.timelines[dc_key][dc_comp]['times'] for k, dc in dc_dict.items()])\n",
    "    res = {\n",
    "        'times': times[0,:],\n",
    "        'min': np.min(da, axis=0),\n",
    "        'mean': np.mean(da, axis=0),\n",
    "        'max': np.max(da, axis=0),\n",
    "        'std': np.std(da,axis=0),\n",
    "    }\n",
    "    return res"
   ]
  },
  {
   "cell_type": "code",
   "execution_count": null,
   "id": "1277c19f",
   "metadata": {},
   "outputs": [],
   "source": [
    "base_dir = './MACHIN/' # replace by your own\n",
    "# base_dir = './BIDULE/' # replace by your own\n",
    "base_dir = './TESTSTOECH2/' # replace by your own\n",
    "\n",
    "# base_dir = './MACHIN_TEST/'\n",
    "sdirs = [f for f in glob.glob(os.path.join(base_dir,'*')) if os.path.isdir(f)]\n",
    "dlists = {}\n",
    "for sdir in sdirs:\n",
    "    skey = '_'.join(os.path.basename(sdir).split('_')[1:3])\n",
    "    dlist = glob.glob(os.path.join(sdir,'replica_*'))\n",
    "    dlist = [d for d in dlist if os.path.isdir(d)]\n",
    "    dlists[skey] = dlist\n",
    "\n",
    "for k,d in dlists.items():\n",
    "    print('*'*20,'\\n',k)\n",
    "    for i,r in enumerate(d):\n",
    "        print(i,r)"
   ]
  },
  {
   "cell_type": "code",
   "execution_count": null,
   "id": "1c12af97",
   "metadata": {},
   "outputs": [],
   "source": [
    "diags = {}\n",
    "for k,d in dlists.items():\n",
    "    tmp_d = {}\n",
    "    for i,r in enumerate(d):\n",
    "        tmp_d[i] = get_diag_collector(r)\n",
    "    diags[k] = tmp_d"
   ]
  },
  {
   "cell_type": "code",
   "execution_count": null,
   "id": "7a57f1bc",
   "metadata": {},
   "outputs": [],
   "source": []
  },
  {
   "cell_type": "code",
   "execution_count": null,
   "id": "b7282ead",
   "metadata": {},
   "outputs": [],
   "source": [
    "# dc_dict = diags['CELLULOSEX1_Mut']\n",
    "dc_key, dc_comp = 'space_sum','microbes'\n",
    "\n",
    "def filter_func_reltmass(vals):\n",
    "    dat = np.sum(vals,axis=-1)\n",
    "    sdat = np.sum(dat,axis=1)\n",
    "    dat = dat / sdat[:,np.newaxis]\n",
    "    return dat\n",
    "\n",
    "diag_stats = {}\n",
    "for k,d in diags.items():\n",
    "    diag_stats[k] = collect_diag_stats(d,dc_key,dc_comp, filter_func_reltmass)"
   ]
  },
  {
   "cell_type": "code",
   "execution_count": null,
   "id": "1912f8bd",
   "metadata": {},
   "outputs": [],
   "source": [
    "for k,d in diag_stats.items():\n",
    "    fig, ax = plt.subplots(1,1,figsize=(14,4))\n",
    "    labs = ['Tax {}'.format(i) for i in range(d['mean'].shape[1])]\n",
    "    lc= ax.plot(d['times'],d['mean'],label=labs)\n",
    "    cols = [l.get_color() for l in lc]\n",
    "    ddown = d['mean']-d['std']\n",
    "    dup = d['mean']+d['std']\n",
    "\n",
    "    for itax, col in enumerate(cols):\n",
    "        ax.fill_between(d['times'], ddown[:,itax],dup[:,itax],\n",
    "                    color = col,\n",
    "                    alpha=0.2\n",
    "                       )\n",
    "    ax.legend(ncol=3)\n",
    "    ax.grid()\n",
    "    ax.set_title(k)"
   ]
  },
  {
   "cell_type": "code",
   "execution_count": null,
   "id": "4938f889",
   "metadata": {},
   "outputs": [],
   "source": [
    "for k,d in diag_stats.items():\n",
    "    fig, ax = plt.subplots(1,1,figsize=(14,4))\n",
    "    labs = ['Tax {}'.format(i) for i in range(d['mean'].shape[1])]\n",
    "    lc= ax.plot(d['times'],d['std'],label=labs)\n",
    "    cols = [l.get_color() for l in lc]\n",
    "    ax.legend(ncol=3)\n",
    "    ax.grid()\n",
    "    ax.set_title(k)"
   ]
  },
  {
   "cell_type": "code",
   "execution_count": null,
   "id": "85784bbc",
   "metadata": {},
   "outputs": [],
   "source": [
    "sel_1 = 'CELLULOSEX1_NoMut'\n",
    "for itax in range(10):\n",
    "    fig, ax = plt.subplots(1,1, figsize=(12,4))\n",
    "    for i,d in diags[sel_1].items():\n",
    "        dat = np.sum(d.timelines['space_sum']['microbes']['values'][:,:,:],axis=-1)\n",
    "        sdat = np.sum(dat,axis=1)\n",
    "        dat = dat / sdat[:,np.newaxis]\n",
    "        t = d.timelines['space_sum']['microbes']['times']\n",
    "        ax.plot(t,dat[:,itax],label='rep {} tax {}'.format(i,itax))\n",
    "    ax.legend(loc=2,ncol=2)\n",
    "    ax.grid()\n",
    "    ax.set_xlabel('time')\n",
    "    ax.set_ylabel('Total mass relative');\n",
    "    ax.set_title('Taxon {}'.format(itax))\n",
    "    ax.set_ylim(0.05,0.1)\n",
    "    "
   ]
  },
  {
   "cell_type": "code",
   "execution_count": null,
   "id": "4f72f81b",
   "metadata": {},
   "outputs": [],
   "source": [
    "sel_1 = 'CELLULOSEX1_Mut'\n",
    "for itax in range(10):\n",
    "    fig, ax = plt.subplots(1,1, figsize=(12,4))\n",
    "    for i,d in diags[sel_1].items():\n",
    "        dat = np.sum(d.timelines['space_sum']['microbes']['values'][:,:,:],axis=-1)\n",
    "        sdat = np.sum(dat,axis=1)\n",
    "        dat = dat / sdat[:,np.newaxis]\n",
    "        t = d.timelines['space_sum']['microbes']['times']\n",
    "        ax.plot(t,dat[:,itax],label='rep {} tax {}'.format(i,itax))\n",
    "    ax.legend(loc=2,ncol=2)\n",
    "    ax.grid()\n",
    "    ax.set_xlabel('time')\n",
    "    ax.set_ylabel('Total mass relative');\n",
    "    ax.set_title('Taxon {}'.format(itax))\n",
    "    ax.set_ylim(0,0.2)\n",
    "    "
   ]
  },
  {
   "cell_type": "code",
   "execution_count": null,
   "id": "55ba0fae",
   "metadata": {},
   "outputs": [],
   "source": [
    "diag_stats2 = {}\n",
    "diag_stats3 = {}\n",
    "diag_stats4 = {}\n",
    "def get_atom_sum(vals):\n",
    "    return np.sum(vals,axis=-1)\n",
    "\n",
    "def get_decay_rate(vals):\n",
    "\n",
    "    dsum = np.sum(vals,axis=-1)\n",
    "#     dsum[dsum > 0] = 0\n",
    "    dgrad = np.gradient(dsum)\n",
    "    print(dgrad.shape)\n",
    "    dgrad[dgrad > 0] = 0\n",
    "#     conv = np.convolve(dgrad,kern,'same')\n",
    "    return dgrad\n",
    "\n",
    "for k,d in diags.items():\n",
    "    print(k)\n",
    "    diag_stats2[k] = collect_diag_stats(d,'space_comp_sum','substrates', filter_func=get_atom_sum)\n",
    "    diag_stats3[k] = collect_diag_stats(d,'space_comp_sum','substrates', filter_func= get_decay_rate)\n",
    "    diag_stats4[k] = collect_diag_stats(d,'space_sum','substrates',filter_func=get_atom_sum)"
   ]
  },
  {
   "cell_type": "code",
   "execution_count": null,
   "id": "bfebcd8a",
   "metadata": {},
   "outputs": [],
   "source": [
    "fig, ax  = plt.subplots(1,1,figsize=(14,4))\n",
    "for k,d in diag_stats2.items():\n",
    "    ax.plot(d['times'],d['mean'],label=k)\n",
    "    ax.set_title('Substrate total mass')\n",
    "    ax.set_xlabel('time')\n",
    "    ax.set_ylabel('Rate')\n",
    "    ax.legend()\n",
    "    ax.grid('on')"
   ]
  },
  {
   "cell_type": "code",
   "execution_count": null,
   "id": "f9563655",
   "metadata": {},
   "outputs": [],
   "source": [
    "wsize = 365\n",
    "kern = np.ones((wsize))\n",
    "kern = kern / np.sum(kern)\n",
    "\n",
    "\n",
    "fig, ax  = plt.subplots(1,1,figsize=(14,4))\n",
    "for k,d in diag_stats3.items():\n",
    "    ax.plot(d['times'],d['mean'],label=k)\n",
    "    ax.set_title('Substrate decay rate')\n",
    "    ax.set_xlabel('time')\n",
    "    ax.set_ylabel('Rate')\n",
    "    ax.legend()\n",
    "    ax.grid('on')\n",
    "\n",
    "    \n",
    "fig, ax  = plt.subplots(1,1,figsize=(14,4))\n",
    "for k,d in diag_stats3.items():\n",
    "    conv = np.convolve(d['mean'],kern,'valid')\n",
    "    tconv = np.convolve(d['times'],kern,'valid')\n",
    "    ax.plot(tconv,conv,label=k)\n",
    "    ax.set_title('Substrate decay rate (moving average {})'.format(wsize))\n",
    "    ax.set_xlabel('time')\n",
    "    ax.set_ylabel('Rate')\n",
    "    ax.legend()\n",
    "    ax.grid('on')\n"
   ]
  },
  {
   "cell_type": "code",
   "execution_count": null,
   "id": "dfcff332",
   "metadata": {},
   "outputs": [],
   "source": [
    "for isub in range(12):\n",
    "    fig, ax  = plt.subplots(1,1,figsize=(14,4))\n",
    "    for k,d in diag_stats4.items():\n",
    "        ax.plot(d['times'],d['mean'][:,isub],label=k)\n",
    "        ax.set_xlabel('time')\n",
    "        ax.set_ylabel('Substrate {}'.format(isub))\n",
    "        ax.grid('on')\n",
    "        ax.legend()"
   ]
  },
  {
   "cell_type": "code",
   "execution_count": null,
   "id": "2c9bab2b",
   "metadata": {},
   "outputs": [],
   "source": []
  },
  {
   "cell_type": "code",
   "execution_count": null,
   "id": "878028a1",
   "metadata": {},
   "outputs": [],
   "source": []
  },
  {
   "cell_type": "code",
   "execution_count": null,
   "id": "27980804",
   "metadata": {},
   "outputs": [],
   "source": []
  },
  {
   "cell_type": "code",
   "execution_count": null,
   "id": "c924745f",
   "metadata": {},
   "outputs": [],
   "source": []
  },
  {
   "cell_type": "code",
   "execution_count": null,
   "id": "020b4427",
   "metadata": {},
   "outputs": [],
   "source": []
  }
 ],
 "metadata": {
  "kernelspec": {
   "display_name": "Python 3 (ipykernel)",
   "language": "python",
   "name": "python3"
  },
  "language_info": {
   "codemirror_mode": {
    "name": "ipython",
    "version": 3
   },
   "file_extension": ".py",
   "mimetype": "text/x-python",
   "name": "python",
   "nbconvert_exporter": "python",
   "pygments_lexer": "ipython3",
   "version": "3.9.13"
  }
 },
 "nbformat": 4,
 "nbformat_minor": 5
}
