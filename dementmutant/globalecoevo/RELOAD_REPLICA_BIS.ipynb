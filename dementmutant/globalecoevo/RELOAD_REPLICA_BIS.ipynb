{
 "cells": [
  {
   "cell_type": "code",
   "execution_count": null,
   "id": "29068b95",
   "metadata": {},
   "outputs": [],
   "source": [
    "%config Completer.use_jedi=False\n",
    "\n",
    "import sys\n",
    "import os\n",
    "import glob\n",
    "import matplotlib.pyplot as plt\n",
    "import numpy as np\n",
    "sys.path.append('../../')\n",
    "\n",
    "def get_line_type(fname):\n",
    "    if (fname in ['microbes','monomers','substrates','degradation_enzymes']):\n",
    "        res = '-'\n",
    "    else:\n",
    "        res = '--'\n",
    "    return res\n",
    "from refsimu_singletrait import reload_simulation\n",
    "from refsimu_singletrait import microbe_pop_on"
   ]
  },
  {
   "cell_type": "code",
   "execution_count": null,
   "id": "1d82d581",
   "metadata": {},
   "outputs": [],
   "source": [
    "microbe_pop_on()"
   ]
  },
  {
   "cell_type": "code",
   "execution_count": null,
   "id": "ba077c9a",
   "metadata": {},
   "outputs": [],
   "source": [
    "# base_dir = './BIDULETESTMEM/' # CHANGE FOR YOUR OWN \n",
    "base_dir = './MACHIN/'\n",
    "sdirs = [f for f in glob.glob(os.path.join(base_dir,'*')) if os.path.isdir(f)]\n",
    "dlists = {}\n",
    "for sdir in sdirs:\n",
    "#     print(sdir)\n",
    "    skey = '_'.join(os.path.basename(sdir).split('_')[1:3])\n",
    "#     print(skey)\n",
    "    dlist = glob.glob(os.path.join(sdir,'replica_*'))\n",
    "    dlist = [d for d in dlist if os.path.isdir(d)]\n",
    "    dlists[skey] = dlist\n",
    "\n",
    "# dictionnary dlists is keyed by names of the base_dir subdirectories ( CELLULOSE conditions), the values are lists\n",
    "# of the subdirectories containing the various replica\n",
    "# for k,d in dlists.items():\n",
    "#     print('*'*20,'\\n',k)\n",
    "#     for i,r in enumerate(d):\n",
    "#         print(i,r)"
   ]
  },
  {
   "cell_type": "code",
   "execution_count": null,
   "id": "d8a526cd",
   "metadata": {},
   "outputs": [],
   "source": [
    "rep_dir = dlists['CELLULOSEX2_NoMut'][0] # select condition and replica \n",
    "print('Reloading from {}'.format(rep_dir))\n",
    "eco = reload_simulation(rep_dir,-1)\n",
    "# print(eco.grid_shape)\n",
    "\n",
    "diagcollector = eco.get_diag_collector()\n",
    "tl_files = sorted(glob.glob('{}/timelines_dump_*.hdf5'.format(rep_dir)))\n",
    "# print(tl_files)\n",
    "dump_file = tl_files[0]\n",
    "diagcollector.load_from_dumpfile(dump_file)\n",
    "tla_comp_space = diagcollector.get_timeline_arrays('space_comp_sum', tag_filter_func= lambda t: 'pool' in t and 'input' not in t)\n",
    "tla_comp_space_external =  diagcollector.get_timeline_arrays('space_comp_sum', tag_filter_func= lambda t: 'pool' in t and 'input'  in t)\n",
    "tla_recycling = diagcollector.get_timeline_arrays('space_comp_sum',tag_filter_func=lambda t:'stoechio_balance_recycler' in t)\n",
    "tla_mortality = diagcollector.get_timeline_arrays('space_comp_sum',tag_filter_func=lambda t:'mortality_op' in t)\n",
    "tla_bytype = diagcollector.get_timeline_arrays('sum_by_type')\n",
    "tla_ncells = diagcollector.get_timeline_arrays('ncells')\n",
    "tla_sub = diagcollector.get_timeline_arrays('space_sum',tag_filter_func=lambda t:'substrates' in t)\n",
    "tla_enz = diagcollector.get_timeline_arrays('space_sum',tag_filter_func=lambda t:'degradation_enzymes' in t)\n",
    "tla_mon = diagcollector.get_timeline_arrays('space_sum',tag_filter_func=lambda t:'monomers' in t)\n",
    "tla_mic = diagcollector.get_timeline_arrays('space_sum',tag_filter_func=lambda t:'microbes' in t)\n",
    "tla_mic_ntax = diagcollector.get_timeline_arrays('ntaxpercell')\n",
    "tla_clim = diagcollector.get_timeline_arrays('Climate')\n",
    "tla_mic_nind = diagcollector.get_timeline_arrays('Quanta')\n",
    "tla_mic_indmass = diagcollector.get_timeline_arrays('LocalTaxIndividualMass')"
   ]
  },
  {
   "cell_type": "code",
   "execution_count": null,
   "id": "75c4407e",
   "metadata": {},
   "outputs": [],
   "source": [
    "tmin = 365*20\n",
    "tmax = tmin+(6) * 365"
   ]
  },
  {
   "cell_type": "code",
   "execution_count": null,
   "id": "8607829b",
   "metadata": {},
   "outputs": [],
   "source": [
    "# tla_mem = diagcollector.get_timeline_arrays('Memory')\n",
    "# print(tla_mem.keys())\n",
    "# for k,d in tla_mem.items():\n",
    "#     fig,ax = plt.subplots(1,1,figsize=(12,3))\n",
    "#     ax.plot(d['times'],d['values'] / (2**20))\n",
    "#     ax.grid()\n",
    "#     ax.set_ylabel('Mo')\n",
    "#     ax.set_title(k)\n",
    "# fig,ax = plt.subplots(1,1,figsize=(12,3))\n",
    "# ax.plot(tla_mem['ru_maxrss']['times'],tla_mem['ru_maxrss']['values'])\n",
    "# ax.grid()"
   ]
  },
  {
   "cell_type": "code",
   "execution_count": null,
   "id": "b18ee44d",
   "metadata": {},
   "outputs": [],
   "source": [
    "# print(eco.microbes.dispersal_op.biomass_ratios)\n",
    "# print(eco.microbes.dispersal_op.saturation_thresholds)\n",
    "# print(eco.microbes.dispersal_op.saturation_thresholds_dict)\n"
   ]
  },
  {
   "cell_type": "code",
   "execution_count": null,
   "id": "ee482bfd",
   "metadata": {},
   "outputs": [],
   "source": [
    "# for k,d in eco.microbes.metabolites.items():\n",
    "#     print('*'*100)\n",
    "#     print(k)\n",
    "# #     print(d.active_pathway)\n",
    "# #     print(d.environ_functions)\n",
    "# #     print(d.external_targets)\n",
    "#     print(d.ref_cost)"
   ]
  },
  {
   "cell_type": "code",
   "execution_count": null,
   "id": "2b28b0f6",
   "metadata": {},
   "outputs": [],
   "source": [
    "# eco.microbes.get_metabolic_processes_operands('Consti',eco.get_environment(2))"
   ]
  },
  {
   "cell_type": "code",
   "execution_count": null,
   "id": "e85d4a28",
   "metadata": {},
   "outputs": [],
   "source": [
    "# truc = eco.microbes.get_metabolic_processes_targets('Induci')\n",
    "# for i,o in enumerate(truc):\n",
    "#     print(i,o.shape)\n",
    "    "
   ]
  },
  {
   "cell_type": "code",
   "execution_count": null,
   "id": "910f8647",
   "metadata": {},
   "outputs": [],
   "source": [
    "# for process in ['Consti','Induci']:\n",
    "#     print('*'*100)\n",
    "#     print(process)\n",
    "#     for k,met in eco.microbes.metabolites.items():\n",
    "#         print(k)\n",
    "#         print('+'*20)\n",
    "#         for targ in met.get_target_types():\n",
    "#             if (met.active_pathway[process][targ]):\n",
    "#                 print('-'*20)\n",
    "#                 print(targ)\n",
    "#                 print('-'*20)\n",
    "#                 print('external', met.external_targets[process][targ])\n",
    "#                 print('targ',met.targets[process][targ])"
   ]
  },
  {
   "cell_type": "code",
   "execution_count": null,
   "id": "50fe2422",
   "metadata": {},
   "outputs": [],
   "source": [
    "fig,ax = plt.subplots(1,1,figsize=(12,4))\n",
    "for itax in range(tla_mic_nind['microbes']['values'].shape[1]):\n",
    "    ax.plot(tla_mic_nind['microbes']['times'],tla_mic_nind['microbes']['values'][:,itax],label='Taxon {}'.format(itax)\n",
    "           )\n",
    "ax.legend()\n",
    "ax.grid()"
   ]
  },
  {
   "cell_type": "code",
   "execution_count": null,
   "id": "93f6b930",
   "metadata": {},
   "outputs": [],
   "source": [
    "fig,ax = plt.subplots(1,1,figsize=(12,4))\n",
    "ax.plot(tla_mic_nind['microbes']['times'],np.sum(tla_mic_nind['microbes']['values'],axis=(-2,-1)))\n",
    "ax.set_xlabel('time')\n",
    "ax.set_title('Nb individuals')\n",
    "ax.grid();"
   ]
  },
  {
   "cell_type": "code",
   "execution_count": null,
   "id": "7fcf66b6",
   "metadata": {},
   "outputs": [],
   "source": [
    "fig, axes = plt.subplots(2,1, figsize=(12,4))\n",
    "for k, ax in zip(tla_clim.keys(),axes):\n",
    "    ax.plot(tla_clim[k]['times'],tla_clim[k]['values'])\n",
    "    ax.set_xlabel('time')\n",
    "    ax.set_ylabel(k)\n",
    "    ax.grid()"
   ]
  },
  {
   "cell_type": "code",
   "execution_count": null,
   "id": "496dfb6e",
   "metadata": {},
   "outputs": [],
   "source": [
    "fig, axes = plt.subplots(3,1, figsize=(16,18))\n",
    "scal = 1.0 / eco.microbes.grid_size\n",
    "for ia,ax in enumerate(axes):\n",
    "    tmp_sum = None\n",
    "    for k, d in tla_comp_space.items():\n",
    "        if (tmp_sum is None):\n",
    "            tmp_sum = np.zeros_like(d['values'][:,ia])\n",
    "            td = d['times']\n",
    "        ls = get_line_type(k)\n",
    "        ax.plot(d['times'],scal*d['values'][:,ia],ls, label=k)\n",
    "        tmp_sum += d['values'][:, ia]\n",
    "    for k, d in tla_comp_space_external.items():\n",
    "        if (tmp_sum is None):\n",
    "            tmp_sum = np.zeros_like(d['values'][:,ia])\n",
    "            td = d['times']\n",
    "        ls = get_line_type(k)\n",
    "        ax.plot(d['times'],scal*d['values'][:,ia],ls, label=k)\n",
    "        tmp_sum -= d['values'][:, ia]\n",
    "    ax.plot(td,scal*tmp_sum,'.',color='black',lw=0.2,alpha=0.1,label='sum internal - sum sources')\n",
    "    ax.grid()\n",
    "    ax.legend(fontsize=8, ncol=3,loc=1, framealpha=0.5)\n",
    "    ax.set_title('Biomass {}'.format(['C','N','P'][ia]))"
   ]
  },
  {
   "cell_type": "code",
   "execution_count": null,
   "id": "f2352156",
   "metadata": {},
   "outputs": [],
   "source": []
  },
  {
   "cell_type": "code",
   "execution_count": null,
   "id": "7de453ea",
   "metadata": {},
   "outputs": [],
   "source": [
    "fig, ax = plt.subplots(1,1, figsize=(12,4))\n",
    "scal = 1.0 / eco.microbes.grid_size\n",
    "d = tla_comp_space['Respiration_Growth_Induci_Maint']\n",
    "ax.plot(d['times'],d['values'][:,0]*scal)\n",
    "\n",
    "ax.grid()\n",
    "ax.set_title('Respiration Growth Induci Maint')"
   ]
  },
  {
   "cell_type": "code",
   "execution_count": null,
   "id": "8b853110",
   "metadata": {},
   "outputs": [],
   "source": [
    "fig, ax = plt.subplots(1,1)\n",
    "t, dat = tla_mic_ntax['microbes']['times'],tla_mic_ntax['microbes']['values']\n",
    "ax.plot(t,dat[:,0], label='mean')\n",
    "ax.fill_between(t,dat[:,0]-dat[:,1],dat[:,0]+dat[:,1], alpha=0.2)\n",
    "ax.plot(t,dat[:,2], label='min')\n",
    "ax.plot(t,dat[:,3], label='max')\n",
    "ax.grid()\n",
    "ax.set_xlabel('Time')\n",
    "ax.set_ylabel('Live Taxa per grid cell')\n",
    "ax.legend();\n",
    "plt.show()\n",
    "plt.close(fig)\n",
    "#"
   ]
  },
  {
   "cell_type": "code",
   "execution_count": null,
   "id": "ea23cccd",
   "metadata": {},
   "outputs": [],
   "source": [
    "fig, axes = plt.subplots(3,1, figsize=(16,18))\n",
    "scal = 1.0 / eco.microbes.grid_size\n",
    "for ia,ax in enumerate(axes):\n",
    "    for k,d in tla_sub.items():\n",
    "        for isub, subname in enumerate(eco.substrates.names):\n",
    "            if (isub < 2):\n",
    "                ls = '--'\n",
    "            else:\n",
    "                ls = '-'\n",
    "            ax.plot(d['times'][tmin:tmax],scal*d['values'][:,isub,ia][tmin:tmax],ls,label=subname)\n",
    "    ax.legend()\n",
    "    ax.grid()\n",
    "    ax.set_title('Substrate Biomass {}'.format(['C','N','P'][ia]))"
   ]
  },
  {
   "cell_type": "code",
   "execution_count": null,
   "id": "cea7b074",
   "metadata": {},
   "outputs": [],
   "source": [
    "# tmin = 30280\n",
    "# tmax = tmin + 730\n",
    "# fig, ax = plt.subplots(1,1, figsize=(16,5))\n",
    "# for k,d in tla_sub.items():\n",
    "#     for isub, subname in enumerate(eco.substrates.names):\n",
    "#         if (isub < 2):\n",
    "#             ls = '--'\n",
    "#         else:\n",
    "#             ls = '-'\n",
    "#         ssub = np.sum(d['values'][:,isub,:],axis=-1)\n",
    "#         drate = np.gradient(np.log(ssub+1.0e-16))\n",
    "#         drate_neg = np.zeros_like(drate)\n",
    "#         drate_neg[drate < 0]= -drate[drate < 0]\n",
    "#         ax.plot(d['times'][tmin:tmax],drate_neg[tmin:tmax],ls,label=subname)\n",
    "# ax.legend()\n",
    "# ax.grid()\n",
    "# ax.set_title('Substrate Negative decay rate')"
   ]
  },
  {
   "cell_type": "code",
   "execution_count": null,
   "id": "1ccaeea0",
   "metadata": {},
   "outputs": [],
   "source": [
    "fig, ax = plt.subplots(1,1, figsize=(12,5))\n",
    "scal = 1.0 / eco.microbes.grid_size\n",
    "for k,d in tla_sub.items():\n",
    "    ax.plot(d['times'][tmin:tmax],scal*np.sum(d['values'][tmin:tmax],axis=(-2,-1)))\n",
    "ax.grid()\n",
    "ax.set_title('Substrate total mass')"
   ]
  },
  {
   "cell_type": "code",
   "execution_count": null,
   "id": "3b60769d",
   "metadata": {},
   "outputs": [],
   "source": [
    "# fig, axes = plt.subplots(3,1, figsize=(16,18))\n",
    "# scal = 1.0 / eco.microbes.grid_size\n",
    "# tmin = 0\n",
    "# tmax = -1\n",
    "# for ia,ax in enumerate(axes):\n",
    "#     for k,d in tla_sub.items():\n",
    "\n",
    "#         for isub, subname in enumerate(eco.substrates.names):\n",
    "#             if (subname not in ['DeadMic','DeadEnz']):\n",
    "#                 continue\n",
    "#             if (isub < 2):\n",
    "#                 ls = '--'\n",
    "#             else:\n",
    "#                 ls = '-'\n",
    "#             ax.plot(d['times'][tmin:tmax],scal*d['values'][:,isub,ia][tmin:tmax],ls,label=subname)\n",
    "#     ax.legend()\n",
    "#     ax.grid()\n",
    "#     ax.set_title('Substrate Biomass {}'.format(['C','N','P'][ia]))"
   ]
  },
  {
   "cell_type": "code",
   "execution_count": null,
   "id": "02c9867a",
   "metadata": {},
   "outputs": [],
   "source": [
    "fig, axes = plt.subplots(2,1, figsize=(16,12))\n",
    "scal = 1.0 / eco.microbes.grid_size\n",
    "for ia,ax in enumerate(axes):\n",
    "    for k,d in tla_enz.items():\n",
    "        for ienz, enzname in enumerate(eco.degradation_enzymes.names):\n",
    "            if (ienz < 2):\n",
    "                ls = '--'\n",
    "            else:\n",
    "                ls = '-'\n",
    "            ax.plot(d['times'][tmin:tmax],scal*d['values'][:,ienz,ia][tmin:tmax],ls,label=enzname)\n",
    "    ax.legend()\n",
    "    ax.grid()\n",
    "    ax.set_title('Enzyme Biomass {}'.format(['C','N','P'][ia]))\n",
    "    ax.set_ylim(0,0.25)"
   ]
  },
  {
   "cell_type": "code",
   "execution_count": null,
   "id": "ad5e9e55",
   "metadata": {},
   "outputs": [],
   "source": [
    "# %matplotlib inline\n",
    "# scal = 1.0 / eco.microbes.grid_size\n",
    "# fig = plt.figure(figsize=(16,8))\n",
    "# dat = np.sum(tla_mic['microbes']['values'][:,:,:],axis=-1)\n",
    "# sdat = np.sum(dat,axis=1)\n",
    "# dat = dat / sdat[:,np.newaxis]\n",
    "# plt.imshow(dat.T, aspect='auto',origin='lower',interpolation='None', cmap='magma')\n",
    "# plt.xlabel('time')\n",
    "# plt.ylabel('taxon id')\n",
    "# plt.title('Taxon Total mass Relative abundancy')\n",
    "# plt.colorbar();"
   ]
  },
  {
   "cell_type": "code",
   "execution_count": null,
   "id": "ad4ce508",
   "metadata": {},
   "outputs": [],
   "source": [
    "# %matplotlib inline\n",
    "# scal = 1.0 / eco.microbes.grid_size\n",
    "# fig = plt.figure(figsize=(16,8))\n",
    "# #plt.imshow(tla_ncells['microbes'][1].T,aspect='auto', origin='lower',interpolation='None')#\n",
    "# plt.pcolormesh(tla_ncells['microbes']['values'].T *scal, shading='flat', cmap='magma')\n",
    "# plt.xlabel('time')\n",
    "# plt.ylabel('taxon id')\n",
    "# plt.title('Taxon grid occupation fraction ')\n",
    "# plt.colorbar();"
   ]
  },
  {
   "cell_type": "code",
   "execution_count": null,
   "id": "e53b749c",
   "metadata": {},
   "outputs": [],
   "source": [
    "scal = 1.0 / eco.microbes.grid_size\n",
    "for k, d in tla_bytype.items():\n",
    "    mtypes = eco.microbes.get_taxa_types()\n",
    "    print(mtypes)\n",
    "    fig, axes = plt.subplots(3,1, figsize=(14,12))\n",
    "    for ia, ax in enumerate(axes):\n",
    "        ax.set_title('{} {}'.format(k, ['C','N','P'][ia]))\n",
    "        for itype, typ in enumerate(mtypes):\n",
    "            ax.plot(d['times'][tmin:tmax],scal*d['values'][:,itype,ia][tmin:tmax],label=typ)\n",
    "        ax.grid()\n",
    "        ax.legend(fontsize=9)"
   ]
  },
  {
   "cell_type": "code",
   "execution_count": null,
   "id": "867857ef",
   "metadata": {},
   "outputs": [],
   "source": []
  },
  {
   "cell_type": "code",
   "execution_count": null,
   "id": "b62956f8",
   "metadata": {},
   "outputs": [],
   "source": [
    "scal = 1.0 / eco.microbes.grid_size\n",
    "smin = eco.microbes.get_taxa_stoechiometry_quotas('min')[0,:]\n",
    "smin_comp = np.ones_like(smin)\n",
    "for ia  in range(smin_comp.shape[0]):\n",
    "    smin_comp[ia] = 1.0+smin[ia]-np.sum(smin)\n",
    "smax = eco.microbes.get_taxa_stoechiometry_quotas('max')[0,:]\n",
    "for k, d in tla_bytype.items():\n",
    "    mtypes = eco.microbes.get_taxa_types()\n",
    "    fig, axes = plt.subplots(3,1, figsize=(14,12))\n",
    "    dsub = tla_sub['substrates']\n",
    "    ssub = np.sum(dsub['values'][:,:,:],axis=1)\n",
    "    sssub = np.sum(ssub,axis=-1)\n",
    "    stsub = np.divide(ssub , sssub[:,np.newaxis],where=sssub[:,np.newaxis] > 0)\n",
    "    ssub_corr = ssub * np.array([0.5,1.0,1])[np.newaxis,:]\n",
    "    sssub_corr = np.sum(ssub_corr,axis=-1)\n",
    "    stsub_corr = np.divide(ssub_corr , sssub_corr[:,np.newaxis],where=sssub_corr[:,np.newaxis] > 0)\n",
    "    for ia, ax in enumerate(axes):\n",
    "        ax.set_title('{} {}'.format(k, ['C','N','P'][ia]))\n",
    "        for itype, typ in enumerate(mtypes):\n",
    "            if (typ != 'bacteria'):\n",
    "                continue\n",
    "            tmp_f = np.divide(d['values'][:,itype,ia],np.sum(d['values'][:,itype,:],axis=-1),\n",
    "                             where = np.sum(d['values'][:,itype,:],axis=-1) >0)\n",
    "#             tmp_f = d['values'][:,itype,ia] / np.sum(d['values'][:,itype,:],axis=-1)\n",
    "            ax.plot(d['times'][tmin:tmax],tmp_f[tmin:tmax],label=typ)\n",
    "        \n",
    "        \n",
    "        ax.plot(dsub['times'][tmin:tmax],stsub[:,ia][tmin:tmax],'--',lw=0.5,label='substrates')\n",
    "        ax.plot(dsub['times'][tmin:tmax],stsub_corr[:,ia][tmin:tmax],'--',lw=0.5,label='substrates C/2')\n",
    "        xmin,xmax = ax.get_xlim()\n",
    "        ax.hlines([smin[ia],smin_comp[ia]],xmin,xmax,colors=['k','k'],linestyles='--')\n",
    "        ax.grid()\n",
    "        ax.legend(fontsize=9)\n",
    "        ax.set_ylim(0,1)"
   ]
  },
  {
   "cell_type": "code",
   "execution_count": null,
   "id": "32a3bc7e",
   "metadata": {},
   "outputs": [],
   "source": [
    "%matplotlib inline\n",
    "scal = 1.0 / eco.microbes.grid_size\n",
    "fig = plt.figure(figsize=(16,8))\n",
    "dat = np.sum(tla_mic['microbes']['values'][:,:,:],axis=-1)\n",
    "sdat = np.sum(dat,axis=1)\n",
    "dat = dat / sdat[:,np.newaxis]\n",
    "plt.plot(tla_mic['microbes']['times'],dat,label=eco.microbes.names)\n",
    "plt.legend()\n",
    "plt.xlabel('Time')\n",
    "plt.ylabel('Total mass relative abundancy')\n",
    "plt.grid()"
   ]
  },
  {
   "cell_type": "code",
   "execution_count": null,
   "id": "5165256a",
   "metadata": {},
   "outputs": [],
   "source": [
    "fig, axes = plt.subplots(3,1, figsize=(16,18))\n",
    "scal = 1.0 / eco.microbes.grid_size\n",
    "for ia,ax in enumerate(axes):\n",
    "    for k,d in tla_mic.items():\n",
    "        for itax, micname in enumerate(eco.microbes.names):\n",
    "            if (itax%2 ==0):\n",
    "                ls = '--'\n",
    "            else:\n",
    "                ls = '-'\n",
    "            ax.plot(d['times'],scal*d['values'][:,itax,ia],ls,label=micname)\n",
    "    ax.legend(ncol=2, fontsize=8)\n",
    "    ax.grid()\n",
    "    ax.set_title('Taxa Biomass {}'.format(['C','N','P'][ia]))"
   ]
  },
  {
   "cell_type": "code",
   "execution_count": null,
   "id": "7784535e",
   "metadata": {},
   "outputs": [],
   "source": []
  }
 ],
 "metadata": {
  "kernelspec": {
   "display_name": "Python 3 (ipykernel)",
   "language": "python",
   "name": "python3"
  },
  "language_info": {
   "codemirror_mode": {
    "name": "ipython",
    "version": 3
   },
   "file_extension": ".py",
   "mimetype": "text/x-python",
   "name": "python",
   "nbconvert_exporter": "python",
   "pygments_lexer": "ipython3",
   "version": "3.9.13"
  }
 },
 "nbformat": 4,
 "nbformat_minor": 5
}
