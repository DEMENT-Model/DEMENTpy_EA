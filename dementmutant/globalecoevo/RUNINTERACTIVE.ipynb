{
 "cells": [
  {
   "cell_type": "code",
   "execution_count": null,
   "id": "0c28c952",
   "metadata": {},
   "outputs": [],
   "source": [
    "%config Completer.use_jedi=False\n",
    "\n",
    "import sys\n",
    "sys.path.append('../../')\n",
    "\n",
    "import numpy as np\n",
    "import pandas as pd\n",
    "import matplotlib.pyplot as plt\n",
    "from scipy.stats import rankdata\n",
    "\n",
    "from examples.commonutils.simutils import set_stoechimetry_step_type,get_stoechimetry_step_type \n",
    "from refsimu import build_and_run_simu\n",
    "from refsimu import microbe_pop_on\n",
    "def get_line_type(fname):\n",
    "    if (fname in ['microbes','monomers','substrates','degradation_enzymes']):\n",
    "        res = '-'\n",
    "    else:\n",
    "        res = '--'\n",
    "    return res"
   ]
  },
  {
   "cell_type": "code",
   "execution_count": null,
   "id": "9e8ee21c",
   "metadata": {},
   "outputs": [],
   "source": []
  },
  {
   "cell_type": "code",
   "execution_count": null,
   "id": "00a9fe3e",
   "metadata": {},
   "outputs": [],
   "source": [
    "get_stoechimetry_step_type()"
   ]
  },
  {
   "cell_type": "code",
   "execution_count": null,
   "id": "3e52ed05",
   "metadata": {},
   "outputs": [],
   "source": [
    "# separate stoechimoetry \n",
    "# set_stoechimetry_step_type('standalone')\n",
    "print(get_stoechimetry_step_type())"
   ]
  },
  {
   "cell_type": "code",
   "execution_count": null,
   "id": "9dffce5e",
   "metadata": {},
   "outputs": [],
   "source": [
    "microbe_pop_on() # switch to new model for microbes taking account of number of individuals. "
   ]
  },
  {
   "cell_type": "code",
   "execution_count": null,
   "id": "63d91f08",
   "metadata": {},
   "outputs": [],
   "source": [
    "litter_names =['DementDefault','Boreal','Desert','Grassland','PineOak','Scrubland','Subalpine']\n",
    "\n",
    "\n",
    "\n",
    "subst_descs_single = { k.upper():{'name':k.upper(),'steps':[(k,'inf')]}\n",
    "                              for k in litter_names\n",
    "                          }"
   ]
  },
  {
   "cell_type": "code",
   "execution_count": null,
   "id": "4d9a5c8b",
   "metadata": {},
   "outputs": [],
   "source": []
  },
  {
   "cell_type": "code",
   "execution_count": null,
   "id": "441a5bc2",
   "metadata": {},
   "outputs": [],
   "source": [
    "grid_shape = (32,32)\n",
    "n_degrad_enzymes = 12\n",
    "n_taxa = 100\n",
    "n_osmolytes = 1\n",
    "n_years = 2\n",
    "n_steps = 365 * n_years-1\n",
    "# n_steps = 10\n",
    "num_threads = 1\n",
    "\n",
    "case_parameters = {\n",
    "               'substrate_inputs' : {'name':'TESTINPPUT','steps':[('DementDefault','inf')],'type':'Daily'},\n",
    "               'initial_diversity':'uniform',\n",
    "               'selected_tax': None,\n",
    "               'mutation_rate': 0.005,#0.005,\n",
    "               'mutation_type': 'two', # set to 'one' for only 1 mutating daughter (old version)\n",
    "               'disp_proba0': 0.8,\n",
    "               'boundary_flux':True,\n",
    "               'diagnostic_period_day':1,\n",
    "               }\n",
    "run_seeds = {\n",
    "        'microbes_mortality': 42,\n",
    "        'microbes_dispersal': 5,\n",
    "        'microbes_mutation': 0,\n",
    "        }"
   ]
  },
  {
   "cell_type": "code",
   "execution_count": null,
   "id": "4520c0d7",
   "metadata": {},
   "outputs": [],
   "source": [
    "eco, diagcollector = build_and_run_simu(grid_shape,\n",
    "                                        n_degrad_enzymes,n_taxa,n_osmolytes,n_steps,\n",
    "                                        run_seeds=run_seeds,\n",
    "                                        with_diags=True,\n",
    "                                        save_fields=False,\n",
    "                                        save_diags=True,\n",
    "                                        save_dir = './simutest_interactive_{}_{}'.format(case_parameters[\"substrate_inputs\"][\"name\"],\n",
    "                                                                                        case_parameters['substrate_inputs']['type'],\n",
    "                                                                                        ),\n",
    "                                        num_threads=num_threads,\n",
    "                                        case_parameters=case_parameters,\n",
    "                                        )"
   ]
  },
  {
   "cell_type": "code",
   "execution_count": null,
   "id": "0cffa3a5",
   "metadata": {},
   "outputs": [],
   "source": []
  },
  {
   "cell_type": "code",
   "execution_count": null,
   "id": "9efdd3af",
   "metadata": {},
   "outputs": [],
   "source": [
    "# eco.microbes.mutation_op.compute_mutation_probas()\n",
    "# eco.microbes.mutation_op.mutation_probas"
   ]
  },
  {
   "cell_type": "code",
   "execution_count": null,
   "id": "59ccf422",
   "metadata": {
    "hideCode": false,
    "hideOutput": false
   },
   "outputs": [],
   "source": [
    "# for k,d in eco.microbes.metabolites.items():\n",
    "#     print('*'*100)\n",
    "#     print(k)\n",
    "# #     print(d.active_pathway)\n",
    "# #     print(d.environ_functions)\n",
    "# #     print(d.external_targets)\n",
    "#     print(d.ref_cost)"
   ]
  },
  {
   "cell_type": "code",
   "execution_count": null,
   "id": "3d135488",
   "metadata": {},
   "outputs": [],
   "source": [
    "# eco.microbes.get_metabolic_processes_operands('Consti',eco.get_environment(2))"
   ]
  },
  {
   "cell_type": "code",
   "execution_count": null,
   "id": "15194b21",
   "metadata": {},
   "outputs": [],
   "source": [
    "# for process in ['Consti','Induci']:\n",
    "#     print('*'*100)\n",
    "#     print(process)\n",
    "#     for k,met in eco.microbes.metabolites.items():\n",
    "#         print(k)\n",
    "#         print('+'*20)\n",
    "#         for targ in met.get_target_types():\n",
    "#             if (met.active_pathway[process][targ]):\n",
    "#                 print('-'*20)\n",
    "#                 print(targ)\n",
    "#                 print('-'*20)\n",
    "#                 print('external', met.external_targets[process][targ])\n",
    "#                 print('targ',met.targets[process][targ])"
   ]
  },
  {
   "cell_type": "code",
   "execution_count": null,
   "id": "aa49edea",
   "metadata": {},
   "outputs": [],
   "source": [
    "tla_comp_space = diagcollector.get_timeline_arrays('space_comp_sum', tag_filter_func= lambda t: 'pool' in t and 'input' not in t)\n",
    "tla_comp_space_external =  diagcollector.get_timeline_arrays('space_comp_sum', tag_filter_func= lambda t: 'pool' in t and 'input'  in t)\n",
    "tla_recycling = diagcollector.get_timeline_arrays('space_comp_sum',tag_filter_func=lambda t:'stoechio_balance_recycler' in t)\n",
    "tla_mortality = diagcollector.get_timeline_arrays('space_comp_sum',tag_filter_func=lambda t:'mortality_op' in t)\n",
    "tla_bytype = diagcollector.get_timeline_arrays('sum_by_type')\n",
    "tla_ncells = diagcollector.get_timeline_arrays('ncells')\n",
    "tla_sub = diagcollector.get_timeline_arrays('space_sum',tag_filter_func=lambda t:'substrates' in t)\n",
    "tla_enz = diagcollector.get_timeline_arrays('space_sum',tag_filter_func=lambda t:'degradation_enzymes' in t)\n",
    "tla_mon = diagcollector.get_timeline_arrays('space_sum',tag_filter_func=lambda t:'monomers' in t)\n",
    "tla_mic = diagcollector.get_timeline_arrays('space_sum',tag_filter_func=lambda t:'microbes' in t)\n",
    "tla_mic_ntax = diagcollector.get_timeline_arrays('ntaxpercell')\n",
    "tla_mic_nind = diagcollector.get_timeline_arrays('Quanta')\n",
    "tla_mic_taxpos = diagcollector.get_timeline_arrays('LocalMeanTaxPos')\n",
    "tla_mic_indmass = diagcollector.get_timeline_arrays('LocalTaxIndividualMass')\n",
    "tla_micclasspop = diagcollector.get_timeline_arrays('TaxClassesPop')\n",
    "tla_subclassmass = diagcollector.get_timeline_arrays('SubClassesTMass')\n",
    "tla_enzclassmass = diagcollector.get_timeline_arrays('EnzClassesTMass')\n",
    "tla_bdflux = diagcollector.get_timeline_arrays('BoundaryFlux')\n",
    "tla_birthmut = diagcollector.get_timeline_arrays('BirthMutation')"
   ]
  },
  {
   "cell_type": "code",
   "execution_count": null,
   "id": "a0699afe",
   "metadata": {},
   "outputs": [],
   "source": [
    "tla_mic_nind['microbes'].keys()"
   ]
  },
  {
   "cell_type": "code",
   "execution_count": null,
   "id": "0f7839d8",
   "metadata": {},
   "outputs": [],
   "source": [
    "# %matplotlib inline\n",
    "# fig,ax = plt.subplots(1,1, figsize=(12,5))\n",
    "# for k,d in tla_bdflux.items():\n",
    "#     ax.plot(d['times'],d['values'],label=k)\n",
    "#     dd = np.sum(tla_mic_nind['microbes']['values'][:,:,0],axis=-1)\n",
    "# ax.plot(tla_mic_nind['microbes']['times'],dd,label='total')\n",
    "# ax.legend()\n",
    "# ax.grid()\n",
    "# ax.set_xlabel('time')\n",
    "# plt.show()\n",
    "# plt.close(fig)"
   ]
  },
  {
   "cell_type": "code",
   "execution_count": null,
   "id": "c751909f",
   "metadata": {},
   "outputs": [],
   "source": []
  },
  {
   "cell_type": "code",
   "execution_count": null,
   "id": "e57ad898",
   "metadata": {},
   "outputs": [],
   "source": [
    "# %matplotlib inline\n",
    "# fig,ax = plt.subplots(1,1, figsize=(12,5))\n",
    "# dd = np.sum(tla_mic_nind['microbes']['values'][:,:,0],axis=-1)[1:]\n",
    "# for k,d in tla_bdflux.items():\n",
    "#     ax.plot(d['times'],d['values'][:,0] / dd,label=k)\n",
    "# ax.legend()\n",
    "# ax.grid()\n",
    "# ax.set_xlabel('time')\n",
    "# ax.set_ylabel('ratio vs total pop')\n",
    "# plt.show()\n",
    "# plt.close(fig)"
   ]
  },
  {
   "cell_type": "code",
   "execution_count": null,
   "id": "bc109db4",
   "metadata": {},
   "outputs": [],
   "source": [
    "# %matplotlib inline\n",
    "# fig,ax = plt.subplots(1,1, figsize=(12,5))\n",
    "# d = tla_bdflux['bacteria_ncross']\n",
    "# dd = tla_bdflux['bacteria_nchange']\n",
    "# ax.plot(d['times'],dd['values']/d['values'])\n",
    "# xmin,xmax = ax.get_xlim()\n",
    "# ax.hlines(np.mean(dd['values']/d['values']),xmin,xmax,color='r')\n",
    "# ax.grid()\n",
    "# ax.set_xlabel('time')\n",
    "# ax.set_ylabel('nchange/ncross')\n",
    "# plt.show()\n",
    "# plt.close(fig)"
   ]
  },
  {
   "cell_type": "code",
   "execution_count": null,
   "id": "69c0af5a",
   "metadata": {},
   "outputs": [],
   "source": [
    "# fig,ax = plt.subplots(1,1,figsize=(12,5))\n",
    "# for k,d in tla_birthmut.items():\n",
    "#     ax.plot(d['times'],d['values'],label=k)\n",
    "# ax.grid()\n",
    "# ax.legend()\n",
    "# ax.set_xlabel('time (days)')\n",
    "# plt.show()\n",
    "# plt.close(fig)"
   ]
  },
  {
   "cell_type": "code",
   "execution_count": null,
   "id": "dfe47fe2",
   "metadata": {},
   "outputs": [],
   "source": [
    "# fig,ax = plt.subplots(1,1, figsize=(12,5))\n",
    "# for k,d in tla_micclasspop.items():\n",
    "#     ax.plot(d['times'],d['values'],label=k)\n",
    "# ax.set_xlabel('time (days)')\n",
    "# ax.set_ylabel('Population')\n",
    "# ymin,ymax = ax.get_ylim()\n",
    "# ax.set_ylim(0,ymax)\n",
    "# ax.legend();\n",
    "# ax.grid();\n"
   ]
  },
  {
   "cell_type": "code",
   "execution_count": null,
   "id": "92303ed6",
   "metadata": {},
   "outputs": [],
   "source": [
    "# fig,ax = plt.subplots(1,1, figsize=(12,5))\n",
    "# tt = [d['times'] for d in tla_subclassmass.values()]\n",
    "# vv = np.row_stack([d['values'][:,0] for d in tla_subclassmass.values()])\n",
    "# kk = list(tla_subclassmass.keys())\n",
    "# ax.stackplot(tt[0],vv,labels=kk)\n",
    "# # for k,d in tla_subclassmass.items():\n",
    "# #     ax.plot(d['times'],d['values'],label=k)\n",
    "# ax.set_xlabel('time (days)')\n",
    "# ax.set_ylabel('Total mass')\n",
    "# ax.set_title('Litter Composition')\n",
    "# ymin,ymax = ax.get_ylim()\n",
    "# ax.set_ylim(0,ymax)\n",
    "# ax.legend();\n",
    "# ax.grid();"
   ]
  },
  {
   "cell_type": "code",
   "execution_count": null,
   "id": "02ec0014",
   "metadata": {},
   "outputs": [],
   "source": [
    "# fig,ax = plt.subplots(1,1, figsize=(12,5))\n",
    "# for k,d in tla_subclassmass.items():\n",
    "#     ax.plot(d['times'],d['values'],label=k)\n",
    "# ax.set_xlabel('time (days)')\n",
    "# ax.set_ylabel('Total mass')\n",
    "# ymin,ymax = ax.get_ylim()\n",
    "# ax.set_ylim(0,ymax)\n",
    "# ax.legend();\n",
    "# ax.grid();"
   ]
  },
  {
   "cell_type": "code",
   "execution_count": null,
   "id": "7da0d20d",
   "metadata": {},
   "outputs": [],
   "source": [
    "# def get_neg_logdecay(v):\n",
    "#     pfilt = v > 0\n",
    "#     lgv = np.zeros_like(v)\n",
    "#     lgv[pfilt] = np.log(v[pfilt])\n",
    "#     dlgv = np.gradient(lgv)\n",
    "#     dlgv[dlgv > 0] = 0\n",
    "#     return -dlgv\n",
    "\n",
    "# fig,ax = plt.subplots(1,1, figsize=(12,5))\n",
    "# for k,d in tla_subclassmass.items():\n",
    "#     ax.plot(d['times'],get_neg_logdecay(d['values'][:,0]),label=k)\n",
    "# ax.set_xlabel('time (days)')\n",
    "# ax.set_ylabel('Total mass decay rate')\n",
    "# ymin,ymax = ax.get_ylim()\n",
    "# ax.set_ylim(0,ymax)\n",
    "# ax.legend();\n",
    "# ax.grid();"
   ]
  },
  {
   "cell_type": "code",
   "execution_count": null,
   "id": "75cb15cd",
   "metadata": {},
   "outputs": [],
   "source": [
    "# fix,axes = plt.subplots(1,3,figsize=(14,4))\n",
    "# tmin = 3650\n",
    "# tmax =-1\n",
    "# for (k,d),ax in zip(tla_subclassmass.items(),axes):\n",
    "#     S = d['values'][tmin:tmax,0]\n",
    "#     mdolgS = get_neg_logdecay(S)\n",
    "#     ax.scatter(mdolgS,mdolgS *S,c = d['times'][tmin:tmax],s=0.1)\n",
    "#     ax.set_xlabel(r'$-d_t \\ln(S)$')\n",
    "#     ax.set_ylabel(r'$-d_t \\ln(S)*S$')\n",
    "#     ax.set_title(k)\n",
    "#     ax.grid()\n",
    "    "
   ]
  },
  {
   "cell_type": "code",
   "execution_count": null,
   "id": "2c52f806",
   "metadata": {},
   "outputs": [],
   "source": [
    "# fig,ax = plt.subplots(1,1, figsize=(12,5))\n",
    "# for k,d in tla_enzclassmass.items():\n",
    "#     ax.plot(d['times'],d['values'],label=k)\n",
    "# ax.set_xlabel('time (days)')\n",
    "# ax.set_ylabel('Enzyme Total mass')\n",
    "# ymin,ymax = ax.get_ylim()\n",
    "# ax.set_ylim(0,ymax)\n",
    "# ax.legend();\n",
    "# ax.grid();"
   ]
  },
  {
   "cell_type": "code",
   "execution_count": null,
   "id": "db3516da",
   "metadata": {},
   "outputs": [],
   "source": []
  },
  {
   "cell_type": "code",
   "execution_count": null,
   "id": "adc80885",
   "metadata": {},
   "outputs": [],
   "source": [
    "# fix,axes = plt.subplots(1,3,figsize=(14,4))\n",
    "# tmin = 2\n",
    "# tmax =-1\n",
    "# for (k,d),ax in zip(tla_subclassmass.items(),axes):\n",
    "#     S = d['values'][tmin:tmax,0]\n",
    "#     E = tla_enzclassmass[k]['values'][tmin:tmax,0]\n",
    "#     Y = get_neg_logdecay(S) / E\n",
    "#     ax.scatter(Y,Y*S,c = d['times'][tmin:tmax],s=0.1)\n",
    "#     ax.set_xlabel(r'$(-d_t \\ln(S)/E)$')\n",
    "#     ax.set_ylabel(r'$(-d_t \\ln(S)/E)*S$')\n",
    "#     ax.set_title(k)\n",
    "#     ax.grid()"
   ]
  },
  {
   "cell_type": "code",
   "execution_count": null,
   "id": "bc6d8a53",
   "metadata": {},
   "outputs": [],
   "source": [
    "# def get_neg_logdecay_yearaveraged(t,v):\n",
    "#     pfilt = v > 0\n",
    "#     lgv = np.zeros_like(v)\n",
    "#     lgv[pfilt] = np.log(v[pfilt])\n",
    "#     dlgv = np.gradient(lgv)\n",
    "#     dlgv[dlgv > 0] = 0\n",
    "#     years =  t.astype(int) // 365\n",
    "#     nyears = np.max(years)\n",
    "#     res = np.zeros_like(dlgv)\n",
    "#     for iyear in range(nyears+1):\n",
    "#         filt = years == iyear\n",
    "#         res[filt] = np.mean(-dlgv[filt])\n",
    "#     return res\n",
    "\n",
    "# fig,ax = plt.subplots(1,1, figsize=(12,5))\n",
    "# for k,d in tla_subclassmass.items():\n",
    "#     ax.plot(d['times'],get_neg_logdecay_yearaveraged(d['times'],d['values'][:,0]),label=k)\n",
    "# ax.set_xlabel('time (days)')\n",
    "# ax.set_ylabel('Total mass decay rate')\n",
    "# ymin,ymax = ax.get_ylim()\n",
    "# ax.set_ylim(0,ymax)\n",
    "# ax.legend();\n",
    "# ax.grid();"
   ]
  },
  {
   "cell_type": "code",
   "execution_count": null,
   "id": "c6ffc874",
   "metadata": {},
   "outputs": [],
   "source": []
  },
  {
   "cell_type": "code",
   "execution_count": null,
   "id": "5984d210",
   "metadata": {},
   "outputs": [],
   "source": [
    "# tla_mic_indmass['microbes']['times'].shape\n",
    "# t = tla_mic_indmass['microbes']['times']\n",
    "# d = tla_mic_indmass['microbes']['values']\n",
    "# fig, ax = plt.subplots(1,1,figsize=(12,6))\n",
    "# for itax in range(d.shape[1]):\n",
    "#     tmp_plt = ax.plot(t,d[:,itax,0],label='Tax{}'.format(itax))\n",
    "#     c = tmp_plt[0].get_color()\n",
    "#     ax.fill_between(t,d[:,itax,2],d[:,itax,3],color=c,alpha=0.1)\n",
    "#     ax.fill_between(t,d[:,itax,0]-d[:,itax,1],d[:,itax,0]+d[:,itax,1],color=c,alpha=0.2)\n",
    "# # ax.legend()\n",
    "# ax.grid()\n",
    "# ax.set_xlabel('Time')\n",
    "# ax.set_ylabel('Taxon individual mass');"
   ]
  },
  {
   "cell_type": "code",
   "execution_count": null,
   "id": "e6a52b97",
   "metadata": {},
   "outputs": [],
   "source": [
    "# fig,ax = plt.subplots(1,1,figsize=(12,4))\n",
    "# for itax in range(tla_mic_nind['microbes']['values'].shape[1]):\n",
    "# #     if (itax == 5):\n",
    "# #         continue\n",
    "#     ax.plot(tla_mic_nind['microbes']['times'],tla_mic_nind['microbes']['values'][:,itax],label='Taxon {}'.format(itax)\n",
    "#            )\n",
    "# # ax.legend()\n",
    "# ax.grid()"
   ]
  },
  {
   "cell_type": "code",
   "execution_count": null,
   "id": "89bf9223",
   "metadata": {},
   "outputs": [],
   "source": [
    "# fig,ax = plt.subplots(1,1,figsize=(12,4))\n",
    "\n",
    "\n",
    "\n",
    "# dmean = tla_mic_taxpos['microbes']['values'][:,0]\n",
    "# dsig = tla_mic_taxpos['microbes']['values'][:,1]\n",
    "# dmin = tla_mic_taxpos['microbes']['values'][:,2]\n",
    "# dmax = tla_mic_taxpos['microbes']['values'][:,3]\n",
    "# tmp_plt = ax.plot(tla_mic_taxpos['microbes']['times'],dmean,'-',label='Loc mean (spc mean)')\n",
    "# c = tmp_plt[0].get_color()\n",
    "# ax.fill_between(tla_mic_taxpos['microbes']['times'],dmin,dmax,alpha=0.2,color=c,label='Loc mean (spc min/max)')\n",
    "# ax.fill_between(tla_mic_taxpos['microbes']['times'],dmean-dsig,dmean+dsig,color=c,alpha=0.5,label='Loc mean (m+-sig)')\n",
    "# ax.plot(tla_mic_taxpos['microbes']['times'],dmean,'-',label='Loc mean')\n",
    "# # ax.plot(tla_mic_taxpos['microbes']['times'],tla_mic_taxpos['microbes']['values'][:,2],'+',label='Loc min')\n",
    "# # ax.plot(tla_mic_taxpos['microbes']['times'],tla_mic_taxpos['microbes']['values'][:,3],'+',label='Loc max')\n",
    "\n",
    "# # dd = np.squeeze(tla_mic_nind['microbes']['values'])\n",
    "# # tax_ids = np.array(list(range(dd.shape[1])))\n",
    "# # tax_p_mean = (np.sum(dd * tax_ids[np.newaxis,:],axis=-1)) / np.sum(dd,axis=-1)\n",
    "# # ax.plot(tla_mic_nind['microbes']['times'],tax_p_mean,label='Ind weighted')\n",
    "\n",
    "# dat = np.sum(tla_mic['microbes']['values'][:,:,:],axis=-1)\n",
    "# sdat = np.sum(dat,axis=1)\n",
    "# dd2 = dat / sdat[:,np.newaxis]\n",
    "# tax_ids = np.array(list(range(dd2.shape[1])))\n",
    "# tax_p_mean2 = (np.sum(dd2 * tax_ids[np.newaxis,:],axis=-1)) / np.sum(dd2,axis=-1)\n",
    "# ax.plot(tla_mic_nind['microbes']['times'],tax_p_mean2, label=\"Mass weighted\")\n",
    "\n",
    "# ax.set_xlabel('time')\n",
    "# ax.set_ylabel('average taxon position (individuals)')\n",
    "# ax.set_ylim(np.min(tax_ids),np.max(tax_ids))\n",
    "# ax.grid()\n",
    "# ax.legend();"
   ]
  },
  {
   "cell_type": "code",
   "execution_count": null,
   "id": "99bc9f18",
   "metadata": {},
   "outputs": [],
   "source": [
    "\n"
   ]
  },
  {
   "cell_type": "code",
   "execution_count": null,
   "id": "eadd720c",
   "metadata": {},
   "outputs": [],
   "source": [
    "# tla_clim = diagcollector.get_timeline_arrays('Climate')\n",
    "# fig, axes = plt.subplots(2,1, figsize=(12,4))\n",
    "# for k, ax in zip(tla_clim.keys(),axes):\n",
    "#     ax.plot(tla_clim[k]['times'],tla_clim[k]['values'])\n",
    "#     ax.set_xlabel('time')\n",
    "#     ax.set_ylabel(k)\n",
    "#     ax.grid()"
   ]
  },
  {
   "cell_type": "code",
   "execution_count": null,
   "id": "b7f58d15",
   "metadata": {},
   "outputs": [],
   "source": [
    "fig, axes = plt.subplots(3,1, figsize=(16,18))\n",
    "scal = 1.0 / eco.microbes.grid_size\n",
    "for ia,ax in enumerate(axes):\n",
    "    pos_sum = []\n",
    "    neg_sum = []\n",
    "    tmp_sum = None\n",
    "    for k, d in tla_comp_space.items():\n",
    "        if (tmp_sum is None):\n",
    "            tmp_sum = np.zeros_like(d['values'][:,ia])\n",
    "            td = d['times']\n",
    "        ls = get_line_type(k)\n",
    "        ax.plot(d['times'],scal*d['values'][:,ia],ls, label=k)\n",
    "        tmp_sum += d['values'][:, ia]\n",
    "        pos_sum.append(k)\n",
    "    for k, d in tla_comp_space_external.items():\n",
    "        if (tmp_sum is None):\n",
    "            tmp_sum = np.zeros_like(d['values'][:,ia])\n",
    "            td = d['times']\n",
    "        ls = get_line_type(k)\n",
    "        ax.plot(d['times'],scal*d['values'][:,ia],ls, label=k)\n",
    "        tmp_sum -= d['values'][:, ia]\n",
    "        neg_sum.append(k)\n",
    "    ax.plot(td,scal*tmp_sum,'o',color='black',lw=5.0,alpha=0.1,label='sum internal - sum sources')\n",
    "    ax.grid()\n",
    "    ax.legend(fontsize=8, ncol=3,loc=1, framealpha=0.5)\n",
    "    ax.set_title('Biomass {}'.format(['C','N','P'][ia]))"
   ]
  },
  {
   "cell_type": "code",
   "execution_count": null,
   "id": "d6215d4e",
   "metadata": {},
   "outputs": [],
   "source": [
    "d_subs_mass = np.gradient(tla_comp_space['substrates']['values'],axis=0)\n",
    "print(d_subs_mass[:,0])\n",
    "d_source_mass = np.gradient(tla_comp_space_external['DailySubstrateInput_TESTINPPUT']['values'],axis=0)\n",
    "print(d_source_mass[:,0])\n",
    "print(d_source_mass[:,0]-d_subs_mass[:,0])"
   ]
  },
  {
   "cell_type": "code",
   "execution_count": null,
   "id": "bb787699",
   "metadata": {},
   "outputs": [],
   "source": [
    "fig, ax = plt.subplots(1,1, figsize=(12,4))\n",
    "scal = 1.0 / eco.microbes.grid_size\n",
    "d = tla_comp_space['Respiration_Growth_Induci_Maint']\n",
    "ax.plot(d['times'],d['values'][:,0]*scal)\n",
    "ax.grid()\n",
    "ax.set_title('Respiration Growth Induci Maint')"
   ]
  },
  {
   "cell_type": "code",
   "execution_count": null,
   "id": "c6385bc4",
   "metadata": {},
   "outputs": [],
   "source": [
    "tla_comp_space.keys()"
   ]
  },
  {
   "cell_type": "code",
   "execution_count": null,
   "id": "a013722c",
   "metadata": {},
   "outputs": [],
   "source": [
    "fig, ax = plt.subplots(1,1, figsize=(12,4))\n",
    "scal = 1.0 / eco.microbes.grid_size\n",
    "sum_resp = None\n",
    "istart = 2\n",
    "for k,d in tla_comp_space.items():\n",
    "    if (k.split('_')[-1] == 'Maint'):\n",
    "        print(k)\n",
    "        dat = np.gradient(d['values'][:,0]*scal)\n",
    "        #ax.plot(d['times'][istart:],dat[istart:], label=k)\n",
    "        if (sum_resp is None):\n",
    "            sum_resp = np.zeros_like(dat)\n",
    "            td = d['times']\n",
    "        sum_resp += dat\n",
    "ax.plot(td[istart:],sum_resp[istart:],label='sum Maint')\n",
    "\n",
    "sum_state = None\n",
    "for k,d in tla_comp_space.items():\n",
    "    if (k.split('_')[-1] != 'Maint') and (k.split('_')[0] != 'Osmolytes'):\n",
    "        print(k)\n",
    "        dat = np.gradient(d['values'][:,0]*scal)\n",
    "        ax.plot(d['times'][istart:],dat[istart:], label=k)\n",
    "        if (sum_state is None):\n",
    "            sum_state = np.zeros_like(dat)\n",
    "            td = d['times']\n",
    "        sum_state += dat\n",
    "# for k, d in tla_comp_space_external.items():\n",
    "#     dat = np.gradient(d['values'][:,0]*scal)\n",
    "#     ax.plot(d['times'],scal*d['values'][:,0],ls, label=k)\n",
    "\n",
    "ax.grid()\n",
    "ax.legend(ncol=4)"
   ]
  },
  {
   "cell_type": "code",
   "execution_count": null,
   "id": "ca9d13ef",
   "metadata": {},
   "outputs": [],
   "source": []
  },
  {
   "cell_type": "code",
   "execution_count": null,
   "id": "cff281ec",
   "metadata": {},
   "outputs": [],
   "source": [
    "tla_enz_p = diagcollector.get_timeline_arrays('space_sum',tag_filter_func=lambda t:'Degradation_Enzymes' in t)"
   ]
  },
  {
   "cell_type": "code",
   "execution_count": null,
   "id": "b6889fd3",
   "metadata": {},
   "outputs": [],
   "source": [
    "fig, ax = plt.subplots(1,1, figsize=(12,4))\n",
    "scal = 1.0 / eco.microbes.grid_size\n",
    "for k,d in tla_enz_p.items():\n",
    "    ax.plot(d['times'],d['values'][:,0,0]*scal,label=k)\n",
    "ax.grid()\n",
    "ax.legend()"
   ]
  },
  {
   "cell_type": "code",
   "execution_count": null,
   "id": "b448b47b",
   "metadata": {},
   "outputs": [],
   "source": [
    "tla_osmo_p = diagcollector.get_timeline_arrays('space_sum',tag_filter_func=lambda t:'Osmolytes' in t)"
   ]
  },
  {
   "cell_type": "code",
   "execution_count": null,
   "id": "1c8b15ae",
   "metadata": {},
   "outputs": [],
   "source": [
    "fig, ax = plt.subplots(1,1, figsize=(12,4))\n",
    "scal = 1.0 / eco.microbes.grid_size\n",
    "for k,d in tla_osmo_p.items():\n",
    "    ax.plot(d['times'],d['values'][:,0,0]*scal,label=k)\n",
    "ax.grid()\n",
    "ax.legend()"
   ]
  },
  {
   "cell_type": "code",
   "execution_count": null,
   "id": "0155d897",
   "metadata": {},
   "outputs": [],
   "source": [
    "tla_upt_p = diagcollector.get_timeline_arrays('space_sum',tag_filter_func=lambda t:'Uptake_Transporters' in t)"
   ]
  },
  {
   "cell_type": "code",
   "execution_count": null,
   "id": "e4864022",
   "metadata": {},
   "outputs": [],
   "source": [
    "fig, ax = plt.subplots(1,1, figsize=(12,4))\n",
    "scal = 1.0 / eco.microbes.grid_size\n",
    "for k,d in tla_upt_p.items():\n",
    "    ax.plot(d['times'],d['values'][:,0,0]*scal,label=k)\n",
    "ax.grid()\n",
    "ax.legend()"
   ]
  },
  {
   "cell_type": "code",
   "execution_count": null,
   "id": "97d51c92",
   "metadata": {},
   "outputs": [],
   "source": [
    "fig, ax = plt.subplots(1,1)\n",
    "t, dat = tla_mic_ntax['microbes']['times'],tla_mic_ntax['microbes']['values']\n",
    "ax.plot(t,dat[:,0], label='mean')\n",
    "ax.fill_between(t,dat[:,0]-dat[:,1],dat[:,0]+dat[:,1], alpha=0.2)\n",
    "ax.plot(t,dat[:,2], label='min')\n",
    "ax.plot(t,dat[:,3], label='max')\n",
    "ax.grid()\n",
    "ax.set_xlabel('Time')\n",
    "ax.set_ylabel('Live Taxa per grid cell')\n",
    "ax.legend();\n",
    "plt.show()\n",
    "plt.close(fig)\n",
    "#"
   ]
  },
  {
   "cell_type": "code",
   "execution_count": null,
   "id": "303200c9",
   "metadata": {},
   "outputs": [],
   "source": []
  },
  {
   "cell_type": "code",
   "execution_count": null,
   "id": "33084573",
   "metadata": {},
   "outputs": [],
   "source": [
    "fig, axes = plt.subplots(3,1, figsize=(16,18))\n",
    "scal = 1.0 / eco.microbes.grid_size\n",
    "for ia,ax in enumerate(axes):\n",
    "    for k,d in tla_sub.items():\n",
    "        for isub, subname in enumerate(eco.substrates.names):\n",
    "            if (isub < 2):\n",
    "                ls = '--'\n",
    "            else:\n",
    "                ls = '-'\n",
    "            ax.plot(d['times'],scal*d['values'][:,isub,ia],ls,label=subname)\n",
    "    ax.legend()\n",
    "    ax.grid()\n",
    "    ax.set_title('Substrate Biomass {}'.format(['C','N','P'][ia]))"
   ]
  },
  {
   "cell_type": "code",
   "execution_count": null,
   "id": "a607e90b",
   "metadata": {},
   "outputs": [],
   "source": [
    "fig, axes = plt.subplots(3,1, figsize=(16,18))\n",
    "scal = 1.0 / eco.microbes.grid_size\n",
    "for ia,ax in enumerate(axes):\n",
    "    for k,d in tla_sub.items():\n",
    "        for isub, subname in enumerate(eco.substrates.names):\n",
    "            if (isub < 2):\n",
    "                ls = '--'\n",
    "            else:\n",
    "                ls = '-'\n",
    "            tmp_s = scal*d['values'][:,isub,ia]\n",
    "            tmp_g = np.gradient(tmp_s)\n",
    "            tmp_g[tmp_g > 0] = 0\n",
    "            ax.plot(d['times'],-tmp_g,ls,label=subname)\n",
    "    ax.legend()\n",
    "    ax.grid()\n",
    "    ax.set_title('Substrate Biomass negative gradient {}'.format(['C','N','P'][ia]))"
   ]
  },
  {
   "cell_type": "code",
   "execution_count": null,
   "id": "541edd0e",
   "metadata": {},
   "outputs": [],
   "source": [
    "fig, ax = plt.subplots(1,1, figsize=(16,4))\n",
    "scal = 1.0 / eco.microbes.grid_size\n",
    "for k,d in tla_sub.items():\n",
    "    for isub, subname in enumerate(eco.substrates.names):\n",
    "        if (isub < 2):\n",
    "            ls = '--'\n",
    "        else:\n",
    "            ls = '-'\n",
    "        tmp_s = scal*np.sum(d['values'][:,isub,:],axis=-1)\n",
    "        tmp_g = np.gradient(tmp_s)\n",
    "        tmp_g[tmp_g > 0] = 0\n",
    "        ax.plot(d['times'],-tmp_g,ls,label=subname)\n",
    "ax.legend()\n",
    "ax.grid()\n",
    "ax.set_title('Substrate Biomass negative gradient (C+N+P)')"
   ]
  },
  {
   "cell_type": "code",
   "execution_count": null,
   "id": "5f288b48",
   "metadata": {},
   "outputs": [],
   "source": [
    "fig, ax = plt.subplots(1,1, figsize=(14,6))\n",
    "scal = 1.0 / eco.microbes.grid_size\n",
    "for k,d in tla_sub.items():\n",
    "    dat = np.sum(d['values'], axis=-1)\n",
    "    loctot = np.sum(dat, axis=-1)\n",
    "    dat = dat / loctot[:,np.newaxis]\n",
    "#     dat = np.divide(dat , loctot[:,np.newaxis], where = loctot[:,np.newaxis] > 0)\n",
    "    for isub, subname in enumerate(eco.substrates.names):\n",
    "        if (isub < 2):\n",
    "            ls = '--'\n",
    "        else:\n",
    "            ls = '-'\n",
    "        ax.plot(d['times'],dat[:,isub],ls,label=subname)\n",
    "ax.legend(loc=1 ,ncol=6, )\n",
    "ax.grid()\n",
    "ax.set_title('Substrate Relative abundancy');\n"
   ]
  },
  {
   "cell_type": "code",
   "execution_count": null,
   "id": "92f7f34c",
   "metadata": {},
   "outputs": [],
   "source": [
    "fig, axes = plt.subplots(3,1, figsize=(16,18))\n",
    "scal = 1.0 / eco.microbes.grid_size\n",
    "for ia,ax in enumerate(axes):\n",
    "    for k,d in tla_enz.items():\n",
    "        for ienz, enzname in enumerate(eco.degradation_enzymes.names):\n",
    "            if (ienz < 2):\n",
    "                ls = '--'\n",
    "            else:\n",
    "                ls = '-'\n",
    "            ax.plot(d['times'],scal*d['values'][:,ienz,ia],ls,label=enzname)\n",
    "    ax.legend(ncol=6, fontsize=6)\n",
    "    ax.grid()\n",
    "    ax.set_title('Enzymes Biomass {}'.format(['C','N','P'][ia]))"
   ]
  },
  {
   "cell_type": "code",
   "execution_count": null,
   "id": "ba680715",
   "metadata": {},
   "outputs": [],
   "source": [
    "fig, axes = plt.subplots(3,1, figsize=(16,18))\n",
    "scal = 1.0 / eco.microbes.grid_size\n",
    "for ia,ax in enumerate(axes):\n",
    "    for k,d in tla_mon.items():\n",
    "        for imon, monname in enumerate(eco.monomers.names):\n",
    "            if (imon < 4):\n",
    "                ls = '--'\n",
    "            else:\n",
    "                ls = '-'\n",
    "            ax.plot(d['times'],scal*d['values'][:,imon,ia],ls,label=monname)\n",
    "    ax.legend()\n",
    "    ax.grid()\n",
    "    ax.set_title('Monomers Biomass {}'.format(['C','N','P'][ia]))"
   ]
  },
  {
   "cell_type": "code",
   "execution_count": null,
   "id": "5e3f7556",
   "metadata": {},
   "outputs": [],
   "source": [
    "fig, axes = plt.subplots(3,1, figsize=(16,18))\n",
    "scal = 1.0 / eco.microbes.grid_size\n",
    "for ia,ax in enumerate(axes):\n",
    "    for k,d in tla_mon.items():\n",
    "        for imon, monname in enumerate(eco.monomers.names):\n",
    "            if (monname not in (['DeadMic','DeadEnz'])):\n",
    "                continue\n",
    "            if (imon < 4):\n",
    "                ls = '--'\n",
    "            else:\n",
    "                ls = '-'\n",
    "            ax.plot(d['times'],scal*d['values'][:,imon,ia],ls,label=monname)\n",
    "    ax.legend()\n",
    "    ax.grid()\n",
    "    ax.set_title('Monomers Biomass {}'.format(['C','N','P'][ia]))"
   ]
  },
  {
   "cell_type": "code",
   "execution_count": null,
   "id": "80935827",
   "metadata": {},
   "outputs": [],
   "source": [
    "scal = 1.0 / eco.microbes.grid_size\n",
    "for k,d in tla_recycling.items():\n",
    "    fig, ax = plt.subplots(1,1, figsize=(12,6))\n",
    "    for ia in range(3):\n",
    "        ax.plot(d['times'],scal*d['values'][:,ia], label=['C','N','P'][ia])\n",
    "    ax.legend()\n",
    "    ax.set_title(k)\n",
    "    ax.grid()"
   ]
  },
  {
   "cell_type": "code",
   "execution_count": null,
   "id": "3daecea9",
   "metadata": {},
   "outputs": [],
   "source": [
    "scal = 1.0 / eco.microbes.grid_size\n",
    "for k,d in tla_mortality.items():\n",
    "    fig, ax = plt.subplots(1,1, figsize=(12,6))\n",
    "    for ia in range(3):\n",
    "        ax.plot(d['times'],scal*d['values'][:,ia], label=['C','N','P'][ia])\n",
    "    ax.legend()\n",
    "    ax.set_title(k)\n",
    "    ax.grid()"
   ]
  },
  {
   "cell_type": "code",
   "execution_count": null,
   "id": "21e8d8f1",
   "metadata": {},
   "outputs": [],
   "source": [
    "# scal = 1.0 / eco.microbes.grid_size\n",
    "# for k, d in tla_bytype.items():\n",
    "#     mtypes = eco.microbes.get_taxa_types()\n",
    "#     print(mtypes)\n",
    "#     fig, axes = plt.subplots(3,1, figsize=(14,12))\n",
    "#     for ia, ax in enumerate(axes):\n",
    "#         ax.set_title('{} {}'.format(k, ['C','N','P'][ia]))\n",
    "#         for itype, typ in enumerate(mtypes):\n",
    "#             ax.plot(d['times'],scal*d['values'][:,itype,ia],label=typ)\n",
    "#         ax.grid()\n",
    "#         ax.legend(fontsize=9)"
   ]
  },
  {
   "cell_type": "code",
   "execution_count": null,
   "id": "8dbc99f4",
   "metadata": {},
   "outputs": [],
   "source": [
    "# %matplotlib inline\n",
    "# scal = 1.0 / eco.microbes.grid_size\n",
    "# fig = plt.figure(figsize=(16,8))\n",
    "# # plt.pcolormesh(tla_ncells['microbes']['values'].T *scal, shading='flat', cmap='magma')\n",
    "# plt.imshow(tla_ncells['microbes']['values'].T*scal,aspect='auto',origin='lower',interpolation=\"None\", cmap='magma')\n",
    "# plt.xlabel('time')\n",
    "# plt.ylabel('taxon id')\n",
    "# plt.title('Taxon grid occupation fraction ')\n",
    "# plt.colorbar();"
   ]
  },
  {
   "cell_type": "code",
   "execution_count": null,
   "id": "e4fde14f",
   "metadata": {},
   "outputs": [],
   "source": [
    "%matplotlib inline\n",
    "scal = 1.0 / eco.microbes.grid_size\n",
    "fig = plt.figure(figsize=(16,8))\n",
    "dat = np.sum(tla_mic['microbes']['values'][:,:,:],axis=-1)\n",
    "sdat = np.sum(dat,axis=1)\n",
    "dat = dat / sdat[:,np.newaxis]\n",
    "plt.imshow(dat.T, aspect='auto',origin='lower',interpolation='None', cmap='magma')\n",
    "plt.xlabel('time')\n",
    "plt.ylabel('taxon id')\n",
    "plt.title('Taxon Total mass Relative abundancy')\n",
    "plt.colorbar();"
   ]
  },
  {
   "cell_type": "code",
   "execution_count": null,
   "id": "43925b2d",
   "metadata": {},
   "outputs": [],
   "source": [
    "%matplotlib inline\n",
    "scal = 1.0 / eco.microbes.grid_size\n",
    "fig = plt.figure(figsize=(16,8))\n",
    "dat = np.sum(tla_mic['microbes']['values'][:,:,:],axis=-1)\n",
    "sdat = np.sum(dat,axis=1)\n",
    "dat = dat / sdat[:,np.newaxis]\n",
    "plt.plot(tla_mic['microbes']['times'],dat,label=eco.microbes.names)\n",
    "plt.legend(ncol=10, fontsize=6)\n",
    "plt.xlabel('Time')\n",
    "plt.ylabel('Total mass relative abundancy')\n",
    "plt.grid()\n",
    "# plt.ylim(0.05,0.15)\n",
    "# plt.imshow(dat.T, aspect='auto',origin='lower',interpolation='None', cmap='magma')\n",
    "# plt.xlabel('time')\n",
    "# plt.ylabel('taxon id')\n",
    "# plt.title('Taxon Total mass Relative abundancy')\n",
    "# plt.colorbar();"
   ]
  },
  {
   "cell_type": "code",
   "execution_count": null,
   "id": "46cd87b5",
   "metadata": {},
   "outputs": [],
   "source": [
    "# %matplotlib inline\n",
    "# scal = 1.0 / eco.microbes.grid_size\n",
    "# fig = plt.figure(figsize=(16,8))\n",
    "# # plt.imshow(tla_ncells['microbes'][1].T,aspect='auto', origin='lower',interpolation='None')\n",
    "# dat = np.sum(tla_mic['microbes']['values'][:,:,:],axis=-1)\n",
    "# sdat = np.sum(dat,axis=1)\n",
    "# dat = dat / sdat[:,np.newaxis]\n",
    "# plt.pcolormesh(np.log10(dat.T), shading='flat', cmap='magma')\n",
    "# plt.imshow(np.log10(dat.T), aspect='auto',origin='lower',interpolation='None', cmap='magma')\n",
    "\n",
    "# plt.xlabel('time')\n",
    "# plt.ylabel('taxon id')\n",
    "# plt.title('Taxon Total mass Relative abundancy (log)')\n",
    "# plt.colorbar();"
   ]
  },
  {
   "cell_type": "code",
   "execution_count": null,
   "id": "848ba472",
   "metadata": {},
   "outputs": [],
   "source": [
    "    "
   ]
  },
  {
   "cell_type": "code",
   "execution_count": null,
   "id": "ec4ba7ef",
   "metadata": {},
   "outputs": [],
   "source": [
    "%matplotlib inline\n",
    "scal = 1.0 / eco.microbes.grid_size\n",
    "fig = plt.figure(figsize=(16,8))\n",
    "dat = np.sum(tla_mic['microbes']['values'][:,:,:],axis=-1)\n",
    "ranks = rankdata(-dat,method='max', axis=1)\n",
    "plt.imshow(-ranks.T, aspect='auto',origin='lower',interpolation='None', cmap='hot')\n",
    "plt.xlabel('time')\n",
    "plt.ylabel('taxon id')\n",
    "plt.title('Taxon Total mass rank')\n",
    "plt.colorbar();"
   ]
  },
  {
   "cell_type": "code",
   "execution_count": null,
   "id": "33ceb937",
   "metadata": {},
   "outputs": [],
   "source": [
    "# %matplotlib inline\n",
    "# scal = 1.0 / eco.microbes.grid_size\n",
    "# fig = plt.figure(figsize=(16,8))\n",
    "# dat = np.sum(tla_mic['microbes']['values'][:,:,:],axis=-1)\n",
    "# ranks = rankdata(-dat,method='max', axis=1)\n",
    "# plt.step(tla_mic['microbes']['times'],ranks, label=eco.microbes.names);\n",
    "# # plt.legend()\n",
    "# plt.imshow(-ranks.T, aspect='auto',origin='lower',interpolation='None', cmap='hot')\n",
    "# plt.xlabel('time')\n",
    "# plt.ylabel('taxon id')\n",
    "# plt.title('Taxon Total mass rank')\n",
    "# plt.colorbar();"
   ]
  },
  {
   "cell_type": "code",
   "execution_count": null,
   "id": "17c41805",
   "metadata": {},
   "outputs": [],
   "source": [
    "# %matplotlib inline\n",
    "# scal = 1.0 / eco.microbes.grid_size\n",
    "# fig = plt.figure(figsize=(16,8))\n",
    "# # plt.imshow(tla_ncells['microbes'][1].T,aspect='auto', origin='lower',interpolation='None')\n",
    "# plt.pcolormesh((tla_ncells['microbes']['values'].T > 0).astype(float), shading='flat', cmap='gray', vmin=0,vmax=1)\n",
    "# plt.xlabel('time')\n",
    "# plt.ylabel('taxon id')\n",
    "# plt.title('Taxon grid survival ')\n",
    "# plt.colorbar();"
   ]
  },
  {
   "cell_type": "code",
   "execution_count": null,
   "id": "4223b52b",
   "metadata": {},
   "outputs": [],
   "source": [
    "fig, axes = plt.subplots(3,1, figsize=(16,18))\n",
    "scal = 1.0 / eco.microbes.grid_size\n",
    "for ia,ax in enumerate(axes):\n",
    "    for k,d in tla_mic.items():\n",
    "        for itax, micname in enumerate(eco.microbes.names):\n",
    "            if (itax%2 ==0):\n",
    "                ls = '--'\n",
    "            else:\n",
    "                ls = '-'\n",
    "            ax.plot(d['times'],scal*d['values'][:,itax,ia],ls,label=micname)\n",
    "    ax.legend(ncol=8, fontsize=8)\n",
    "    ax.grid()\n",
    "    ax.set_title('Taxa Biomass {}'.format(['C','N','P'][ia]))"
   ]
  },
  {
   "cell_type": "code",
   "execution_count": null,
   "id": "6f48b475",
   "metadata": {},
   "outputs": [],
   "source": [
    "# fig, ax = plt.subplots(1,1, figsize=(16,6))\n",
    "# scal = 1.0 / eco.microbes.grid_size\n",
    "# ia = 0\n",
    "# for k,d in tla_mic.items():\n",
    "#     for itax, micname in enumerate(eco.microbes.names):\n",
    "#         if (itax%2 ==0):\n",
    "#             ls = '--'\n",
    "#         else:\n",
    "#             ls = '-'\n",
    "#         ax.plot(d['times'],np.log(scal*d['values'][:,itax,ia]),ls,label=micname)\n",
    "# ax.legend(ncol=8, fontsize=6)\n",
    "# ax.grid()\n",
    "# ax.set_title('Log Taxa Biomass {}'.format(['C','N','P'][ia]))"
   ]
  },
  {
   "cell_type": "code",
   "execution_count": null,
   "id": "2f8e04f0",
   "metadata": {},
   "outputs": [],
   "source": []
  },
  {
   "cell_type": "code",
   "execution_count": null,
   "id": "2a2e2778",
   "metadata": {},
   "outputs": [],
   "source": [
    "# targ_src_costs_consti, src_costs_consti, targ_ranks_consti = eco.microbes.get_metabolic_processes_operands('Consti',{'temp':20,'psi':0})\n",
    "# targ_src_costs_induci, src_costs_induci, targ_ranks_induci = eco.microbes.get_metabolic_processes_operands('Induci', \n",
    "#                                                                                                           {'temp':20,'psi':0})\n",
    "# VmaxUpt,KmUpt = eco.uptake_transporters.get_kinetic_parameters({'temp':20,'psi':0})\n",
    "# taxupt_C_prod = eco.microbes.get_metabolite('Uptake_Transporters').ref_cost['Consti']\n",
    "# taxupt_C_prod.shape\n",
    "# taxupt_C_prod"
   ]
  },
  {
   "cell_type": "code",
   "execution_count": null,
   "id": "e0190eef",
   "metadata": {},
   "outputs": [],
   "source": []
  },
  {
   "cell_type": "code",
   "execution_count": null,
   "id": "b8c90988",
   "metadata": {},
   "outputs": [],
   "source": [
    "# induci_fact_C = (1.0-src_costs_induci[0,:,0])*(1.0-src_costs_induci[1,:,0])\n",
    "# print(induci_fact_C)\n",
    "# print('*************')\n",
    "# print(taxupt_C_prod)\n",
    "# print('*********')\n",
    "# W_upt = induci_fact_C[:,np.newaxis] * taxupt_C_prod\n",
    "# print(VmaxUpt.diagonal())\n",
    "# W_upt = W_upt * VmaxUpt.diagonal()[np.newaxis,:]\n",
    "# print(W_upt.shape)\n",
    "# for itax in range(eco.microbes.n_taxa):\n",
    "#     print('*')\n",
    "#     print(W_upt[itax,:])"
   ]
  },
  {
   "cell_type": "code",
   "execution_count": null,
   "id": "f7ceac81",
   "metadata": {},
   "outputs": [],
   "source": [
    "# tmon = np.sum(tla_mon['monomers']['values'],axis=2)\n",
    "# print(tmon.shape)\n",
    "# print(scal)\n",
    "# drho_M = (scal * tmon[:,:]) / (KmUpt.diagonal()[np.newaxis,:]+scal * tmon[:,:])\n",
    "# print(drho_M.shape)\n",
    "# rho_M = np.cumsum(drho_M,axis=0)\n",
    "# print(rho_M.shape)\n",
    "# rho_M[1:,:] = rho_M[1:,:] / tla_mon['monomers']['times'][1:,np.newaxis] "
   ]
  },
  {
   "cell_type": "code",
   "execution_count": null,
   "id": "c0a572f0",
   "metadata": {},
   "outputs": [],
   "source": [
    "# fig,ax = plt.subplots(1,1,figsize=(16,5))\n",
    "# ax.plot(tla_mon['monomers']['times'],drho_M,label=eco.monomers.names)\n",
    "# ax.grid()\n",
    "# ax.legend()"
   ]
  },
  {
   "cell_type": "code",
   "execution_count": null,
   "id": "fa18f5f3",
   "metadata": {},
   "outputs": [],
   "source": [
    "# fig,axes = plt.subplots(14,1,figsize=(16,20))\n",
    "# print(axes.shape)\n",
    "# for iax, ax in enumerate(axes):\n",
    "#     ax.plot(tla_mon['monomers']['times'],drho_M[:,iax],label=eco.monomers.names[iax])\n",
    "#     ax.grid()\n",
    "#     ax.legend()\n",
    "\n"
   ]
  },
  {
   "cell_type": "code",
   "execution_count": null,
   "id": "7e440213",
   "metadata": {},
   "outputs": [],
   "source": [
    "# fig,ax = plt.subplots(1,1,figsize=(16,5))\n",
    "# ax.plot(tla_mon['monomers']['times'],rho_M,label=eco.monomers.names)\n",
    "# ax.grid()\n",
    "# ax.legend()"
   ]
  },
  {
   "cell_type": "code",
   "execution_count": null,
   "id": "12d3dbfc",
   "metadata": {},
   "outputs": [],
   "source": [
    "# fig,ax = plt.subplots(1,1,figsize=(16,5))\n",
    "# ax.plot(tla_mon['monomers']['times'],rho_M,label=eco.monomers.names)\n",
    "# ax.grid()\n",
    "# ax.legend()"
   ]
  },
  {
   "cell_type": "code",
   "execution_count": null,
   "id": "8f33a3fb",
   "metadata": {},
   "outputs": [],
   "source": [
    "# itax = 0\n",
    "# fig, ax = plt.subplots(1,1, figsize=(16,5))\n",
    "# print(W_upt[itax,:])\n",
    "# dm_eff_upt_rate  = W_upt[itax,:][np.newaxis,:] * rho_M \n",
    "# print(dm_eff_upt_rate.shape)\n",
    "# ax.plot(tla_mon['monomers']['times'],dm_eff_upt_rate,label=eco.monomers.names)\n",
    "# ax.legend(fontsize=8)\n",
    "# ax.grid()"
   ]
  },
  {
   "cell_type": "code",
   "execution_count": null,
   "id": "cdca1a99",
   "metadata": {},
   "outputs": [],
   "source": [
    "# itax = 0\n",
    "# fig, ax = plt.subplots(1,1, figsize=(16,5))\n",
    "# dm_eff_upt = dm_eff_upt_rate * tla_mon['monomers']['times'][:,np.newaxis]\n",
    "# ax.plot(tla_mon['monomers']['times'],dm_eff_upt,label=eco.monomers.names)\n",
    "# ax.legend(fontsize=8)\n",
    "# ax.grid()"
   ]
  },
  {
   "cell_type": "code",
   "execution_count": null,
   "id": "7482a979",
   "metadata": {},
   "outputs": [],
   "source": [
    "# itax = 0\n",
    "# fig, ax = plt.subplots(1,1, figsize=(16,5))\n",
    "# ax.plot(tla_mon['monomers']['times'],np.sum(dm_eff_upt,axis=1),label='upt tax = {}'.format(itax))\n",
    "# ax.legend(fontsize=8)\n",
    "# ax.grid()"
   ]
  },
  {
   "cell_type": "code",
   "execution_count": null,
   "id": "a4704b28",
   "metadata": {},
   "outputs": [],
   "source": [
    "# fig, ax = plt.subplots(1,1, figsize=(16,6))\n",
    "# scal = 1.0 / eco.microbes.grid_size\n",
    "# ia = 0\n",
    "# itax = 0\n",
    "# w = W_upt[itax,:]\n",
    "# dm_eff_upt_rate  = np.sum(w[np.newaxis,:] * rho_M,axis=1)\n",
    "# print(dm_eff_upt_rate.shape)\n",
    "# d = tla_mic['microbes']\n",
    "# ax.plot(d['times'],np.log(scal*d['values'][:,itax,ia]),label=micname)\n",
    "# consti_loss = np.log(scal*d['values'][0,itax,ia])- src_costs_consti[0,itax,ia] * d['times']\n",
    "# loc_model = np.log(scal*d['values'][0,itax,ia]) +(dm_eff_upt_rate-src_costs_consti[0,itax,ia]) * d['times']\n",
    "# ax.plot(d['times'],consti_loss,'--',label='constitutive loss')\n",
    "# ax.plot(d['times'],loc_model,'+',label='loc_model')\n",
    "# ax.legend(ncol=8, fontsize=10)\n",
    "# ax.grid()\n",
    "# ax.set_title('Log Taxa Biomass {}'.format(['C','N','P'][ia]))"
   ]
  },
  {
   "cell_type": "code",
   "execution_count": null,
   "id": "0e751749",
   "metadata": {},
   "outputs": [],
   "source": [
    "# fig = plt.figure(figsize=(14,8))\n",
    "# for itax in range(tla_ncells['microbes']['values'].shape[1]):\n",
    "#     if (np.max(tla_ncells['microbes']['values'][:,itax]) > 0):\n",
    "#         plt.plot(tla_ncells['microbes']['times'],tla_ncells['microbes']['values'][:,itax], label='{}'.format(itax))\n",
    "# plt.legend(fontsize=6, ncol=6)\n",
    "# plt.title('Taxa ncell > 50')\n",
    "# plt.xlabel('Time')\n",
    "# plt.ylabel('Number of occupied cells')\n",
    "# plt.grid()\n"
   ]
  },
  {
   "cell_type": "code",
   "execution_count": null,
   "id": "dd123dcc",
   "metadata": {},
   "outputs": [],
   "source": []
  },
  {
   "cell_type": "code",
   "execution_count": null,
   "id": "dd4fd284",
   "metadata": {},
   "outputs": [],
   "source": [
    "# for itax in range(eco.microbes.n_taxa):\n",
    "#     fig, ax = plt.subplots(1,1)\n",
    "#     dat = eco.microbes.tmass[:,:,itax,0]\n",
    "#     tax_map = ax.imshow(dat, cmap='hot')\n",
    "#     ax.set_title('{} Total mass'.format(eco.microbes.names[itax]))\n",
    "#     plt.colorbar(tax_map)\n",
    "#     plt.show()\n",
    "#     plt.close(fig)"
   ]
  },
  {
   "cell_type": "code",
   "execution_count": null,
   "id": "4218c367",
   "metadata": {},
   "outputs": [],
   "source": [
    "for isub in range(eco.substrates.n_components):\n",
    "    fig, ax = plt.subplots(1,1)\n",
    "    dat = eco.substrates.tmass[:,:,isub,0]\n",
    "    sub_map = ax.imshow(dat, cmap='hot')\n",
    "    ax.set_title(eco.substrates.names[isub])\n",
    "    plt.colorbar(sub_map)"
   ]
  },
  {
   "cell_type": "code",
   "execution_count": null,
   "id": "5a96ac1c",
   "metadata": {},
   "outputs": [],
   "source": [
    "for ienz in range(eco.degradation_enzymes.n_components):\n",
    "    fig, ax = plt.subplots(1,1)\n",
    "    dat = eco.degradation_enzymes.tmass[:,:,ienz,0]\n",
    "    enz_map = ax.imshow(dat, cmap='hot')\n",
    "    ax.set_title(eco.degradation_enzymes.names[ienz])\n",
    "    plt.colorbar(enz_map)"
   ]
  },
  {
   "cell_type": "code",
   "execution_count": null,
   "id": "c7d246cf",
   "metadata": {},
   "outputs": [],
   "source": []
  },
  {
   "cell_type": "code",
   "execution_count": null,
   "id": "d0ee7e73",
   "metadata": {},
   "outputs": [],
   "source": []
  },
  {
   "cell_type": "code",
   "execution_count": null,
   "id": "e223d6e9",
   "metadata": {},
   "outputs": [],
   "source": []
  },
  {
   "cell_type": "code",
   "execution_count": null,
   "id": "9794a05e",
   "metadata": {},
   "outputs": [],
   "source": []
  },
  {
   "cell_type": "code",
   "execution_count": null,
   "id": "c524c092",
   "metadata": {},
   "outputs": [],
   "source": []
  },
  {
   "cell_type": "code",
   "execution_count": null,
   "id": "9be21bcb",
   "metadata": {},
   "outputs": [],
   "source": []
  },
  {
   "cell_type": "code",
   "execution_count": null,
   "id": "518ee45d",
   "metadata": {},
   "outputs": [],
   "source": []
  },
  {
   "cell_type": "code",
   "execution_count": null,
   "id": "abfa0a14",
   "metadata": {},
   "outputs": [],
   "source": []
  },
  {
   "cell_type": "code",
   "execution_count": null,
   "id": "cac8fcf6",
   "metadata": {},
   "outputs": [],
   "source": []
  }
 ],
 "metadata": {
  "celltoolbar": "Hide code",
  "kernelspec": {
   "display_name": "Python 3 (ipykernel)",
   "language": "python",
   "name": "python3"
  },
  "language_info": {
   "codemirror_mode": {
    "name": "ipython",
    "version": 3
   },
   "file_extension": ".py",
   "mimetype": "text/x-python",
   "name": "python",
   "nbconvert_exporter": "python",
   "pygments_lexer": "ipython3",
   "version": "3.9.13"
  }
 },
 "nbformat": 4,
 "nbformat_minor": 5
}
