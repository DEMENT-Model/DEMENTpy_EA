{
 "cells": [
  {
   "cell_type": "code",
   "execution_count": null,
   "id": "0c28c952",
   "metadata": {},
   "outputs": [],
   "source": [
    "%config Completer.use_jedi=False\n",
    "\n",
    "import sys\n",
    "sys.path.append('../../')\n",
    "\n",
    "import numpy as np\n",
    "import pandas as pd\n",
    "import matplotlib.pyplot as plt\n",
    "\n",
    "from scipy.stats import rankdata\n",
    "\n",
    "from examples.commonutils.simutils import set_stoechimetry_step_type,get_stoechimetry_step_type \n",
    "from refsimu_singletrait import build_and_run_simu\n",
    "from refsimu_singletrait import microbe_pop_on\n",
    "def get_line_type(fname):\n",
    "    if (fname in ['microbes','monomers','substrates','degradation_enzymes']):\n",
    "        res = '-'\n",
    "    else:\n",
    "        res = '--'\n",
    "    return res"
   ]
  },
  {
   "cell_type": "code",
   "execution_count": null,
   "id": "00a9fe3e",
   "metadata": {},
   "outputs": [],
   "source": [
    "get_stoechimetry_step_type()"
   ]
  },
  {
   "cell_type": "code",
   "execution_count": null,
   "id": "3e52ed05",
   "metadata": {},
   "outputs": [],
   "source": [
    "# separate stoechimoetry \n",
    "# set_stoechimetry_step_type('standalone')\n",
    "print(get_stoechimetry_step_type())"
   ]
  },
  {
   "cell_type": "code",
   "execution_count": null,
   "id": "9dffce5e",
   "metadata": {},
   "outputs": [],
   "source": [
    "microbe_pop_on() # switch to new model for microbes taking account of number of individuals. "
   ]
  },
  {
   "cell_type": "code",
   "execution_count": null,
   "id": "441a5bc2",
   "metadata": {},
   "outputs": [],
   "source": [
    "grid_shape = (64,64)\n",
    "n_degrad_enzymes = 12\n",
    "n_taxa = 11\n",
    "n_osmolytes = 1\n",
    "n_years = 2\n",
    "n_steps = 365 * n_years-1\n",
    "# n_steps = 1\n",
    "num_threads = 1\n",
    "\n",
    "case_parameters = {\n",
    "               'substrate_inputs' : ['CELLULOSEX1','CELLULOSEX2'][0],\n",
    "               'degenz_induci_scale':7e-4,\n",
    "               'degenz_induci_cellulose_c0':85,\n",
    "               'degenz_induci_cellulose_c1':95,\n",
    "               'uptake_c_scale': 0.025, # nominal 0.05\n",
    "               'uptake_cellulose_c0': 2.0, # nominal 0.2\n",
    "               'uptake_cellulose_c1': 6.0, # nominal 2.0\n",
    "               'initial_diversity':'uniform',\n",
    "               'selected_tax': 5,\n",
    "               'mutation_rate': None,#0.005,\n",
    "               'mutation_type': 'two', # set to 'one' for only 1 mutating daughter (old version)\n",
    "               'disp_proba0': 0.8,\n",
    "               }\n",
    "run_seeds = {\n",
    "        'microbes_mortality': 42,\n",
    "        'microbes_dispersal': 5,\n",
    "        'microbes_mutation': 0,\n",
    "        }"
   ]
  },
  {
   "cell_type": "code",
   "execution_count": null,
   "id": "4520c0d7",
   "metadata": {},
   "outputs": [],
   "source": [
    "eco, diagcollector = build_and_run_simu(grid_shape,\n",
    "                                        n_degrad_enzymes,n_taxa,n_osmolytes,n_steps,\n",
    "                                        run_seeds=run_seeds,\n",
    "                                        with_diags=True,\n",
    "                                        save_fields=False,\n",
    "                                        save_diags=True,\n",
    "                                        save_dir = './simutest_interactive_{}'.format(case_parameters[\"substrate_inputs\"]),\n",
    "                                        num_threads=num_threads,\n",
    "                                        case_parameters=case_parameters,\n",
    "                                        )"
   ]
  },
  {
   "cell_type": "code",
   "execution_count": null,
   "id": "9efdd3af",
   "metadata": {},
   "outputs": [],
   "source": [
    "# eco.microbes.mutation_op.compute_mutation_probas()\n",
    "# eco.microbes.mutation_op.mutation_probas"
   ]
  },
  {
   "cell_type": "code",
   "execution_count": null,
   "id": "59ccf422",
   "metadata": {
    "hideCode": false,
    "hideOutput": false
   },
   "outputs": [],
   "source": [
    "# for k,d in eco.microbes.metabolites.items():\n",
    "#     print('*'*100)\n",
    "#     print(k)\n",
    "# #     print(d.active_pathway)\n",
    "# #     print(d.environ_functions)\n",
    "# #     print(d.external_targets)\n",
    "#     print(d.ref_cost)"
   ]
  },
  {
   "cell_type": "code",
   "execution_count": null,
   "id": "3d135488",
   "metadata": {},
   "outputs": [],
   "source": [
    "# eco.microbes.get_metabolic_processes_operands('Consti',eco.get_environment(2))"
   ]
  },
  {
   "cell_type": "code",
   "execution_count": null,
   "id": "15194b21",
   "metadata": {},
   "outputs": [],
   "source": [
    "# for process in ['Consti','Induci']:\n",
    "#     print('*'*100)\n",
    "#     print(process)\n",
    "#     for k,met in eco.microbes.metabolites.items():\n",
    "#         print(k)\n",
    "#         print('+'*20)\n",
    "#         for targ in met.get_target_types():\n",
    "#             if (met.active_pathway[process][targ]):\n",
    "#                 print('-'*20)\n",
    "#                 print(targ)\n",
    "#                 print('-'*20)\n",
    "#                 print('external', met.external_targets[process][targ])\n",
    "#                 print('targ',met.targets[process][targ])"
   ]
  },
  {
   "cell_type": "code",
   "execution_count": null,
   "id": "aa49edea",
   "metadata": {},
   "outputs": [],
   "source": [
    "tla_comp_space = diagcollector.get_timeline_arrays('space_comp_sum', tag_filter_func= lambda t: 'pool' in t and 'input' not in t)\n",
    "tla_comp_space_external =  diagcollector.get_timeline_arrays('space_comp_sum', tag_filter_func= lambda t: 'pool' in t and 'input'  in t)\n",
    "tla_recycling = diagcollector.get_timeline_arrays('space_comp_sum',tag_filter_func=lambda t:'stoechio_balance_recycler' in t)\n",
    "tla_mortality = diagcollector.get_timeline_arrays('space_comp_sum',tag_filter_func=lambda t:'mortality_op' in t)\n",
    "tla_bytype = diagcollector.get_timeline_arrays('sum_by_type')\n",
    "tla_ncells = diagcollector.get_timeline_arrays('ncells')\n",
    "tla_sub = diagcollector.get_timeline_arrays('space_sum',tag_filter_func=lambda t:'substrates' in t)\n",
    "tla_enz = diagcollector.get_timeline_arrays('space_sum',tag_filter_func=lambda t:'degradation_enzymes' in t)\n",
    "tla_mon = diagcollector.get_timeline_arrays('space_sum',tag_filter_func=lambda t:'monomers' in t)\n",
    "tla_mic = diagcollector.get_timeline_arrays('space_sum',tag_filter_func=lambda t:'microbes' in t)\n",
    "tla_mic_ntax = diagcollector.get_timeline_arrays('ntaxpercell')\n",
    "tla_mic_nind = diagcollector.get_timeline_arrays('Quanta')"
   ]
  },
  {
   "cell_type": "code",
   "execution_count": null,
   "id": "e6a52b97",
   "metadata": {},
   "outputs": [],
   "source": [
    "fig,ax = plt.subplots(1,1,figsize=(12,4))\n",
    "for itax in range(tla_mic_nind['microbes']['values'].shape[1]):\n",
    "#     if (itax == 5):\n",
    "#         continue\n",
    "    ax.plot(tla_mic_nind['microbes']['times'],tla_mic_nind['microbes']['values'][:,itax],label='Taxon {}'.format(itax)\n",
    "           )\n",
    "ax.legend()\n",
    "ax.grid()"
   ]
  },
  {
   "cell_type": "code",
   "execution_count": null,
   "id": "eadd720c",
   "metadata": {},
   "outputs": [],
   "source": [
    "tla_clim = diagcollector.get_timeline_arrays('Climate')\n",
    "fig, axes = plt.subplots(2,1, figsize=(12,4))\n",
    "for k, ax in zip(tla_clim.keys(),axes):\n",
    "    ax.plot(tla_clim[k]['times'],tla_clim[k]['values'])\n",
    "    ax.set_xlabel('time')\n",
    "    ax.set_ylabel(k)\n",
    "    ax.grid()"
   ]
  },
  {
   "cell_type": "code",
   "execution_count": null,
   "id": "b7f58d15",
   "metadata": {},
   "outputs": [],
   "source": [
    "fig, axes = plt.subplots(3,1, figsize=(16,18))\n",
    "scal = 1.0 / eco.microbes.grid_size\n",
    "for ia,ax in enumerate(axes):\n",
    "    tmp_sum = None\n",
    "    for k, d in tla_comp_space.items():\n",
    "        if (tmp_sum is None):\n",
    "            tmp_sum = np.zeros_like(d['values'][:,ia])\n",
    "            td = d['times']\n",
    "        ls = get_line_type(k)\n",
    "        ax.plot(d['times'],scal*d['values'][:,ia],ls, label=k)\n",
    "        tmp_sum += d['values'][:, ia]\n",
    "    for k, d in tla_comp_space_external.items():\n",
    "        if (tmp_sum is None):\n",
    "            tmp_sum = np.zeros_like(d['values'][:,ia])\n",
    "            td = d['times']\n",
    "        ls = get_line_type(k)\n",
    "        ax.plot(d['times'],scal*d['values'][:,ia],ls, label=k)\n",
    "        tmp_sum -= d['values'][:, ia]\n",
    "    ax.plot(td,scal*tmp_sum,'.',color='black',lw=0.2,alpha=0.1,label='sum internal - sum sources')\n",
    "    ax.grid()\n",
    "    ax.legend(fontsize=8, ncol=3,loc=1, framealpha=0.5)\n",
    "    ax.set_title('Biomass {}'.format(['C','N','P'][ia]))"
   ]
  },
  {
   "cell_type": "code",
   "execution_count": null,
   "id": "bb787699",
   "metadata": {},
   "outputs": [],
   "source": [
    "fig, ax = plt.subplots(1,1, figsize=(12,4))\n",
    "scal = 1.0 / eco.microbes.grid_size\n",
    "d = tla_comp_space['Respiration_Growth_Induci_Maint']\n",
    "ax.plot(d['times'],d['values'][:,0]*scal)\n",
    "ax.grid()\n",
    "ax.set_title('Respiration Growth Induci Maint')"
   ]
  },
  {
   "cell_type": "code",
   "execution_count": null,
   "id": "a013722c",
   "metadata": {},
   "outputs": [],
   "source": []
  },
  {
   "cell_type": "code",
   "execution_count": null,
   "id": "ca9d13ef",
   "metadata": {},
   "outputs": [],
   "source": []
  },
  {
   "cell_type": "code",
   "execution_count": null,
   "id": "cff281ec",
   "metadata": {},
   "outputs": [],
   "source": [
    "tla_enz_p = diagcollector.get_timeline_arrays('space_sum',tag_filter_func=lambda t:'Degradation_Enzymes' in t)"
   ]
  },
  {
   "cell_type": "code",
   "execution_count": null,
   "id": "b6889fd3",
   "metadata": {},
   "outputs": [],
   "source": [
    "fig, ax = plt.subplots(1,1, figsize=(12,4))\n",
    "scal = 1.0 / eco.microbes.grid_size\n",
    "for k,d in tla_enz_p.items():\n",
    "    ax.plot(d['times'],d['values'][:,0,0]*scal,label=k)\n",
    "ax.grid()\n",
    "ax.legend()"
   ]
  },
  {
   "cell_type": "code",
   "execution_count": null,
   "id": "b448b47b",
   "metadata": {},
   "outputs": [],
   "source": [
    "tla_osmo_p = diagcollector.get_timeline_arrays('space_sum',tag_filter_func=lambda t:'Osmolytes' in t)"
   ]
  },
  {
   "cell_type": "code",
   "execution_count": null,
   "id": "1c8b15ae",
   "metadata": {},
   "outputs": [],
   "source": [
    "fig, ax = plt.subplots(1,1, figsize=(12,4))\n",
    "scal = 1.0 / eco.microbes.grid_size\n",
    "for k,d in tla_osmo_p.items():\n",
    "    ax.plot(d['times'],d['values'][:,0,0]*scal,label=k)\n",
    "ax.grid()\n",
    "ax.legend()"
   ]
  },
  {
   "cell_type": "code",
   "execution_count": null,
   "id": "0155d897",
   "metadata": {},
   "outputs": [],
   "source": [
    "tla_upt_p = diagcollector.get_timeline_arrays('space_sum',tag_filter_func=lambda t:'Uptake_Transporters' in t)"
   ]
  },
  {
   "cell_type": "code",
   "execution_count": null,
   "id": "e4864022",
   "metadata": {},
   "outputs": [],
   "source": [
    "fig, ax = plt.subplots(1,1, figsize=(12,4))\n",
    "scal = 1.0 / eco.microbes.grid_size\n",
    "for k,d in tla_upt_p.items():\n",
    "    ax.plot(d['times'],d['values'][:,0,0]*scal,label=k)\n",
    "ax.grid()\n",
    "ax.legend()"
   ]
  },
  {
   "cell_type": "code",
   "execution_count": null,
   "id": "97d51c92",
   "metadata": {},
   "outputs": [],
   "source": [
    "fig, ax = plt.subplots(1,1)\n",
    "t, dat = tla_mic_ntax['microbes']['times'],tla_mic_ntax['microbes']['values']\n",
    "ax.plot(t,dat[:,0], label='mean')\n",
    "ax.fill_between(t,dat[:,0]-dat[:,1],dat[:,0]+dat[:,1], alpha=0.2)\n",
    "ax.plot(t,dat[:,2], label='min')\n",
    "ax.plot(t,dat[:,3], label='max')\n",
    "ax.grid()\n",
    "ax.set_xlabel('Time')\n",
    "ax.set_ylabel('Live Taxa per grid cell')\n",
    "ax.legend();\n",
    "plt.show()\n",
    "plt.close(fig)\n",
    "#"
   ]
  },
  {
   "cell_type": "code",
   "execution_count": null,
   "id": "303200c9",
   "metadata": {},
   "outputs": [],
   "source": []
  },
  {
   "cell_type": "code",
   "execution_count": null,
   "id": "33084573",
   "metadata": {},
   "outputs": [],
   "source": [
    "fig, axes = plt.subplots(3,1, figsize=(16,18))\n",
    "scal = 1.0 / eco.microbes.grid_size\n",
    "for ia,ax in enumerate(axes):\n",
    "    for k,d in tla_sub.items():\n",
    "        for isub, subname in enumerate(eco.substrates.names):\n",
    "            if (isub < 2):\n",
    "                ls = '--'\n",
    "            else:\n",
    "                ls = '-'\n",
    "            ax.plot(d['times'],scal*d['values'][:,isub,ia],ls,label=subname)\n",
    "    ax.legend()\n",
    "    ax.grid()\n",
    "    ax.set_title('Substrate Biomass {}'.format(['C','N','P'][ia]))"
   ]
  },
  {
   "cell_type": "code",
   "execution_count": null,
   "id": "a607e90b",
   "metadata": {},
   "outputs": [],
   "source": [
    "fig, axes = plt.subplots(3,1, figsize=(16,18))\n",
    "scal = 1.0 / eco.microbes.grid_size\n",
    "for ia,ax in enumerate(axes):\n",
    "    for k,d in tla_sub.items():\n",
    "        for isub, subname in enumerate(eco.substrates.names):\n",
    "            if (isub < 2):\n",
    "                ls = '--'\n",
    "            else:\n",
    "                ls = '-'\n",
    "            tmp_s = scal*d['values'][:,isub,ia]\n",
    "            tmp_g = np.gradient(tmp_s)\n",
    "            tmp_g[tmp_g > 0] = 0\n",
    "            ax.plot(d['times'],-tmp_g,ls,label=subname)\n",
    "    ax.legend()\n",
    "    ax.grid()\n",
    "    ax.set_title('Substrate Biomass negative gradient {}'.format(['C','N','P'][ia]))"
   ]
  },
  {
   "cell_type": "code",
   "execution_count": null,
   "id": "541edd0e",
   "metadata": {},
   "outputs": [],
   "source": [
    "fig, ax = plt.subplots(1,1, figsize=(16,4))\n",
    "scal = 1.0 / eco.microbes.grid_size\n",
    "for k,d in tla_sub.items():\n",
    "    for isub, subname in enumerate(eco.substrates.names):\n",
    "        if (isub < 2):\n",
    "            ls = '--'\n",
    "        else:\n",
    "            ls = '-'\n",
    "        tmp_s = scal*np.sum(d['values'][:,isub,:],axis=-1)\n",
    "        tmp_g = np.gradient(tmp_s)\n",
    "        tmp_g[tmp_g > 0] = 0\n",
    "        ax.plot(d['times'],-tmp_g,ls,label=subname)\n",
    "ax.legend()\n",
    "ax.grid()\n",
    "ax.set_title('Substrate Biomass negative gradient (C+N+P)')"
   ]
  },
  {
   "cell_type": "code",
   "execution_count": null,
   "id": "5f288b48",
   "metadata": {},
   "outputs": [],
   "source": [
    "fig, ax = plt.subplots(1,1, figsize=(14,6))\n",
    "scal = 1.0 / eco.microbes.grid_size\n",
    "for k,d in tla_sub.items():\n",
    "    dat = np.sum(d['values'], axis=-1)\n",
    "    loctot = np.sum(dat, axis=-1)\n",
    "    dat = dat / loctot[:,np.newaxis]\n",
    "#     dat = np.divide(dat , loctot[:,np.newaxis], where = loctot[:,np.newaxis] > 0)\n",
    "    for isub, subname in enumerate(eco.substrates.names):\n",
    "        if (isub < 2):\n",
    "            ls = '--'\n",
    "        else:\n",
    "            ls = '-'\n",
    "        ax.plot(d['times'],dat[:,isub],ls,label=subname)\n",
    "ax.legend(loc=1 ,ncol=6, )\n",
    "ax.grid()\n",
    "ax.set_title('Substrate Relative abundancy');\n"
   ]
  },
  {
   "cell_type": "code",
   "execution_count": null,
   "id": "92f7f34c",
   "metadata": {},
   "outputs": [],
   "source": [
    "fig, axes = plt.subplots(3,1, figsize=(16,18))\n",
    "scal = 1.0 / eco.microbes.grid_size\n",
    "for ia,ax in enumerate(axes):\n",
    "    for k,d in tla_enz.items():\n",
    "        for ienz, enzname in enumerate(eco.degradation_enzymes.names):\n",
    "            if (ienz < 2):\n",
    "                ls = '--'\n",
    "            else:\n",
    "                ls = '-'\n",
    "            ax.plot(d['times'],scal*d['values'][:,ienz,ia],ls,label=enzname)\n",
    "    ax.legend(ncol=6, fontsize=6)\n",
    "    ax.grid()\n",
    "    ax.set_title('Enzymes Biomass {}'.format(['C','N','P'][ia]))"
   ]
  },
  {
   "cell_type": "code",
   "execution_count": null,
   "id": "ba680715",
   "metadata": {},
   "outputs": [],
   "source": [
    "fig, axes = plt.subplots(3,1, figsize=(16,18))\n",
    "scal = 1.0 / eco.microbes.grid_size\n",
    "for ia,ax in enumerate(axes):\n",
    "    for k,d in tla_mon.items():\n",
    "        for imon, monname in enumerate(eco.monomers.names):\n",
    "            if (imon < 4):\n",
    "                ls = '--'\n",
    "            else:\n",
    "                ls = '-'\n",
    "            ax.plot(d['times'],scal*d['values'][:,imon,ia],ls,label=monname)\n",
    "    ax.legend()\n",
    "    ax.grid()\n",
    "    ax.set_title('Monomers Biomass {}'.format(['C','N','P'][ia]))"
   ]
  },
  {
   "cell_type": "code",
   "execution_count": null,
   "id": "5e3f7556",
   "metadata": {},
   "outputs": [],
   "source": [
    "fig, axes = plt.subplots(3,1, figsize=(16,18))\n",
    "scal = 1.0 / eco.microbes.grid_size\n",
    "for ia,ax in enumerate(axes):\n",
    "    for k,d in tla_mon.items():\n",
    "        for imon, monname in enumerate(eco.monomers.names):\n",
    "            if (monname not in (['DeadMic','DeadEnz'])):\n",
    "                continue\n",
    "            if (imon < 4):\n",
    "                ls = '--'\n",
    "            else:\n",
    "                ls = '-'\n",
    "            ax.plot(d['times'],scal*d['values'][:,imon,ia],ls,label=monname)\n",
    "    ax.legend()\n",
    "    ax.grid()\n",
    "    ax.set_title('Monomers Biomass {}'.format(['C','N','P'][ia]))"
   ]
  },
  {
   "cell_type": "code",
   "execution_count": null,
   "id": "80935827",
   "metadata": {},
   "outputs": [],
   "source": [
    "scal = 1.0 / eco.microbes.grid_size\n",
    "for k,d in tla_recycling.items():\n",
    "    fig, ax = plt.subplots(1,1, figsize=(12,6))\n",
    "    for ia in range(3):\n",
    "        ax.plot(d['times'],scal*d['values'][:,ia], label=['C','N','P'][ia])\n",
    "    ax.legend()\n",
    "    ax.set_title(k)\n",
    "    ax.grid()"
   ]
  },
  {
   "cell_type": "code",
   "execution_count": null,
   "id": "3daecea9",
   "metadata": {},
   "outputs": [],
   "source": [
    "scal = 1.0 / eco.microbes.grid_size\n",
    "for k,d in tla_mortality.items():\n",
    "    fig, ax = plt.subplots(1,1, figsize=(12,6))\n",
    "    for ia in range(3):\n",
    "        ax.plot(d['times'],scal*d['values'][:,ia], label=['C','N','P'][ia])\n",
    "    ax.legend()\n",
    "    ax.set_title(k)\n",
    "    ax.grid()"
   ]
  },
  {
   "cell_type": "code",
   "execution_count": null,
   "id": "21e8d8f1",
   "metadata": {},
   "outputs": [],
   "source": [
    "# scal = 1.0 / eco.microbes.grid_size\n",
    "# for k, d in tla_bytype.items():\n",
    "#     mtypes = eco.microbes.get_taxa_types()\n",
    "#     print(mtypes)\n",
    "#     fig, axes = plt.subplots(3,1, figsize=(14,12))\n",
    "#     for ia, ax in enumerate(axes):\n",
    "#         ax.set_title('{} {}'.format(k, ['C','N','P'][ia]))\n",
    "#         for itype, typ in enumerate(mtypes):\n",
    "#             ax.plot(d['times'],scal*d['values'][:,itype,ia],label=typ)\n",
    "#         ax.grid()\n",
    "#         ax.legend(fontsize=9)"
   ]
  },
  {
   "cell_type": "code",
   "execution_count": null,
   "id": "8dbc99f4",
   "metadata": {},
   "outputs": [],
   "source": [
    "# %matplotlib inline\n",
    "# scal = 1.0 / eco.microbes.grid_size\n",
    "# fig = plt.figure(figsize=(16,8))\n",
    "# # plt.pcolormesh(tla_ncells['microbes']['values'].T *scal, shading='flat', cmap='magma')\n",
    "# plt.imshow(tla_ncells['microbes']['values'].T*scal,aspect='auto',origin='lower',interpolation=\"None\", cmap='magma')\n",
    "# plt.xlabel('time')\n",
    "# plt.ylabel('taxon id')\n",
    "# plt.title('Taxon grid occupation fraction ')\n",
    "# plt.colorbar();"
   ]
  },
  {
   "cell_type": "code",
   "execution_count": null,
   "id": "e4fde14f",
   "metadata": {},
   "outputs": [],
   "source": [
    "%matplotlib inline\n",
    "scal = 1.0 / eco.microbes.grid_size\n",
    "fig = plt.figure(figsize=(16,8))\n",
    "dat = np.sum(tla_mic['microbes']['values'][:,:,:],axis=-1)\n",
    "sdat = np.sum(dat,axis=1)\n",
    "dat = dat / sdat[:,np.newaxis]\n",
    "plt.imshow(dat.T, aspect='auto',origin='lower',interpolation='None', cmap='magma')\n",
    "plt.xlabel('time')\n",
    "plt.ylabel('taxon id')\n",
    "plt.title('Taxon Total mass Relative abundancy')\n",
    "plt.colorbar();"
   ]
  },
  {
   "cell_type": "code",
   "execution_count": null,
   "id": "43925b2d",
   "metadata": {},
   "outputs": [],
   "source": [
    "%matplotlib inline\n",
    "scal = 1.0 / eco.microbes.grid_size\n",
    "fig = plt.figure(figsize=(16,8))\n",
    "dat = np.sum(tla_mic['microbes']['values'][:,:,:],axis=-1)\n",
    "sdat = np.sum(dat,axis=1)\n",
    "dat = dat / sdat[:,np.newaxis]\n",
    "plt.plot(tla_mic['microbes']['times'],dat,label=eco.microbes.names)\n",
    "plt.legend(ncol=10, fontsize=6)\n",
    "plt.xlabel('Time')\n",
    "plt.ylabel('Total mass relative abundancy')\n",
    "plt.grid()\n",
    "# plt.ylim(0.05,0.15)\n",
    "# plt.imshow(dat.T, aspect='auto',origin='lower',interpolation='None', cmap='magma')\n",
    "# plt.xlabel('time')\n",
    "# plt.ylabel('taxon id')\n",
    "# plt.title('Taxon Total mass Relative abundancy')\n",
    "# plt.colorbar();"
   ]
  },
  {
   "cell_type": "code",
   "execution_count": null,
   "id": "46cd87b5",
   "metadata": {},
   "outputs": [],
   "source": [
    "# %matplotlib inline\n",
    "# scal = 1.0 / eco.microbes.grid_size\n",
    "# fig = plt.figure(figsize=(16,8))\n",
    "# # plt.imshow(tla_ncells['microbes'][1].T,aspect='auto', origin='lower',interpolation='None')\n",
    "# dat = np.sum(tla_mic['microbes']['values'][:,:,:],axis=-1)\n",
    "# sdat = np.sum(dat,axis=1)\n",
    "# dat = dat / sdat[:,np.newaxis]\n",
    "# plt.pcolormesh(np.log10(dat.T), shading='flat', cmap='magma')\n",
    "# plt.imshow(np.log10(dat.T), aspect='auto',origin='lower',interpolation='None', cmap='magma')\n",
    "\n",
    "# plt.xlabel('time')\n",
    "# plt.ylabel('taxon id')\n",
    "# plt.title('Taxon Total mass Relative abundancy (log)')\n",
    "# plt.colorbar();"
   ]
  },
  {
   "cell_type": "code",
   "execution_count": null,
   "id": "848ba472",
   "metadata": {},
   "outputs": [],
   "source": [
    "    "
   ]
  },
  {
   "cell_type": "code",
   "execution_count": null,
   "id": "ec4ba7ef",
   "metadata": {},
   "outputs": [],
   "source": [
    "%matplotlib inline\n",
    "scal = 1.0 / eco.microbes.grid_size\n",
    "fig = plt.figure(figsize=(16,8))\n",
    "dat = np.sum(tla_mic['microbes']['values'][:,:,:],axis=-1)\n",
    "ranks = rankdata(-dat,method='max', axis=1)\n",
    "plt.imshow(-ranks.T, aspect='auto',origin='lower',interpolation='None', cmap='hot')\n",
    "plt.xlabel('time')\n",
    "plt.ylabel('taxon id')\n",
    "plt.title('Taxon Total mass rank')\n",
    "plt.colorbar();"
   ]
  },
  {
   "cell_type": "code",
   "execution_count": null,
   "id": "33ceb937",
   "metadata": {},
   "outputs": [],
   "source": [
    "%matplotlib inline\n",
    "scal = 1.0 / eco.microbes.grid_size\n",
    "fig = plt.figure(figsize=(16,8))\n",
    "dat = np.sum(tla_mic['microbes']['values'][:,:,:],axis=-1)\n",
    "ranks = rankdata(-dat,method='max', axis=1)\n",
    "plt.step(tla_mic['microbes']['times'],ranks, label=eco.microbes.names);\n",
    "# plt.legend()\n",
    "# plt.imshow(-ranks.T, aspect='auto',origin='lower',interpolation='None', cmap='hot')\n",
    "# plt.xlabel('time')\n",
    "# plt.ylabel('taxon id')\n",
    "# plt.title('Taxon Total mass rank')\n",
    "# plt.colorbar();"
   ]
  },
  {
   "cell_type": "code",
   "execution_count": null,
   "id": "17c41805",
   "metadata": {},
   "outputs": [],
   "source": [
    "# %matplotlib inline\n",
    "# scal = 1.0 / eco.microbes.grid_size\n",
    "# fig = plt.figure(figsize=(16,8))\n",
    "# # plt.imshow(tla_ncells['microbes'][1].T,aspect='auto', origin='lower',interpolation='None')\n",
    "# plt.pcolormesh((tla_ncells['microbes']['values'].T > 0).astype(float), shading='flat', cmap='gray', vmin=0,vmax=1)\n",
    "# plt.xlabel('time')\n",
    "# plt.ylabel('taxon id')\n",
    "# plt.title('Taxon grid survival ')\n",
    "# plt.colorbar();"
   ]
  },
  {
   "cell_type": "code",
   "execution_count": null,
   "id": "4223b52b",
   "metadata": {},
   "outputs": [],
   "source": [
    "fig, axes = plt.subplots(3,1, figsize=(16,18))\n",
    "scal = 1.0 / eco.microbes.grid_size\n",
    "for ia,ax in enumerate(axes):\n",
    "    for k,d in tla_mic.items():\n",
    "        for itax, micname in enumerate(eco.microbes.names):\n",
    "            if (itax%2 ==0):\n",
    "                ls = '--'\n",
    "            else:\n",
    "                ls = '-'\n",
    "            ax.plot(d['times'],scal*d['values'][:,itax,ia],ls,label=micname)\n",
    "    ax.legend(ncol=2, fontsize=8)\n",
    "    ax.grid()\n",
    "    ax.set_title('Taxa Biomass {}'.format(['C','N','P'][ia]))"
   ]
  },
  {
   "cell_type": "code",
   "execution_count": null,
   "id": "6f48b475",
   "metadata": {},
   "outputs": [],
   "source": [
    "fig, ax = plt.subplots(1,1, figsize=(16,6))\n",
    "scal = 1.0 / eco.microbes.grid_size\n",
    "ia = 0\n",
    "for k,d in tla_mic.items():\n",
    "    for itax, micname in enumerate(eco.microbes.names):\n",
    "        if (itax%2 ==0):\n",
    "            ls = '--'\n",
    "        else:\n",
    "            ls = '-'\n",
    "        ax.plot(d['times'],np.log(scal*d['values'][:,itax,ia]),ls,label=micname)\n",
    "ax.legend(ncol=8, fontsize=6)\n",
    "ax.grid()\n",
    "ax.set_title('Log Taxa Biomass {}'.format(['C','N','P'][ia]))"
   ]
  },
  {
   "cell_type": "code",
   "execution_count": null,
   "id": "2f8e04f0",
   "metadata": {},
   "outputs": [],
   "source": []
  },
  {
   "cell_type": "code",
   "execution_count": null,
   "id": "2a2e2778",
   "metadata": {},
   "outputs": [],
   "source": [
    "# targ_src_costs_consti, src_costs_consti, targ_ranks_consti = eco.microbes.get_metabolic_processes_operands('Consti',{'temp':20,'psi':0})\n",
    "# targ_src_costs_induci, src_costs_induci, targ_ranks_induci = eco.microbes.get_metabolic_processes_operands('Induci', \n",
    "#                                                                                                           {'temp':20,'psi':0})\n",
    "# VmaxUpt,KmUpt = eco.uptake_transporters.get_kinetic_parameters({'temp':20,'psi':0})\n",
    "# taxupt_C_prod = eco.microbes.get_metabolite('Uptake_Transporters').ref_cost['Consti']\n",
    "# taxupt_C_prod.shape\n",
    "# taxupt_C_prod"
   ]
  },
  {
   "cell_type": "code",
   "execution_count": null,
   "id": "e0190eef",
   "metadata": {},
   "outputs": [],
   "source": []
  },
  {
   "cell_type": "code",
   "execution_count": null,
   "id": "b8c90988",
   "metadata": {},
   "outputs": [],
   "source": [
    "# induci_fact_C = (1.0-src_costs_induci[0,:,0])*(1.0-src_costs_induci[1,:,0])\n",
    "# print(induci_fact_C)\n",
    "# print('*************')\n",
    "# print(taxupt_C_prod)\n",
    "# print('*********')\n",
    "# W_upt = induci_fact_C[:,np.newaxis] * taxupt_C_prod\n",
    "# print(VmaxUpt.diagonal())\n",
    "# W_upt = W_upt * VmaxUpt.diagonal()[np.newaxis,:]\n",
    "# print(W_upt.shape)\n",
    "# for itax in range(eco.microbes.n_taxa):\n",
    "#     print('*')\n",
    "#     print(W_upt[itax,:])"
   ]
  },
  {
   "cell_type": "code",
   "execution_count": null,
   "id": "f7ceac81",
   "metadata": {},
   "outputs": [],
   "source": [
    "# tmon = np.sum(tla_mon['monomers']['values'],axis=2)\n",
    "# print(tmon.shape)\n",
    "# print(scal)\n",
    "# drho_M = (scal * tmon[:,:]) / (KmUpt.diagonal()[np.newaxis,:]+scal * tmon[:,:])\n",
    "# print(drho_M.shape)\n",
    "# rho_M = np.cumsum(drho_M,axis=0)\n",
    "# print(rho_M.shape)\n",
    "# rho_M[1:,:] = rho_M[1:,:] / tla_mon['monomers']['times'][1:,np.newaxis] "
   ]
  },
  {
   "cell_type": "code",
   "execution_count": null,
   "id": "c0a572f0",
   "metadata": {},
   "outputs": [],
   "source": [
    "# fig,ax = plt.subplots(1,1,figsize=(16,5))\n",
    "# ax.plot(tla_mon['monomers']['times'],drho_M,label=eco.monomers.names)\n",
    "# ax.grid()\n",
    "# ax.legend()"
   ]
  },
  {
   "cell_type": "code",
   "execution_count": null,
   "id": "fa18f5f3",
   "metadata": {},
   "outputs": [],
   "source": [
    "# fig,axes = plt.subplots(14,1,figsize=(16,20))\n",
    "# print(axes.shape)\n",
    "# for iax, ax in enumerate(axes):\n",
    "#     ax.plot(tla_mon['monomers']['times'],drho_M[:,iax],label=eco.monomers.names[iax])\n",
    "#     ax.grid()\n",
    "#     ax.legend()\n",
    "\n"
   ]
  },
  {
   "cell_type": "code",
   "execution_count": null,
   "id": "7e440213",
   "metadata": {},
   "outputs": [],
   "source": [
    "# fig,ax = plt.subplots(1,1,figsize=(16,5))\n",
    "# ax.plot(tla_mon['monomers']['times'],rho_M,label=eco.monomers.names)\n",
    "# ax.grid()\n",
    "# ax.legend()"
   ]
  },
  {
   "cell_type": "code",
   "execution_count": null,
   "id": "12d3dbfc",
   "metadata": {},
   "outputs": [],
   "source": [
    "# fig,ax = plt.subplots(1,1,figsize=(16,5))\n",
    "# ax.plot(tla_mon['monomers']['times'],rho_M,label=eco.monomers.names)\n",
    "# ax.grid()\n",
    "# ax.legend()"
   ]
  },
  {
   "cell_type": "code",
   "execution_count": null,
   "id": "8f33a3fb",
   "metadata": {},
   "outputs": [],
   "source": [
    "# itax = 0\n",
    "# fig, ax = plt.subplots(1,1, figsize=(16,5))\n",
    "# print(W_upt[itax,:])\n",
    "# dm_eff_upt_rate  = W_upt[itax,:][np.newaxis,:] * rho_M \n",
    "# print(dm_eff_upt_rate.shape)\n",
    "# ax.plot(tla_mon['monomers']['times'],dm_eff_upt_rate,label=eco.monomers.names)\n",
    "# ax.legend(fontsize=8)\n",
    "# ax.grid()"
   ]
  },
  {
   "cell_type": "code",
   "execution_count": null,
   "id": "cdca1a99",
   "metadata": {},
   "outputs": [],
   "source": [
    "# itax = 0\n",
    "# fig, ax = plt.subplots(1,1, figsize=(16,5))\n",
    "# dm_eff_upt = dm_eff_upt_rate * tla_mon['monomers']['times'][:,np.newaxis]\n",
    "# ax.plot(tla_mon['monomers']['times'],dm_eff_upt,label=eco.monomers.names)\n",
    "# ax.legend(fontsize=8)\n",
    "# ax.grid()"
   ]
  },
  {
   "cell_type": "code",
   "execution_count": null,
   "id": "7482a979",
   "metadata": {},
   "outputs": [],
   "source": [
    "# itax = 0\n",
    "# fig, ax = plt.subplots(1,1, figsize=(16,5))\n",
    "# ax.plot(tla_mon['monomers']['times'],np.sum(dm_eff_upt,axis=1),label='upt tax = {}'.format(itax))\n",
    "# ax.legend(fontsize=8)\n",
    "# ax.grid()"
   ]
  },
  {
   "cell_type": "code",
   "execution_count": null,
   "id": "a4704b28",
   "metadata": {},
   "outputs": [],
   "source": [
    "# fig, ax = plt.subplots(1,1, figsize=(16,6))\n",
    "# scal = 1.0 / eco.microbes.grid_size\n",
    "# ia = 0\n",
    "# itax = 0\n",
    "# w = W_upt[itax,:]\n",
    "# dm_eff_upt_rate  = np.sum(w[np.newaxis,:] * rho_M,axis=1)\n",
    "# print(dm_eff_upt_rate.shape)\n",
    "# d = tla_mic['microbes']\n",
    "# ax.plot(d['times'],np.log(scal*d['values'][:,itax,ia]),label=micname)\n",
    "# consti_loss = np.log(scal*d['values'][0,itax,ia])- src_costs_consti[0,itax,ia] * d['times']\n",
    "# loc_model = np.log(scal*d['values'][0,itax,ia]) +(dm_eff_upt_rate-src_costs_consti[0,itax,ia]) * d['times']\n",
    "# ax.plot(d['times'],consti_loss,'--',label='constitutive loss')\n",
    "# ax.plot(d['times'],loc_model,'+',label='loc_model')\n",
    "# ax.legend(ncol=8, fontsize=10)\n",
    "# ax.grid()\n",
    "# ax.set_title('Log Taxa Biomass {}'.format(['C','N','P'][ia]))"
   ]
  },
  {
   "cell_type": "code",
   "execution_count": null,
   "id": "0e751749",
   "metadata": {},
   "outputs": [],
   "source": [
    "# fig = plt.figure(figsize=(14,8))\n",
    "# for itax in range(tla_ncells['microbes']['values'].shape[1]):\n",
    "#     if (np.max(tla_ncells['microbes']['values'][:,itax]) > 0):\n",
    "#         plt.plot(tla_ncells['microbes']['times'],tla_ncells['microbes']['values'][:,itax], label='{}'.format(itax))\n",
    "# plt.legend(fontsize=6, ncol=6)\n",
    "# plt.title('Taxa ncell > 50')\n",
    "# plt.xlabel('Time')\n",
    "# plt.ylabel('Number of occupied cells')\n",
    "# plt.grid()\n"
   ]
  },
  {
   "cell_type": "code",
   "execution_count": null,
   "id": "dd123dcc",
   "metadata": {},
   "outputs": [],
   "source": []
  },
  {
   "cell_type": "code",
   "execution_count": null,
   "id": "dd4fd284",
   "metadata": {},
   "outputs": [],
   "source": [
    "for itax in range(eco.microbes.n_taxa):\n",
    "    fig, ax = plt.subplots(1,1)\n",
    "    dat = eco.microbes.tmass[:,:,itax,0]\n",
    "    tax_map = ax.imshow(dat, cmap='hot')\n",
    "    ax.set_title('{} Total mass'.format(eco.microbes.names[itax]))\n",
    "    plt.colorbar(tax_map)"
   ]
  },
  {
   "cell_type": "code",
   "execution_count": null,
   "id": "4218c367",
   "metadata": {},
   "outputs": [],
   "source": [
    "for isub in range(eco.substrates.n_components):\n",
    "    fig, ax = plt.subplots(1,1)\n",
    "    dat = eco.substrates.tmass[:,:,isub,0]\n",
    "    sub_map = ax.imshow(dat, cmap='hot')\n",
    "    ax.set_title(eco.substrates.names[isub])\n",
    "    plt.colorbar(sub_map)"
   ]
  },
  {
   "cell_type": "code",
   "execution_count": null,
   "id": "5a96ac1c",
   "metadata": {},
   "outputs": [],
   "source": [
    "for ienz in range(eco.degradation_enzymes.n_components):\n",
    "    fig, ax = plt.subplots(1,1)\n",
    "    dat = eco.degradation_enzymes.tmass[:,:,ienz,0]\n",
    "    enz_map = ax.imshow(dat, cmap='hot')\n",
    "    ax.set_title(eco.degradation_enzymes.names[ienz])\n",
    "    plt.colorbar(enz_map)"
   ]
  },
  {
   "cell_type": "code",
   "execution_count": null,
   "id": "c7d246cf",
   "metadata": {},
   "outputs": [],
   "source": []
  },
  {
   "cell_type": "code",
   "execution_count": null,
   "id": "d0ee7e73",
   "metadata": {},
   "outputs": [],
   "source": []
  },
  {
   "cell_type": "code",
   "execution_count": null,
   "id": "e223d6e9",
   "metadata": {},
   "outputs": [],
   "source": []
  },
  {
   "cell_type": "code",
   "execution_count": null,
   "id": "9794a05e",
   "metadata": {},
   "outputs": [],
   "source": []
  },
  {
   "cell_type": "code",
   "execution_count": null,
   "id": "c524c092",
   "metadata": {},
   "outputs": [],
   "source": []
  },
  {
   "cell_type": "code",
   "execution_count": null,
   "id": "9be21bcb",
   "metadata": {},
   "outputs": [],
   "source": []
  },
  {
   "cell_type": "code",
   "execution_count": null,
   "id": "518ee45d",
   "metadata": {},
   "outputs": [],
   "source": []
  },
  {
   "cell_type": "code",
   "execution_count": null,
   "id": "abfa0a14",
   "metadata": {},
   "outputs": [],
   "source": []
  },
  {
   "cell_type": "code",
   "execution_count": null,
   "id": "cac8fcf6",
   "metadata": {},
   "outputs": [],
   "source": []
  }
 ],
 "metadata": {
  "celltoolbar": "Hide code",
  "kernelspec": {
   "display_name": "Python 3",
   "language": "python",
   "name": "python3"
  },
  "language_info": {
   "codemirror_mode": {
    "name": "ipython",
    "version": 3
   },
   "file_extension": ".py",
   "mimetype": "text/x-python",
   "name": "python",
   "nbconvert_exporter": "python",
   "pygments_lexer": "ipython3",
   "version": "3.9.13"
  }
 },
 "nbformat": 4,
 "nbformat_minor": 5
}
